{
 "cells": [
  {
   "cell_type": "markdown",
   "id": "7127f8a3-b11a-4112-967f-4ee4c798adbd",
   "metadata": {},
   "source": [
    "# XHARPy Example: CpNa with GPAW\n",
    " - Program: GPAW\n",
    " - RPBE calculation\n",
    " - Constant core calculation\n",
    " - Read xd.hkl\n",
    " - Disorder on special position / Skip atoms\n",
    " \n",
    "\n",
    "This is an XHARPy example file for demonstrating how a Hirshfeld Atom Refinement with GPAW is set up. Specifically it is a demonstration of skipping atoms, which are disordered on a special position can be skipped from the calculation with skip_symm in the computation_dict. In this case we are fortunate enough, that this is all it takes to lead the refinement to a reasonable result. Otherwise restraints would be needed, which is something, that is not implemented at the moment"
   ]
  },
  {
   "cell_type": "code",
   "execution_count": null,
   "id": "d2b9134b-9410-4587-a967-8ff555839fc4",
   "metadata": {},
   "outputs": [],
   "source": [
    "from xharpy import (xd_hkl2pd, cif2data, lst2constraint_dict, create_construction_instructions,\n",
    "                    refine, write_cif, write_res, write_fcf, add_density_entries_from_fcf)\n",
    "import os"
   ]
  },
  {
   "cell_type": "code",
   "execution_count": null,
   "id": "e1ac92ad-37ee-45bb-a4b2-1d02069465c8",
   "metadata": {},
   "outputs": [],
   "source": [
    "output_folder = 'xharpy_output'\n",
    "if not os.path.exists(output_folder):\n",
    "    os.mkdir(output_folder)\n",
    "    \n",
    "filename = 'xharpy'"
   ]
  },
  {
   "cell_type": "markdown",
   "id": "ad7c9255-7469-47af-b134-cb9fb1a3d949",
   "metadata": {},
   "source": [
    "### Loading Data\n",
    "\n",
    "Notice how the constraints for H1 are copied from C1. This means we do not need an anisotropic H refinement in shelxl"
   ]
  },
  {
   "cell_type": "code",
   "execution_count": null,
   "id": "4bd4a5b7-26b6-4408-846e-c199d298fd2a",
   "metadata": {},
   "outputs": [],
   "source": [
    "atom_table, cell, cell_esd, symm_mats_vecs, symm_strings, wavelength  = cif2data('iam.cif', 0)\n",
    "atom_table['adp_type'] = 'Uani'\n",
    "atom_table[['U_11', 'U_22', 'U_33']] = atom_table[['U_11', 'U_22', 'U_33']].fillna(0.01)\n",
    "atom_table[['U_12', 'U_23', 'U_13']] = atom_table[['U_12', 'U_23', 'U_13']].fillna(0.00)"
   ]
  },
  {
   "cell_type": "code",
   "execution_count": null,
   "id": "6302cb03-a836-4369-a29e-50bc05f896f5",
   "metadata": {},
   "outputs": [],
   "source": [
    "hkl = xd_hkl2pd('xd.hkl')"
   ]
  },
  {
   "cell_type": "code",
   "execution_count": null,
   "id": "eec1bcf5-498b-4428-8592-748336bab8e7",
   "metadata": {},
   "outputs": [],
   "source": [
    "constraint_dict = lst2constraint_dict(\n",
    "    'iam.lst'\n",
    ")\n",
    "\n",
    "constraint_dict['H1'] = constraint_dict['C1']"
   ]
  },
  {
   "cell_type": "markdown",
   "id": "d9ecde78-df4f-40d9-a742-41c68aa564e0",
   "metadata": {},
   "source": [
    "### Setting options\n",
    "The central option for the special position is skip_symm. Unfortunately skip_symm only operates with indexes, as the inner routine does not know how the atoms are named.\n",
    "\n",
    "The first index, that is used as key is the atom_index. You can get it from the atom_table. The list afterwards are symmetry indexes which are skipped. These correspond to the indexes in both the symm_strings or the symm_mats_vecs"
   ]
  },
  {
   "cell_type": "code",
   "execution_count": null,
   "id": "dd337efe-030b-4693-b053-2aff450fde6f",
   "metadata": {},
   "outputs": [],
   "source": [
    "refinement_dict = {\n",
    "    'f0j_source': 'gpaw_mpi',\n",
    "    'reload_step': 1,\n",
    "    'core': 'constant',\n",
    "}"
   ]
  },
  {
   "cell_type": "code",
   "execution_count": null,
   "id": "114cacd6-c881-40df-a9de-cc5b8510ed7d",
   "metadata": {},
   "outputs": [],
   "source": [
    "computation_dict = {\n",
    "    'xc': 'RPBE',\n",
    "    'txt': os.path.join(output_folder, 'gpaw.txt'),\n",
    "    'mode': 'fd',\n",
    "    'h': 0.175,\n",
    "    'gridinterpolation': 4,\n",
    "    'symm_equiv': 'once',\n",
    "    'convergence':{'density': 1e-7},\n",
    "    'kpts': {'size': (1, 1, 1), 'gamma': True},\n",
    "    'symmetry': {'symmorphic': False},\n",
    "    'nbands': -2,\n",
    "    'save_file': os.path.join(output_folder, 'gpaw_result.gpw'),\n",
    "    'skip_symm': {\n",
    "        2: [2, 3, 6, 7], # For atom 2: Skip symmetry elements 2, 3, 6 and 7\n",
    "        3: [2, 3, 6, 7],\n",
    "        4: [2, 3, 6, 7]\n",
    "    }\n",
    "}"
   ]
  },
  {
   "cell_type": "markdown",
   "id": "357fefa0-2f9e-4471-bc57-c3f4e219c3cb",
   "metadata": {},
   "source": [
    "### Refine"
   ]
  },
  {
   "cell_type": "code",
   "execution_count": null,
   "id": "139ec144-c0ad-4558-a34d-28f0703f3858",
   "metadata": {},
   "outputs": [],
   "source": [
    "construction_instructions, parameters = create_construction_instructions(\n",
    "    atom_table=atom_table,\n",
    "    constraint_dict=constraint_dict,\n",
    "    refinement_dict=refinement_dict\n",
    ")\n"
   ]
  },
  {
   "cell_type": "code",
   "execution_count": null,
   "id": "1f0da413-52d9-46fa-89d5-73eb2e7f51a7",
   "metadata": {},
   "outputs": [],
   "source": [
    "\n",
    "parameters, var_cov_mat, information = refine(\n",
    "    cell=cell, \n",
    "    symm_mats_vecs=symm_mats_vecs,\n",
    "    hkl=hkl,\n",
    "    construction_instructions=construction_instructions,\n",
    "    parameters=parameters,\n",
    "    wavelength=wavelength,\n",
    "    refinement_dict=refinement_dict,\n",
    "    computation_dict=computation_dict\n",
    ")"
   ]
  },
  {
   "cell_type": "markdown",
   "id": "5d8a9774-85bb-4563-952e-b8f20ef3f0de",
   "metadata": {},
   "source": [
    "### Write Data to disk"
   ]
  },
  {
   "cell_type": "code",
   "execution_count": null,
   "id": "e45691cb-1c0b-4208-9ffc-5c9a88e3ad32",
   "metadata": {},
   "outputs": [],
   "source": [
    "write_fcf(\n",
    "    fcf_path=os.path.join(output_folder, filename + '.fcf'),\n",
    "    fcf_dataset='xharpy',\n",
    "    fcf_mode=4,\n",
    "    cell=cell,\n",
    "    hkl=hkl,\n",
    "    construction_instructions=construction_instructions,\n",
    "    parameters=parameters,\n",
    "    wavelength=wavelength,\n",
    "    refinement_dict=refinement_dict,\n",
    "    symm_strings=symm_strings,\n",
    "    information=information,\n",
    ");"
   ]
  },
  {
   "cell_type": "code",
   "execution_count": null,
   "id": "5845aabc-e796-4392-92f4-a4336a67ebb9",
   "metadata": {},
   "outputs": [],
   "source": [
    "write_fcf(\n",
    "    fcf_path=os.path.join(output_folder, filename + '_6.fcf'),\n",
    "    fcf_dataset='xharpy_6',\n",
    "    fcf_mode=6,\n",
    "    cell=cell,\n",
    "    hkl=hkl,\n",
    "    construction_instructions=construction_instructions,\n",
    "    parameters=parameters,\n",
    "    wavelength=wavelength,\n",
    "    refinement_dict=refinement_dict,\n",
    "    symm_strings=symm_strings,\n",
    "    information=information,\n",
    ");"
   ]
  },
  {
   "cell_type": "code",
   "execution_count": null,
   "id": "3ac4bb4e-563e-4751-871f-1d7485f14547",
   "metadata": {},
   "outputs": [],
   "source": [
    "write_res(\n",
    "    out_res_path=os.path.join(output_folder, filename + '_6.res'),\n",
    "    in_res_path='iam.lst',\n",
    "    cell=cell,\n",
    "    cell_esd=cell_esd,\n",
    "    construction_instructions=construction_instructions,\n",
    "    parameters=parameters,\n",
    "    wavelength=wavelength\n",
    ")"
   ]
  },
  {
   "cell_type": "code",
   "execution_count": null,
   "id": "dbfd579e-e6ce-4ed8-81dc-043fa8917562",
   "metadata": {},
   "outputs": [],
   "source": [
    "write_cif(\n",
    "    output_cif_path=os.path.join(output_folder, filename + '.cif'),\n",
    "    cif_dataset=filename,\n",
    "    shelx_cif_path='iam.cif',\n",
    "    shelx_dataset=0,\n",
    "    cell=cell,\n",
    "    cell_esd=cell_esd,\n",
    "    symm_mats_vecs=symm_mats_vecs,\n",
    "    hkl=hkl,\n",
    "    construction_instructions=construction_instructions,\n",
    "    parameters=parameters,\n",
    "    var_cov_mat=var_cov_mat,\n",
    "    refinement_dict=refinement_dict,\n",
    "    computation_dict=computation_dict,\n",
    "    information=information\n",
    ")"
   ]
  },
  {
   "cell_type": "code",
   "execution_count": null,
   "id": "c6ac651d-67e5-4a98-8802-c3c90ecd5fb4",
   "metadata": {},
   "outputs": [],
   "source": [
    "add_density_entries_from_fcf(\n",
    "    os.path.join(output_folder, 'xharpy.cif'),\n",
    "    os.path.join(output_folder, 'xharpy_6.fcf')\n",
    ")"
   ]
  },
  {
   "cell_type": "code",
   "execution_count": null,
   "id": "fb6d4d24-6d14-4435-98b7-0918f36def1b",
   "metadata": {},
   "outputs": [],
   "source": []
  }
 ],
 "metadata": {
  "kernelspec": {
   "display_name": "Python 3 (ipykernel)",
   "language": "python",
   "name": "python3"
  },
  "language_info": {
   "codemirror_mode": {
    "name": "ipython",
    "version": 3
   },
   "file_extension": ".py",
   "mimetype": "text/x-python",
   "name": "python",
   "nbconvert_exporter": "python",
   "pygments_lexer": "ipython3",
   "version": "3.8.12"
  }
 },
 "nbformat": 4,
 "nbformat_minor": 5
}
