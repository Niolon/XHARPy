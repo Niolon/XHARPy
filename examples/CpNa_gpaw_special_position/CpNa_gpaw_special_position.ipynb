{
 "cells": [
  {
   "cell_type": "markdown",
   "id": "7127f8a3-b11a-4112-967f-4ee4c798adbd",
   "metadata": {},
   "source": [
    "# CpNa with GPAW\n",
    "\n",
    "This is an xHARPy example file for demonstrating how a Hirshfeld Atom Refinement with GPAW is set up. Specifically it is a demonstration of skipping atoms, which are disordered on a special position can be skipped from the calculation with skip_symm in the computation_dict. In this case we are fortunate enough, that this is all it takes to lead the refinement to a reasonable result. Otherwise restraints would be needed, which is something, that is not implemented at the moment"
   ]
  },
  {
   "cell_type": "code",
   "execution_count": 9,
   "id": "d2b9134b-9410-4587-a967-8ff555839fc4",
   "metadata": {},
   "outputs": [],
   "source": [
    "from xharpy import (\n",
    "    cif2data, xd_hkl2pd, lst2constraint_dict, create_construction_instructions,\n",
    "    refine, write_cif, write_fcf, write_res\n",
    ")\n",
    "import os"
   ]
  },
  {
   "cell_type": "code",
   "execution_count": 10,
   "id": "e1ac92ad-37ee-45bb-a4b2-1d02069465c8",
   "metadata": {},
   "outputs": [],
   "source": [
    "output_folder = 'xharpy_output'\n",
    "if not os.path.exists(output_folder):\n",
    "    os.mkdir(output_folder)\n",
    "    \n",
    "filename = 'xharpy'"
   ]
  },
  {
   "cell_type": "code",
   "execution_count": 2,
   "id": "4bd4a5b7-26b6-4408-846e-c199d298fd2a",
   "metadata": {},
   "outputs": [],
   "source": [
    "atom_table, cell, cell_esd, symm_mats_vecs, symm_strings, wavelength  = cif2data('iam.cif', 0)"
   ]
  },
  {
   "cell_type": "code",
   "execution_count": 3,
   "id": "6302cb03-a836-4369-a29e-50bc05f896f5",
   "metadata": {},
   "outputs": [],
   "source": [
    "hkl = xd_hkl2pd('xd.hkl')"
   ]
  },
  {
   "cell_type": "code",
   "execution_count": 4,
   "id": "eec1bcf5-498b-4428-8592-748336bab8e7",
   "metadata": {},
   "outputs": [],
   "source": [
    "constraint_dict = lst2constraint_dict(\n",
    "    'iam.lst'\n",
    ")"
   ]
  },
  {
   "cell_type": "code",
   "execution_count": 5,
   "id": "dd337efe-030b-4693-b053-2aff450fde6f",
   "metadata": {},
   "outputs": [],
   "source": [
    "refinement_dict = {\n",
    "    'f0j_source': 'gpaw_mpi',\n",
    "    'reload_step': 1,\n",
    "    'core': 'constant',\n",
    "}"
   ]
  },
  {
   "cell_type": "code",
   "execution_count": 6,
   "id": "139ec144-c0ad-4558-a34d-28f0703f3858",
   "metadata": {},
   "outputs": [],
   "source": [
    "construction_instructions, parameters = create_construction_instructions(\n",
    "    atom_table=atom_table,\n",
    "    constraint_dict=constraint_dict,\n",
    "    refinement_dict=refinement_dict\n",
    ")\n"
   ]
  },
  {
   "cell_type": "code",
   "execution_count": 12,
   "id": "1f0da413-52d9-46fa-89d5-73eb2e7f51a7",
   "metadata": {},
   "outputs": [
    {
     "name": "stdout",
     "output_type": "stream",
     "text": [
      "Started refinement at  2022-01-05 14:07:29.183359\n",
      "Preparing\n",
      "  calculating the core structure factor by spline for Na\n",
      "  calculating the core structure factor by spline for N\n",
      "  calculating the core structure factor by spline for H\n",
      "  calculating the core structure factor by spline for C\n",
      "  calculating first atomic form factors\n"
     ]
    },
    {
     "name": "stderr",
     "output_type": "stream",
     "text": [
      "/home/niklas/Documents/har/xharpylib/xharpy/core.py:291: VisibleDeprecationWarning: Creating an ndarray from ragged nested sequences (which is a list-or-tuple of lists-or-tuples-or ndarrays with different lengths or shapes) is deprecated. If you meant to do this, you must specify 'dtype=object' when creating the ndarray.\n",
      "  return un_positions.copy(), type_symbols_symm, np.array(inv_indexes), magmoms_symm\n"
     ]
    },
    {
     "name": "stdout",
     "output_type": "stream",
     "text": [
      "  calculated density with energy -511.4028167516583\n",
      "  building least squares function\n",
      "  setting up gradients\n",
      "step 0: Optimizing scaling\n",
      "  wR2: 0.085704, number of iterations: 2\n",
      "  minimizing least squares sum\n",
      "  wR2: 0.048903, number of iterations: 102\n",
      "step 1: calculating new structure factors\n",
      "  calculated density with energy -545.5267843634941\n",
      "  minimizing least squares sum\n",
      "  wR2: 0.035719, number of iterations: 91\n",
      "step 2: calculating new structure factors\n",
      "  calculated density with energy -544.7679859378709\n",
      "  minimizing least squares sum\n",
      "  wR2: 0.037286, number of iterations: 86\n",
      "step 3: calculating new structure factors\n",
      "  calculated density with energy -545.3539759719841\n",
      "  minimizing least squares sum\n",
      "  wR2: 0.036815, number of iterations: 86\n",
      "step 4: calculating new structure factors\n",
      "  calculated density with energy -545.2043799784302\n",
      "  minimizing least squares sum\n",
      "  wR2: 0.036938, number of iterations: 85\n",
      "step 5: calculating new structure factors\n",
      "  calculated density with energy -545.2607126240408\n",
      "  minimizing least squares sum\n",
      "  wR2: 0.036900, number of iterations: 84\n",
      "step 6: calculating new structure factors\n",
      "  calculated density with energy -545.2402176056489\n",
      "  minimizing least squares sum\n",
      "  wR2: 0.036912, number of iterations: 84\n",
      "step 7: calculating new structure factors\n",
      "  calculated density with energy -545.2483012935054\n",
      "  minimizing least squares sum\n",
      "  wR2: 0.036908, number of iterations: 84\n",
      "step 8: calculating new structure factors\n",
      "  calculated density with energy -545.2450728296409\n",
      "  minimizing least squares sum\n",
      "  wR2: 0.036909, number of iterations: 0\n",
      "step 9: atom_positions are converged. No new structure factor calculation.\n",
      "  minimizing least squares sum\n",
      "  wR2: 0.036909, number of iterations: 0\n",
      "step 10: atom_positions are converged. No new structure factor calculation.\n",
      "  minimizing least squares sum\n",
      "  wR2: 0.036909, number of iterations: 0\n",
      "Calculation finished. calculating variance-covariance matrix.\n",
      "Ended refinement at  2022-01-05 16:16:55.440465\n"
     ]
    }
   ],
   "source": [
    "computation_dict = {\n",
    "    'xc': 'SCAN',\n",
    "    'txt': os.path.join(output_folder, 'gpaw.txt'),\n",
    "    'mode': 'fd',\n",
    "    'h': 0.15,\n",
    "    'gridinterpolation': 4,\n",
    "    'average_symmequiv': True,\n",
    "    'convergence':{'density': 1e-7},\n",
    "    'kpts': {'size': (1, 1, 1), 'gamma': True},\n",
    "    'symmetry': {'symmorphic': False},\n",
    "    'nbands': -2,\n",
    "    'save_file': os.path.join(output_folder, 'gpaw_result.gpw'),\n",
    "    'skip_symm': {\n",
    "        2: [2, 3, 6, 7],\n",
    "        3: [2, 3, 6, 7],\n",
    "        4: [2, 3, 6, 7]\n",
    "    }\n",
    "}\n",
    "parameters, var_cov_mat, information = refine(\n",
    "    cell=cell, \n",
    "    symm_mats_vecs=symm_mats_vecs,\n",
    "    hkl=hkl,\n",
    "    construction_instructions=construction_instructions,\n",
    "    parameters=parameters,\n",
    "    wavelength=wavelength,\n",
    "    refinement_dict=refinement_dict,\n",
    "    computation_dict=computation_dict\n",
    ")"
   ]
  },
  {
   "cell_type": "code",
   "execution_count": 13,
   "id": "e45691cb-1c0b-4208-9ffc-5c9a88e3ad32",
   "metadata": {},
   "outputs": [],
   "source": [
    "write_fcf(\n",
    "    fcf_path=os.path.join(output_folder, filename + '.fcf'),\n",
    "    fcf_dataset='xharpy',\n",
    "    fcf_mode=4,\n",
    "    cell=cell,\n",
    "    hkl=hkl,\n",
    "    construction_instructions=construction_instructions,\n",
    "    parameters=parameters,\n",
    "    wavelength=wavelength,\n",
    "    refinement_dict=refinement_dict,\n",
    "    symm_strings=symm_strings,\n",
    "    information=information,\n",
    ");"
   ]
  },
  {
   "cell_type": "code",
   "execution_count": 14,
   "id": "5845aabc-e796-4392-92f4-a4336a67ebb9",
   "metadata": {},
   "outputs": [],
   "source": [
    "write_fcf(\n",
    "    fcf_path=os.path.join(output_folder, filename + '_6.fcf'),\n",
    "    fcf_dataset='xharpy_6',\n",
    "    fcf_mode=6,\n",
    "    cell=cell,\n",
    "    hkl=hkl,\n",
    "    construction_instructions=construction_instructions,\n",
    "    parameters=parameters,\n",
    "    wavelength=wavelength,\n",
    "    refinement_dict=refinement_dict,\n",
    "    symm_strings=symm_strings,\n",
    "    information=information,\n",
    ");"
   ]
  },
  {
   "cell_type": "code",
   "execution_count": 15,
   "id": "3ac4bb4e-563e-4751-871f-1d7485f14547",
   "metadata": {},
   "outputs": [],
   "source": [
    "write_res(\n",
    "    out_res_path=os.path.join(output_folder, filename + '_6.res'),\n",
    "    in_res_path='iam.lst',\n",
    "    cell=cell,\n",
    "    cell_esd=cell_esd,\n",
    "    construction_instructions=construction_instructions,\n",
    "    parameters=parameters,\n",
    "    wavelength=wavelength\n",
    ")"
   ]
  },
  {
   "cell_type": "code",
   "execution_count": 16,
   "id": "dbfd579e-e6ce-4ed8-81dc-043fa8917562",
   "metadata": {},
   "outputs": [],
   "source": [
    "write_cif(\n",
    "    output_cif_path=os.path.join(output_folder, filename + '.cif'),\n",
    "    cif_dataset=filename,\n",
    "    shelx_cif_path='iam.cif',\n",
    "    shelx_dataset=0,\n",
    "    cell=cell,\n",
    "    cell_esd=cell_esd,\n",
    "    symm_mats_vecs=symm_mats_vecs,\n",
    "    hkl=hkl,\n",
    "    construction_instructions=construction_instructions,\n",
    "    parameters=parameters,\n",
    "    var_cov_mat=var_cov_mat,\n",
    "    refinement_dict=refinement_dict,\n",
    "    computation_dict=computation_dict,\n",
    "    information=information\n",
    ")"
   ]
  },
  {
   "cell_type": "code",
   "execution_count": null,
   "id": "c6ac651d-67e5-4a98-8802-c3c90ecd5fb4",
   "metadata": {},
   "outputs": [],
   "source": []
  }
 ],
 "metadata": {
  "kernelspec": {
   "display_name": "Python 3 (ipykernel)",
   "language": "python",
   "name": "python3"
  },
  "language_info": {
   "codemirror_mode": {
    "name": "ipython",
    "version": 3
   },
   "file_extension": ".py",
   "mimetype": "text/x-python",
   "name": "python",
   "nbconvert_exporter": "python",
   "pygments_lexer": "ipython3",
   "version": "3.8.12"
  }
 },
 "nbformat": 4,
 "nbformat_minor": 5
}
