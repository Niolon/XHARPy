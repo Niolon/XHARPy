{
 "cells": [
  {
   "cell_type": "markdown",
   "id": "be2de800-cbce-4033-a10f-be75787e783c",
   "metadata": {},
   "source": [
    "# XHARPy Example: 8-Hydroxy quinoline hydrogen maleate with GPAW\n",
    "- Program: GPAW\n",
    "- SCAN calculation\n",
    "- Using MPI\n",
    "- Constant Core calculation"
   ]
  },
  {
   "cell_type": "code",
   "execution_count": null,
   "id": "a2229241-5342-4aad-905e-8a6d9963c6f0",
   "metadata": {},
   "outputs": [],
   "source": [
    "from xharpy import (shelxl_hkl2pd, cif2data, lst2constraint_dict, create_construction_instructions,\n",
    "                    refine, write_cif, write_res, write_fcf, add_density_entries_from_fcf)\n",
    "import os"
   ]
  },
  {
   "cell_type": "code",
   "execution_count": null,
   "id": "b138c518-99cc-47c9-b4a1-ab9336a9e9ea",
   "metadata": {},
   "outputs": [],
   "source": [
    "output_folder = 'xharpy_output'\n",
    "if not os.path.exists(output_folder):\n",
    "    os.mkdir(output_folder)"
   ]
  },
  {
   "cell_type": "markdown",
   "id": "cb934ba8-0c23-4247-8900-f66b5c5f2241",
   "metadata": {},
   "source": [
    "### Loading Data"
   ]
  },
  {
   "cell_type": "code",
   "execution_count": null,
   "id": "1f79d1c2-1e36-4913-a9e5-2788237ff0d6",
   "metadata": {},
   "outputs": [],
   "source": [
    "atom_table, cell, cell_esd, symm_mats_vecs, symm_strings, wavelength  = cif2data('iam.cif', 0)"
   ]
  },
  {
   "cell_type": "code",
   "execution_count": null,
   "id": "5dcbf5a4-2012-43d1-8efd-8015d2f981d9",
   "metadata": {},
   "outputs": [],
   "source": [
    "atom_table['adp_type'] = 'Uani'\n",
    "atom_table[['U_11', 'U_22', 'U_33']] = atom_table[['U_11', 'U_22', 'U_33']].fillna(0.01)\n",
    "atom_table[['U_12', 'U_23', 'U_13']] = atom_table[['U_12', 'U_23', 'U_13']].fillna(0.00)"
   ]
  },
  {
   "cell_type": "code",
   "execution_count": null,
   "id": "6961cd4e-5383-4b38-a4ba-106e2b7f5147",
   "metadata": {},
   "outputs": [],
   "source": [
    "hkl = shelxl_hkl2pd('iam.hkl')"
   ]
  },
  {
   "cell_type": "code",
   "execution_count": null,
   "id": "774a736b-b677-464a-92d9-690091cab728",
   "metadata": {},
   "outputs": [],
   "source": [
    "constraint_dict = lst2constraint_dict('iam.lst')"
   ]
  },
  {
   "cell_type": "markdown",
   "id": "61d350cb-7a1a-4b6e-8495-79ac1d1026cf",
   "metadata": {},
   "source": [
    "### Setting Options"
   ]
  },
  {
   "cell_type": "code",
   "execution_count": null,
   "id": "16b285b7-8440-4282-b5be-beaeed203419",
   "metadata": {},
   "outputs": [],
   "source": [
    "refinement_dict = {\n",
    "    'f0j_source': 'gpaw_mpi',\n",
    "    'reload_step': 1,\n",
    "    'core': 'constant'\n",
    "}"
   ]
  },
  {
   "cell_type": "code",
   "execution_count": null,
   "id": "f26ae2e0-4053-4d91-b0e4-4749a7c95d5f",
   "metadata": {},
   "outputs": [],
   "source": [
    "computation_dict = {\n",
    "    'xc': 'SCAN',\n",
    "    'txt': os.path.join(output_folder, 'gpaw.txt'),\n",
    "    'mode': 'fd',\n",
    "    'h': 0.15,\n",
    "    'gridinterpolation': 4,\n",
    "    'symm_equiv': 'once',\n",
    "    'convergence':{'density': 1e-7},\n",
    "    'kpts': {'size': (1, 1, 1), 'gamma': True},\n",
    "    'symmetry': {'symmorphic': False},\n",
    "    'nbands': -2,\n",
    "    'save_file': os.path.join(output_folder, 'gpaw_result.gpw')\n",
    "\n",
    "}"
   ]
  },
  {
   "cell_type": "markdown",
   "id": "15413c56-2818-4f6d-be40-9cb7462c7663",
   "metadata": {},
   "source": [
    "### Refinement"
   ]
  },
  {
   "cell_type": "code",
   "execution_count": null,
   "id": "b899b661-42d3-4cff-9368-3be7ce914463",
   "metadata": {},
   "outputs": [],
   "source": [
    "\n",
    "construction_instructions, parameters = create_construction_instructions(\n",
    "    atom_table=atom_table,\n",
    "    constraint_dict=constraint_dict,\n",
    "    refinement_dict=refinement_dict\n",
    ")\n"
   ]
  },
  {
   "cell_type": "code",
   "execution_count": null,
   "id": "0278f051-dec6-455e-8b49-5d425798fc7b",
   "metadata": {},
   "outputs": [],
   "source": [
    "parameters, var_cov_mat, information = refine(\n",
    "    cell=cell, \n",
    "    symm_mats_vecs=symm_mats_vecs,\n",
    "    hkl=hkl,\n",
    "    construction_instructions=construction_instructions,\n",
    "    parameters=parameters,\n",
    "    wavelength=wavelength,\n",
    "    refinement_dict=refinement_dict,\n",
    "    computation_dict=computation_dict\n",
    ")"
   ]
  },
  {
   "cell_type": "markdown",
   "id": "22ce87bd-492d-45c9-bb35-a6f6f6289cb6",
   "metadata": {},
   "source": [
    "### Writing Data to Disk"
   ]
  },
  {
   "cell_type": "code",
   "execution_count": null,
   "id": "cc853f9c-4f13-4159-b2f6-65d290aa01b9",
   "metadata": {},
   "outputs": [],
   "source": [
    "write_fcf(\n",
    "    fcf_path=os.path.join(output_folder, 'xharpy.fcf'),\n",
    "    fcf_dataset='xharpy',\n",
    "    fcf_mode=4,\n",
    "    cell=cell,\n",
    "    hkl=hkl,\n",
    "    construction_instructions=construction_instructions,\n",
    "    parameters=parameters,\n",
    "    wavelength=wavelength,\n",
    "    refinement_dict=refinement_dict,\n",
    "    symm_strings=symm_strings,\n",
    "    information=information,\n",
    ");"
   ]
  },
  {
   "cell_type": "code",
   "execution_count": null,
   "id": "fc545c0e-0904-4ecb-a383-4633242b25d6",
   "metadata": {},
   "outputs": [],
   "source": [
    "write_fcf(\n",
    "    fcf_path=os.path.join(output_folder, 'xharpy_6.fcf'),\n",
    "    fcf_dataset='xharpy_6',\n",
    "    fcf_mode=6,\n",
    "    cell=cell,\n",
    "    hkl=hkl,\n",
    "    construction_instructions=construction_instructions,\n",
    "    parameters=parameters,\n",
    "    wavelength=wavelength,\n",
    "    refinement_dict=refinement_dict,\n",
    "    symm_strings=symm_strings,\n",
    "    information=information,\n",
    ");"
   ]
  },
  {
   "cell_type": "code",
   "execution_count": null,
   "id": "d271149f-405d-4bd8-831e-2971072ffcde",
   "metadata": {},
   "outputs": [],
   "source": [
    "write_res(\n",
    "    out_res_path=os.path.join(output_folder, 'xharpy_6.res'),\n",
    "    in_res_path='iam.lst',\n",
    "    cell=cell,\n",
    "    cell_esd=cell_esd,\n",
    "    construction_instructions=construction_instructions,\n",
    "    parameters=parameters,\n",
    "    wavelength=wavelength\n",
    ")"
   ]
  },
  {
   "cell_type": "code",
   "execution_count": null,
   "id": "2f0244c9-437b-426b-bc51-2554c4ce7ea8",
   "metadata": {},
   "outputs": [],
   "source": [
    "write_cif(\n",
    "    output_cif_path=os.path.join(output_folder, 'xharpy.cif'),\n",
    "    cif_dataset='xharpy',\n",
    "    shelx_cif_path='iam.cif',\n",
    "    shelx_dataset=0,\n",
    "    cell=cell,\n",
    "    cell_esd=cell_esd,\n",
    "    symm_mats_vecs=symm_mats_vecs,\n",
    "    hkl=hkl,\n",
    "    construction_instructions=construction_instructions,\n",
    "    parameters=parameters,\n",
    "    var_cov_mat=var_cov_mat,\n",
    "    refinement_dict=refinement_dict,\n",
    "    computation_dict=computation_dict,\n",
    "    information=information\n",
    ")"
   ]
  },
  {
   "cell_type": "code",
   "execution_count": null,
   "id": "ffc7511b-0e2a-49f0-9323-4472a5291d4f",
   "metadata": {},
   "outputs": [],
   "source": [
    "add_density_entries_from_fcf(\n",
    "    os.path.join(output_folder, 'xharpy.cif'),\n",
    "    os.path.join(output_folder, 'xharpy_6.fcf')\n",
    ")"
   ]
  },
  {
   "cell_type": "code",
   "execution_count": null,
   "id": "225da56f-f671-4411-8382-57f868f1cbd0",
   "metadata": {},
   "outputs": [],
   "source": []
  }
 ],
 "metadata": {
  "kernelspec": {
   "display_name": "Python 3 (ipykernel)",
   "language": "python",
   "name": "python3"
  },
  "language_info": {
   "codemirror_mode": {
    "name": "ipython",
    "version": 3
   },
   "file_extension": ".py",
   "mimetype": "text/x-python",
   "name": "python",
   "nbconvert_exporter": "python",
   "pygments_lexer": "ipython3",
   "version": "3.8.12"
  }
 },
 "nbformat": 4,
 "nbformat_minor": 5
}
