{
 "cells": [
  {
   "cell_type": "markdown",
   "id": "be2de800-cbce-4033-a10f-be75787e783c",
   "metadata": {},
   "source": [
    "# L-Alanin with GPAW\n",
    "\n",
    "This is an xHARPy example file for demonstrating how a Hirshfeld Atom Refinement with GPAW is set up."
   ]
  },
  {
   "cell_type": "code",
   "execution_count": 1,
   "id": "a2229241-5342-4aad-905e-8a6d9963c6f0",
   "metadata": {},
   "outputs": [
    {
     "name": "stderr",
     "output_type": "stream",
     "text": [
      "WARNING:absl:No GPU/TPU found, falling back to CPU. (Set TF_CPP_MIN_LOG_LEVEL=0 and rerun for more info.)\n"
     ]
    }
   ],
   "source": [
    "from xharpy import shelxl_hkl_to_pd, cif2data, lst2constraint_dict, create_construction_instructions, refine, write_cif, write_res, write_fcf\n",
    "import os"
   ]
  },
  {
   "cell_type": "code",
   "execution_count": 2,
   "id": "b138c518-99cc-47c9-b4a1-ab9336a9e9ea",
   "metadata": {},
   "outputs": [],
   "source": [
    "output_folder = 'xharpy_output'\n",
    "if not os.path.exists(output_folder):\n",
    "    os.mkdir(output_folder)"
   ]
  },
  {
   "cell_type": "code",
   "execution_count": 3,
   "id": "1f79d1c2-1e36-4913-a9e5-2788237ff0d6",
   "metadata": {},
   "outputs": [],
   "source": [
    "atom_table, cell, cell_esd, symm_mats_vecs, wavelength, symm_strings = cif2data('iam.cif', 0)"
   ]
  },
  {
   "cell_type": "code",
   "execution_count": 4,
   "id": "6961cd4e-5383-4b38-a4ba-106e2b7f5147",
   "metadata": {},
   "outputs": [],
   "source": [
    "hkl = shelxl_hkl_to_pd('iam.hkl')"
   ]
  },
  {
   "cell_type": "code",
   "execution_count": 5,
   "id": "774a736b-b677-464a-92d9-690091cab728",
   "metadata": {},
   "outputs": [],
   "source": [
    "constraint_dict = lst2constraint_dict(\n",
    "    'iam.lst'\n",
    ")"
   ]
  },
  {
   "cell_type": "code",
   "execution_count": 9,
   "id": "16b285b7-8440-4282-b5be-beaeed203419",
   "metadata": {},
   "outputs": [],
   "source": [
    "refinement_dict = {\n",
    "    'f0j_source': 'gpaw',\n",
    "    'reload_step': 1,\n",
    "    'core': 'constant',\n",
    "    'save_file': os.path.join(output_folder, 'gpaw_result.gpw')\n",
    "}"
   ]
  },
  {
   "cell_type": "code",
   "execution_count": 10,
   "id": "f26ae2e0-4053-4d91-b0e4-4749a7c95d5f",
   "metadata": {},
   "outputs": [],
   "source": [
    "construction_instructions, parameters = create_construction_instructions(\n",
    "    atom_table=atom_table,\n",
    "    constraint_dict=constraint_dict,\n",
    "    refinement_dict=refinement_dict\n",
    ")\n"
   ]
  },
  {
   "cell_type": "code",
   "execution_count": 14,
   "id": "b899b661-42d3-4cff-9368-3be7ce914463",
   "metadata": {},
   "outputs": [],
   "source": [
    "computation_dict = {\n",
    "    'xc': 'SCAN',\n",
    "    'txt': os.path.join(output_folder, 'gpaw.txt'),\n",
    "    'mode': 'fd',\n",
    "    'basis': 'tzp',\n",
    "    'h': 0.15,\n",
    "    'gridinterpolation': 4,\n",
    "    #'poissonsolver': poissonsolver,d\n",
    "    'average_symmequiv': False,\n",
    "    'convergence':{'density': 1e-7},\n",
    "    'kpts': {'size': (2, 2, 2), 'gamma': True},\n",
    "    #'kpts': {'size': (1, 1, 1), 'gamma': True},\n",
    "    'symmetry': {'symmorphic': False},\n",
    "    'nbands': -2\n",
    "}"
   ]
  },
  {
   "cell_type": "code",
   "execution_count": null,
   "id": "0278f051-dec6-455e-8b49-5d425798fc7b",
   "metadata": {},
   "outputs": [
    {
     "name": "stdout",
     "output_type": "stream",
     "text": [
      "Started refinement at  2022-01-03 16:20:01.641493\n",
      "Preparing\n",
      "  calculating the core structure factor for O\n"
     ]
    }
   ],
   "source": [
    "parameters, var_cov_mat, information = refine(\n",
    "    cell=cell, \n",
    "    symm_mats_vecs=symm_mats_vecs,\n",
    "    hkl=hkl,\n",
    "    construction_instructions=construction_instructions,\n",
    "    parameters=parameters,\n",
    "    wavelength=wavelength,\n",
    "    refinement_dict=refinement_dict,\n",
    "    computation_dict=computation_dict\n",
    ")"
   ]
  },
  {
   "cell_type": "code",
   "execution_count": 8,
   "id": "9e228de7-b354-4191-8635-63ed4c8c3fab",
   "metadata": {},
   "outputs": [
    {
     "data": {
      "text/plain": [
       "\u001b[0;31mSignature:\u001b[0m\n",
       "\u001b[0mrefine\u001b[0m\u001b[0;34m(\u001b[0m\u001b[0;34m\u001b[0m\n",
       "\u001b[0;34m\u001b[0m    \u001b[0mcell\u001b[0m\u001b[0;34m:\u001b[0m \u001b[0mjax\u001b[0m\u001b[0;34m.\u001b[0m\u001b[0m_src\u001b[0m\u001b[0;34m.\u001b[0m\u001b[0mnumpy\u001b[0m\u001b[0;34m.\u001b[0m\u001b[0mlax_numpy\u001b[0m\u001b[0;34m.\u001b[0m\u001b[0mndarray\u001b[0m\u001b[0;34m,\u001b[0m\u001b[0;34m\u001b[0m\n",
       "\u001b[0;34m\u001b[0m    \u001b[0msymm_mats_vecs\u001b[0m\u001b[0;34m:\u001b[0m \u001b[0mTuple\u001b[0m\u001b[0;34m[\u001b[0m\u001b[0mjax\u001b[0m\u001b[0;34m.\u001b[0m\u001b[0m_src\u001b[0m\u001b[0;34m.\u001b[0m\u001b[0mnumpy\u001b[0m\u001b[0;34m.\u001b[0m\u001b[0mlax_numpy\u001b[0m\u001b[0;34m.\u001b[0m\u001b[0mndarray\u001b[0m\u001b[0;34m,\u001b[0m \u001b[0mjax\u001b[0m\u001b[0;34m.\u001b[0m\u001b[0m_src\u001b[0m\u001b[0;34m.\u001b[0m\u001b[0mnumpy\u001b[0m\u001b[0;34m.\u001b[0m\u001b[0mlax_numpy\u001b[0m\u001b[0;34m.\u001b[0m\u001b[0mndarray\u001b[0m\u001b[0;34m]\u001b[0m\u001b[0;34m,\u001b[0m\u001b[0;34m\u001b[0m\n",
       "\u001b[0;34m\u001b[0m    \u001b[0mhkl\u001b[0m\u001b[0;34m:\u001b[0m \u001b[0mpandas\u001b[0m\u001b[0;34m.\u001b[0m\u001b[0mcore\u001b[0m\u001b[0;34m.\u001b[0m\u001b[0mframe\u001b[0m\u001b[0;34m.\u001b[0m\u001b[0mDataFrame\u001b[0m\u001b[0;34m,\u001b[0m\u001b[0;34m\u001b[0m\n",
       "\u001b[0;34m\u001b[0m    \u001b[0mconstruction_instructions\u001b[0m\u001b[0;34m:\u001b[0m \u001b[0mList\u001b[0m\u001b[0;34m[\u001b[0m\u001b[0mxharpy\u001b[0m\u001b[0;34m.\u001b[0m\u001b[0mcore\u001b[0m\u001b[0;34m.\u001b[0m\u001b[0mAtomInstructions\u001b[0m\u001b[0;34m]\u001b[0m\u001b[0;34m,\u001b[0m\u001b[0;34m\u001b[0m\n",
       "\u001b[0;34m\u001b[0m    \u001b[0mparameters\u001b[0m\u001b[0;34m:\u001b[0m \u001b[0mjax\u001b[0m\u001b[0;34m.\u001b[0m\u001b[0m_src\u001b[0m\u001b[0;34m.\u001b[0m\u001b[0mnumpy\u001b[0m\u001b[0;34m.\u001b[0m\u001b[0mlax_numpy\u001b[0m\u001b[0;34m.\u001b[0m\u001b[0mndarray\u001b[0m\u001b[0;34m,\u001b[0m\u001b[0;34m\u001b[0m\n",
       "\u001b[0;34m\u001b[0m    \u001b[0mwavelength\u001b[0m\u001b[0;34m:\u001b[0m \u001b[0mUnion\u001b[0m\u001b[0;34m[\u001b[0m\u001b[0mfloat\u001b[0m\u001b[0;34m,\u001b[0m \u001b[0mNoneType\u001b[0m\u001b[0;34m]\u001b[0m \u001b[0;34m=\u001b[0m \u001b[0;32mNone\u001b[0m\u001b[0;34m,\u001b[0m\u001b[0;34m\u001b[0m\n",
       "\u001b[0;34m\u001b[0m    \u001b[0mrefinement_dict\u001b[0m\u001b[0;34m:\u001b[0m \u001b[0mdict\u001b[0m \u001b[0;34m=\u001b[0m \u001b[0;34m{\u001b[0m\u001b[0;34m}\u001b[0m\u001b[0;34m,\u001b[0m\u001b[0;34m\u001b[0m\n",
       "\u001b[0;34m\u001b[0m    \u001b[0mcomputation_dict\u001b[0m\u001b[0;34m:\u001b[0m \u001b[0mdict\u001b[0m \u001b[0;34m=\u001b[0m \u001b[0;34m{\u001b[0m\u001b[0;34m}\u001b[0m\u001b[0;34m,\u001b[0m\u001b[0;34m\u001b[0m\n",
       "\u001b[0;34m\u001b[0m\u001b[0;34m)\u001b[0m \u001b[0;34m->\u001b[0m \u001b[0mTuple\u001b[0m\u001b[0;34m[\u001b[0m\u001b[0mjax\u001b[0m\u001b[0;34m.\u001b[0m\u001b[0m_src\u001b[0m\u001b[0;34m.\u001b[0m\u001b[0mnumpy\u001b[0m\u001b[0;34m.\u001b[0m\u001b[0mlax_numpy\u001b[0m\u001b[0;34m.\u001b[0m\u001b[0mndarray\u001b[0m\u001b[0;34m,\u001b[0m \u001b[0mjax\u001b[0m\u001b[0;34m.\u001b[0m\u001b[0m_src\u001b[0m\u001b[0;34m.\u001b[0m\u001b[0mnumpy\u001b[0m\u001b[0;34m.\u001b[0m\u001b[0mlax_numpy\u001b[0m\u001b[0;34m.\u001b[0m\u001b[0mndarray\u001b[0m\u001b[0;34m,\u001b[0m \u001b[0mDict\u001b[0m\u001b[0;34m[\u001b[0m\u001b[0mstr\u001b[0m\u001b[0;34m,\u001b[0m \u001b[0mAny\u001b[0m\u001b[0;34m]\u001b[0m\u001b[0;34m]\u001b[0m\u001b[0;34m\u001b[0m\u001b[0;34m\u001b[0m\u001b[0m\n",
       "\u001b[0;31mDocstring:\u001b[0m\n",
       "Refinement routine. The routine will refine for the given intensities\n",
       "against wR2(F^2).\n",
       "\n",
       "Parameters\n",
       "----------\n",
       "cell : jnp.ndarray\n",
       "    array with the lattice constants (Angstroem, Degree)\n",
       "symm_mats_vecs : Tuple[jnp.ndarray, jnp.ndarray]\n",
       "  size (K, 3, 3) array of symmetry matrices and (K, 3) array of translation\n",
       "    vectors for all symmetry elements in the unit cell\n",
       "hkl : pd.DataFrame\n",
       "    pandas DataFrame containing the reflection data. Needs to have at least\n",
       "    five columns: h, k, l, intensity, weight. Alternatively weight can be \n",
       "    substituted by esd_int. If no weight column is available the weights\n",
       "    will be calculated as 1/est_int**2. Additional columns will be ignored\n",
       "construction_instructions : List[AtomInstructions]\n",
       "    List of instructions for reconstructing the atomic parameters from the\n",
       "    list of refined parameters\n",
       "parameters : jnp.ndarray\n",
       "    Starting values for the list of parameters\n",
       "wavelength : Optional[float], optional\n",
       "    Measurement wavelength in Angstroem. Currently only used for Shelxl \n",
       "    style extinction correction. Can be omitted otherwise, by default None\n",
       "refinement_dict : dict, optional\n",
       "    Dictionary with refinement options, by default {}\n",
       "    Available options are:\n",
       "      - f0j_source: \n",
       "        Source of the atomic form factors. The computation_dict \n",
       "        will be passed on to this method. See the individual files in\n",
       "        f0j_sources for more information, by default 'gpaw'\n",
       "        Tested options: 'gpaw', 'iam', 'gpaw_mpi'\n",
       "        Some limitations: 'gpaw_spherical'\n",
       "        Still untested: 'gpaw_lcorr', 'gpaw_mbis', 'qe'\n",
       "      - reload_step:   \n",
       "        Starting with this step the computation will try to reuse the \n",
       "        density, if this is implemented in the source, by default 1\n",
       "      - core:\n",
       "        If this is implemented in a f0j_source, it will integrate the \n",
       "        frozen core density on a spherical grid and only use the valence\n",
       "        density for the updated atomic form factos options are \n",
       "        'combine', which will not treat the core density separately,\n",
       "        'constant' which will integrate and add the core density without\n",
       "        scaling parameter and 'scale' which will refine a scaling \n",
       "        parameter for the core density which might for systematic\n",
       "        deviations due to a coarse valence density grid (untested!)\n",
       "        By default 'constant'\n",
       "      - extinction:\n",
       "        Use an extinction correction. Options: 'none' -> no extinction\n",
       "        correction, 'shelxl' use the (empirical) formula used by SHELXL \n",
       "        to correct to correct for extinction, 'secondary' see Giacovazzo\n",
       "        et al. 'Fundmentals of Crystallography' (1992) p.97, by default\n",
       "        'none'\n",
       "      - flack:\n",
       "        Refinement of the flack parameter. Free lunch ist currently not\n",
       "        implemented, by default False\n",
       "      - max_dist_recalc:\n",
       "        If the max difference in atomic positions is under this value in \n",
       "        Angstroems, no new structure factors will be calculated, by\n",
       "        default 1e-6\n",
       "      - max_iter:\n",
       "        Maximum of refinement cycles if convergence not reached, by \n",
       "        default: 100\n",
       "      - min_iter:\n",
       "        Minimum refinement cycles. The refinement will stop if the\n",
       "        wR2 increases if the current cycle is higher than min_iter,\n",
       "        by default 10\n",
       "      - restraints:\n",
       "        Not fully implemented. Do not use at the moment, by default []\n",
       "      - save_file:\n",
       "        Path to a file, where densities will be saved.\n",
       "\n",
       "computation_dict : dict, optional\n",
       "    Dict with options that are passed on to the f0j_source. See the \n",
       "    individual calc_f0j functions for a more detailed description, by \n",
       "    default {}\n",
       "\n",
       "Returns\n",
       "-------\n",
       "parameters: jnp.ndarray\n",
       "    final refined parameters.\n",
       "var_cov_mat: jnp.ndarray,\n",
       "    variance covariance matrix of the final refinement step\n",
       "information: Dict[str, Any]\n",
       "    Dictionary with additional information, some of this is needed for \n",
       "    cif output\n",
       "\n",
       "Raises\n",
       "------\n",
       "NotImplementedError\n",
       "    f0j_source not implemented\n",
       "NotImplementedError\n",
       "    Unknown core description\n",
       "NotImplementedError\n",
       "    Second point where the core description could be missing\n",
       "\u001b[0;31mFile:\u001b[0m      ~/Documents/har/xharpylib/xharpy/core.py\n",
       "\u001b[0;31mType:\u001b[0m      function\n"
      ]
     },
     "metadata": {},
     "output_type": "display_data"
    }
   ],
   "source": [
    "?refine"
   ]
  },
  {
   "cell_type": "code",
   "execution_count": null,
   "id": "71fe3df0-9251-4830-b222-dc5ddf5c10e7",
   "metadata": {},
   "outputs": [],
   "source": []
  }
 ],
 "metadata": {
  "kernelspec": {
   "display_name": "Python 3 (ipykernel)",
   "language": "python",
   "name": "python3"
  },
  "language_info": {
   "codemirror_mode": {
    "name": "ipython",
    "version": 3
   },
   "file_extension": ".py",
   "mimetype": "text/x-python",
   "name": "python",
   "nbconvert_exporter": "python",
   "pygments_lexer": "ipython3",
   "version": "3.8.12"
  }
 },
 "nbformat": 4,
 "nbformat_minor": 5
}
