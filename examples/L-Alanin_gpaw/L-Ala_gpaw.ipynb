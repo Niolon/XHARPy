{
 "cells": [
  {
   "cell_type": "markdown",
   "id": "be2de800-cbce-4033-a10f-be75787e783c",
   "metadata": {},
   "source": [
    "# L-Alanin with GPAW\n",
    "\n",
    "This is an xHARPy example file for demonstrating how a Hirshfeld Atom Refinement with GPAW is set up."
   ]
  },
  {
   "cell_type": "code",
   "execution_count": 1,
   "id": "a2229241-5342-4aad-905e-8a6d9963c6f0",
   "metadata": {},
   "outputs": [
    {
     "name": "stderr",
     "output_type": "stream",
     "text": [
      "WARNING:absl:No GPU/TPU found, falling back to CPU. (Set TF_CPP_MIN_LOG_LEVEL=0 and rerun for more info.)\n"
     ]
    }
   ],
   "source": [
    "from xharpy import shelxl_hkl2pd, cif2data, lst2constraint_dict, create_construction_instructions, refine, write_cif, write_res, write_fcf\n",
    "import os"
   ]
  },
  {
   "cell_type": "code",
   "execution_count": 2,
   "id": "b566595d-9e2c-42b6-b950-aa04e4d8646c",
   "metadata": {},
   "outputs": [],
   "source": [
    "%load_ext autoreload\n",
    "%autoreload 2"
   ]
  },
  {
   "cell_type": "code",
   "execution_count": 3,
   "id": "b138c518-99cc-47c9-b4a1-ab9336a9e9ea",
   "metadata": {},
   "outputs": [],
   "source": [
    "output_folder = 'xharpy_output'\n",
    "if not os.path.exists(output_folder):\n",
    "    os.mkdir(output_folder)"
   ]
  },
  {
   "cell_type": "code",
   "execution_count": 4,
   "id": "1f79d1c2-1e36-4913-a9e5-2788237ff0d6",
   "metadata": {},
   "outputs": [],
   "source": [
    "atom_table, cell, cell_esd, symm_mats_vecs, symm_strings, wavelength  = cif2data('iam.cif', 0)"
   ]
  },
  {
   "cell_type": "code",
   "execution_count": 5,
   "id": "5dcbf5a4-2012-43d1-8efd-8015d2f981d9",
   "metadata": {},
   "outputs": [],
   "source": [
    "atom_table['adp_type'] = 'Uani'\n",
    "atom_table[['U_11', 'U_22', 'U_33']] = atom_table[['U_11', 'U_22', 'U_33']].fillna(0.01)\n",
    "atom_table[['U_12', 'U_23', 'U_13']] = atom_table[['U_12', 'U_23', 'U_13']].fillna(0.00)"
   ]
  },
  {
   "cell_type": "code",
   "execution_count": 6,
   "id": "6961cd4e-5383-4b38-a4ba-106e2b7f5147",
   "metadata": {},
   "outputs": [],
   "source": [
    "hkl = shelxl_hkl_to_pd('iam.hkl')"
   ]
  },
  {
   "cell_type": "code",
   "execution_count": 7,
   "id": "774a736b-b677-464a-92d9-690091cab728",
   "metadata": {},
   "outputs": [],
   "source": [
    "constraint_dict = lst2constraint_dict(\n",
    "    'iam.lst'\n",
    ")"
   ]
  },
  {
   "cell_type": "code",
   "execution_count": 8,
   "id": "16b285b7-8440-4282-b5be-beaeed203419",
   "metadata": {},
   "outputs": [],
   "source": [
    "refinement_dict = {\n",
    "    'f0j_source': 'gpaw_mpi',\n",
    "    'reload_step': 1,\n",
    "    'core': 'constant',\n",
    "    'save_file': os.path.join(output_folder, 'gpaw_result.gpw')\n",
    "}"
   ]
  },
  {
   "cell_type": "code",
   "execution_count": 9,
   "id": "f26ae2e0-4053-4d91-b0e4-4749a7c95d5f",
   "metadata": {},
   "outputs": [],
   "source": [
    "construction_instructions, parameters = create_construction_instructions(\n",
    "    atom_table=atom_table,\n",
    "    constraint_dict=constraint_dict,\n",
    "    refinement_dict=refinement_dict\n",
    ")\n"
   ]
  },
  {
   "cell_type": "code",
   "execution_count": 16,
   "id": "b899b661-42d3-4cff-9368-3be7ce914463",
   "metadata": {},
   "outputs": [],
   "source": [
    "computation_dict = {\n",
    "    'xc': 'SCAN',\n",
    "    'txt': os.path.join(output_folder, 'gpaw.txt'),\n",
    "    'mode': 'fd',\n",
    "    'h': 0.15,\n",
    "    'gridinterpolation': 4,\n",
    "    #'poissonsolver': poissonsolver,d\n",
    "    'average_symmequiv': False,\n",
    "    'convergence':{'density': 1e-7},\n",
    "    #'kpts': {'size': (2, 2, 2), 'gamma': True},\n",
    "    'kpts': {'size': (1, 1, 1), 'gamma': True},\n",
    "    'symmetry': {'symmorphic': False},\n",
    "    'nbands': -2\n",
    "}"
   ]
  },
  {
   "cell_type": "code",
   "execution_count": 17,
   "id": "0278f051-dec6-455e-8b49-5d425798fc7b",
   "metadata": {},
   "outputs": [
    {
     "name": "stdout",
     "output_type": "stream",
     "text": [
      "Started refinement at  2022-01-03 21:19:36.397390\n",
      "Preparing\n",
      "  calculating the core structure factor for O\n",
      "  calculating the core structure factor for N\n",
      "  calculating the core structure factor for H\n",
      "  calculating the core structure factor for C\n",
      "  calculating first atomic form factors\n",
      "  calculated density with energy -335.9242704581883\n",
      "  building least squares function\n",
      "  setting up gradients\n",
      "step 0: Optimizing scaling\n",
      "  wR2: 0.016988, nit: 2, Optimization terminated successfully.\n",
      "  minimizing least squares sum\n",
      "  wR2: 0.016954, nit: 127, Optimization terminated successfully.\n",
      "step 1: calculating new structure factors\n",
      "  calculated density with energy -335.92532470322186\n",
      "  minimizing least squares sum\n",
      "  wR2: 0.016954, nit: 125, Optimization terminated successfully.\n",
      "step 2: calculating new structure factors\n",
      "  calculated density with energy -335.9251425518599\n",
      "  minimizing least squares sum\n",
      "  wR2: 0.016954, nit: 126, Optimization terminated successfully.\n",
      "step 3: calculating new structure factors\n",
      "  calculated density with energy -335.9251885564506\n",
      "  minimizing least squares sum\n",
      "  wR2: 0.016954, nit: 125, Optimization terminated successfully.\n",
      "step 4: calculating new structure factors\n",
      "  calculated density with energy -335.9251797178403\n",
      "  minimizing least squares sum\n",
      "  wR2: 0.016954, nit: 0, Desired error not necessarily achieved due to precision loss.\n",
      "step 5: atom_positions are converged. No new structure factor calculation.\n",
      "  minimizing least squares sum\n",
      "  wR2: 0.016954, nit: 0, Desired error not necessarily achieved due to precision loss.\n",
      "step 6: atom_positions are converged. No new structure factor calculation.\n",
      "  minimizing least squares sum\n",
      "  wR2: 0.016954, nit: 0, Desired error not necessarily achieved due to precision loss.\n",
      "step 7: atom_positions are converged. No new structure factor calculation.\n",
      "  minimizing least squares sum\n",
      "  wR2: 0.016954, nit: 0, Desired error not necessarily achieved due to precision loss.\n",
      "step 8: atom_positions are converged. No new structure factor calculation.\n",
      "  minimizing least squares sum\n",
      "  wR2: 0.016954, nit: 0, Desired error not necessarily achieved due to precision loss.\n",
      "step 9: atom_positions are converged. No new structure factor calculation.\n",
      "  minimizing least squares sum\n",
      "  wR2: 0.016954, nit: 0, Desired error not necessarily achieved due to precision loss.\n",
      "step 10: atom_positions are converged. No new structure factor calculation.\n",
      "  minimizing least squares sum\n",
      "  wR2: 0.016954, nit: 0, Desired error not necessarily achieved due to precision loss.\n",
      "Calculation finished. calculating variance-covariance matrix.\n",
      "Ended refinement at  2022-01-03 21:40:17.666268\n"
     ]
    }
   ],
   "source": [
    "parameters, var_cov_mat, information = refine(\n",
    "    cell=cell, \n",
    "    symm_mats_vecs=symm_mats_vecs,\n",
    "    hkl=hkl,\n",
    "    construction_instructions=construction_instructions,\n",
    "    parameters=parameters,\n",
    "    wavelength=wavelength,\n",
    "    refinement_dict=refinement_dict,\n",
    "    computation_dict=computation_dict\n",
    ")"
   ]
  },
  {
   "cell_type": "code",
   "execution_count": 18,
   "id": "9e228de7-b354-4191-8635-63ed4c8c3fab",
   "metadata": {},
   "outputs": [],
   "source": [
    "write_fcf(\n",
    "    fcf_path=os.path.join(output_folder, 'xharpy.fcf'),\n",
    "    fcf_dataset='xharpy',\n",
    "    fcf_mode=4,\n",
    "    cell=cell,\n",
    "    hkl=hkl,\n",
    "    construction_instructions=construction_instructions,\n",
    "    parameters=parameters,\n",
    "    wavelength=wavelength,\n",
    "    refinement_dict=refinement_dict,\n",
    "    symm_strings=symm_strings,\n",
    "    information=information,\n",
    ");"
   ]
  },
  {
   "cell_type": "code",
   "execution_count": 19,
   "id": "71fe3df0-9251-4830-b222-dc5ddf5c10e7",
   "metadata": {},
   "outputs": [],
   "source": [
    "write_fcf(\n",
    "    fcf_path=os.path.join(output_folder, 'xharpy_6.fcf'),\n",
    "    fcf_dataset='xharpy_6',\n",
    "    fcf_mode=6,\n",
    "    cell=cell,\n",
    "    hkl=hkl,\n",
    "    construction_instructions=construction_instructions,\n",
    "    parameters=parameters,\n",
    "    wavelength=wavelength,\n",
    "    refinement_dict=refinement_dict,\n",
    "    symm_strings=symm_strings,\n",
    "    information=information,\n",
    ");"
   ]
  },
  {
   "cell_type": "code",
   "execution_count": 20,
   "id": "d271149f-405d-4bd8-831e-2971072ffcde",
   "metadata": {},
   "outputs": [],
   "source": [
    "write_res(\n",
    "    out_res_path=os.path.join(output_folder, 'xharpy_6.res'),\n",
    "    in_res_path='iam.lst',\n",
    "    cell=cell,\n",
    "    cell_esd=cell_esd,\n",
    "    construction_instructions=construction_instructions,\n",
    "    parameters=parameters,\n",
    "    wavelength=wavelength\n",
    ")"
   ]
  },
  {
   "cell_type": "code",
   "execution_count": 21,
   "id": "2f0244c9-437b-426b-bc51-2554c4ce7ea8",
   "metadata": {},
   "outputs": [],
   "source": [
    "write_cif(\n",
    "    output_cif_path=os.path.join(output_folder, 'xharpy.cif'),\n",
    "    cif_dataset='xharpy',\n",
    "    shelx_cif_path='iam.cif',\n",
    "    shelx_dataset=0,\n",
    "    cell=cell,\n",
    "    cell_esd=cell_esd,\n",
    "    symm_mats_vecs=symm_mats_vecs,\n",
    "    hkl=hkl,\n",
    "    construction_instructions=construction_instructions,\n",
    "    parameters=parameters,\n",
    "    var_cov_mat=var_cov_mat,\n",
    "    refinement_dict=refinement_dict,\n",
    "    computation_dict=computation_dict,\n",
    "    information=information\n",
    ")"
   ]
  },
  {
   "cell_type": "code",
   "execution_count": 22,
   "id": "c1ad12ec-2847-457d-9a5a-bb9851d2c47e",
   "metadata": {},
   "outputs": [
    {
     "data": {
      "text/html": [
       "<div>\n",
       "<style scoped>\n",
       "    .dataframe tbody tr th:only-of-type {\n",
       "        vertical-align: middle;\n",
       "    }\n",
       "\n",
       "    .dataframe tbody tr th {\n",
       "        vertical-align: top;\n",
       "    }\n",
       "\n",
       "    .dataframe thead th {\n",
       "        text-align: right;\n",
       "    }\n",
       "</style>\n",
       "<table border=\"1\" class=\"dataframe\">\n",
       "  <thead>\n",
       "    <tr style=\"text-align: right;\">\n",
       "      <th></th>\n",
       "      <th>h</th>\n",
       "      <th>k</th>\n",
       "      <th>l</th>\n",
       "      <th>intensity</th>\n",
       "      <th>esd_int</th>\n",
       "      <th>weight</th>\n",
       "      <th>strong_condition</th>\n",
       "    </tr>\n",
       "  </thead>\n",
       "  <tbody>\n",
       "    <tr>\n",
       "      <th>0</th>\n",
       "      <td>0</td>\n",
       "      <td>2</td>\n",
       "      <td>0</td>\n",
       "      <td>183.414597</td>\n",
       "      <td>1.752700</td>\n",
       "      <td>0.097656</td>\n",
       "      <td>True</td>\n",
       "    </tr>\n",
       "    <tr>\n",
       "      <th>1</th>\n",
       "      <td>0</td>\n",
       "      <td>4</td>\n",
       "      <td>0</td>\n",
       "      <td>5175.345716</td>\n",
       "      <td>44.359746</td>\n",
       "      <td>0.000152</td>\n",
       "      <td>True</td>\n",
       "    </tr>\n",
       "    <tr>\n",
       "      <th>2</th>\n",
       "      <td>0</td>\n",
       "      <td>6</td>\n",
       "      <td>0</td>\n",
       "      <td>89.513685</td>\n",
       "      <td>1.040666</td>\n",
       "      <td>0.277008</td>\n",
       "      <td>True</td>\n",
       "    </tr>\n",
       "    <tr>\n",
       "      <th>3</th>\n",
       "      <td>0</td>\n",
       "      <td>8</td>\n",
       "      <td>0</td>\n",
       "      <td>45.263482</td>\n",
       "      <td>0.717512</td>\n",
       "      <td>0.582717</td>\n",
       "      <td>True</td>\n",
       "    </tr>\n",
       "    <tr>\n",
       "      <th>4</th>\n",
       "      <td>0</td>\n",
       "      <td>10</td>\n",
       "      <td>0</td>\n",
       "      <td>0.799669</td>\n",
       "      <td>0.339586</td>\n",
       "      <td>2.601457</td>\n",
       "      <td>True</td>\n",
       "    </tr>\n",
       "    <tr>\n",
       "      <th>...</th>\n",
       "      <td>...</td>\n",
       "      <td>...</td>\n",
       "      <td>...</td>\n",
       "      <td>...</td>\n",
       "      <td>...</td>\n",
       "      <td>...</td>\n",
       "      <td>...</td>\n",
       "    </tr>\n",
       "    <tr>\n",
       "      <th>2514</th>\n",
       "      <td>12</td>\n",
       "      <td>6</td>\n",
       "      <td>3</td>\n",
       "      <td>0.909213</td>\n",
       "      <td>0.405312</td>\n",
       "      <td>1.826150</td>\n",
       "      <td>True</td>\n",
       "    </tr>\n",
       "    <tr>\n",
       "      <th>2515</th>\n",
       "      <td>12</td>\n",
       "      <td>0</td>\n",
       "      <td>4</td>\n",
       "      <td>14.465254</td>\n",
       "      <td>0.942076</td>\n",
       "      <td>0.338021</td>\n",
       "      <td>True</td>\n",
       "    </tr>\n",
       "    <tr>\n",
       "      <th>2516</th>\n",
       "      <td>12</td>\n",
       "      <td>1</td>\n",
       "      <td>4</td>\n",
       "      <td>44.896511</td>\n",
       "      <td>1.413115</td>\n",
       "      <td>0.150231</td>\n",
       "      <td>True</td>\n",
       "    </tr>\n",
       "    <tr>\n",
       "      <th>2517</th>\n",
       "      <td>12</td>\n",
       "      <td>2</td>\n",
       "      <td>4</td>\n",
       "      <td>9.240016</td>\n",
       "      <td>0.848964</td>\n",
       "      <td>0.416233</td>\n",
       "      <td>True</td>\n",
       "    </tr>\n",
       "    <tr>\n",
       "      <th>2518</th>\n",
       "      <td>12</td>\n",
       "      <td>3</td>\n",
       "      <td>4</td>\n",
       "      <td>17.461276</td>\n",
       "      <td>1.007803</td>\n",
       "      <td>0.295369</td>\n",
       "      <td>True</td>\n",
       "    </tr>\n",
       "  </tbody>\n",
       "</table>\n",
       "<p>2519 rows × 7 columns</p>\n",
       "</div>"
      ],
      "text/plain": [
       "       h   k  l    intensity    esd_int    weight  strong_condition\n",
       "0      0   2  0   183.414597   1.752700  0.097656              True\n",
       "1      0   4  0  5175.345716  44.359746  0.000152              True\n",
       "2      0   6  0    89.513685   1.040666  0.277008              True\n",
       "3      0   8  0    45.263482   0.717512  0.582717              True\n",
       "4      0  10  0     0.799669   0.339586  2.601457              True\n",
       "...   ..  .. ..          ...        ...       ...               ...\n",
       "2514  12   6  3     0.909213   0.405312  1.826150              True\n",
       "2515  12   0  4    14.465254   0.942076  0.338021              True\n",
       "2516  12   1  4    44.896511   1.413115  0.150231              True\n",
       "2517  12   2  4     9.240016   0.848964  0.416233              True\n",
       "2518  12   3  4    17.461276   1.007803  0.295369              True\n",
       "\n",
       "[2519 rows x 7 columns]"
      ]
     },
     "execution_count": 22,
     "metadata": {},
     "output_type": "execute_result"
    }
   ],
   "source": [
    "hkl"
   ]
  },
  {
   "cell_type": "code",
   "execution_count": null,
   "id": "460bb2b2-5ece-41dd-bc0a-a94d5adc3052",
   "metadata": {},
   "outputs": [],
   "source": []
  }
 ],
 "metadata": {
  "kernelspec": {
   "display_name": "Python 3 (ipykernel)",
   "language": "python",
   "name": "python3"
  },
  "language_info": {
   "codemirror_mode": {
    "name": "ipython",
    "version": 3
   },
   "file_extension": ".py",
   "mimetype": "text/x-python",
   "name": "python",
   "nbconvert_exporter": "python",
   "pygments_lexer": "ipython3",
   "version": "3.8.12"
  }
 },
 "nbformat": 4,
 "nbformat_minor": 5
}
