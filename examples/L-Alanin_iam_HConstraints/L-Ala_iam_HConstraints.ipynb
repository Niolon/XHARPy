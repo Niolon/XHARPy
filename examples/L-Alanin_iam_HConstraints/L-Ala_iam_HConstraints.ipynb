{
 "cells": [
  {
   "cell_type": "markdown",
   "id": "be2de800-cbce-4033-a10f-be75787e783c",
   "metadata": {},
   "source": [
    "# XHARPy Example: L-Alanin with the Independent Atom Model and Hydrogen Constraints\n",
    "- Independent Atom Model\n",
    "- Isotropic Hydrogen Refinement\n",
    "- Position constraints for sp3 hydrogen atoms"
   ]
  },
  {
   "cell_type": "code",
   "execution_count": 1,
   "id": "a2229241-5342-4aad-905e-8a6d9963c6f0",
   "metadata": {},
   "outputs": [
    {
     "name": "stderr",
     "output_type": "stream",
     "text": [
      "WARNING:absl:No GPU/TPU found, falling back to CPU. (Set TF_CPP_MIN_LOG_LEVEL=0 and rerun for more info.)\n"
     ]
    }
   ],
   "source": [
    "from xharpy import (shelxl_hkl2pd, cif2data, lst2constraint_dict, create_construction_instructions,\n",
    "                    refine, write_cif, write_res, write_fcf, add_density_entries_from_fcf,\n",
    "                    TetrahedralPositionConstraint, TorsionPositionConstraint, UEquivConstraint)\n",
    "import os"
   ]
  },
  {
   "cell_type": "code",
   "execution_count": 2,
   "id": "b138c518-99cc-47c9-b4a1-ab9336a9e9ea",
   "metadata": {},
   "outputs": [],
   "source": [
    "output_folder = 'xharpy_output'\n",
    "if not os.path.exists(output_folder):\n",
    "    os.mkdir(output_folder)"
   ]
  },
  {
   "cell_type": "markdown",
   "id": "5f9e6949-9cdf-4dcf-b408-7a6aa685eb43",
   "metadata": {},
   "source": [
    "### Loading Data\n",
    "You can see that we currently need to add all hydrogen atoms individually. "
   ]
  },
  {
   "cell_type": "code",
   "execution_count": 3,
   "id": "1f79d1c2-1e36-4913-a9e5-2788237ff0d6",
   "metadata": {},
   "outputs": [],
   "source": [
    "atom_table, cell, cell_esd, symm_mats_vecs, symm_strings, wavelength  = cif2data('iam.cif', 0)"
   ]
  },
  {
   "cell_type": "code",
   "execution_count": 4,
   "id": "6961cd4e-5383-4b38-a4ba-106e2b7f5147",
   "metadata": {},
   "outputs": [],
   "source": [
    "hkl = shelxl_hkl2pd('iam.hkl')"
   ]
  },
  {
   "cell_type": "code",
   "execution_count": 5,
   "id": "774a736b-b677-464a-92d9-690091cab728",
   "metadata": {},
   "outputs": [],
   "source": [
    "constraint_dict = lst2constraint_dict('iam.lst')\n",
    "\n",
    "constraint_dict['H1'] = {\n",
    "    'xyz': TorsionPositionConstraint(\n",
    "        bound_atom_name='N1',\n",
    "        angle_atom_name='C1',\n",
    "        torsion_atom_name='C2',\n",
    "        distance=0.98,\n",
    "        angle=109.47,\n",
    "        torsion_angle_add=0,\n",
    "        refine=True\n",
    "    ),\n",
    "    'uij': UEquivConstraint(\n",
    "        bound_atom_name='N1',\n",
    "        multiplicator=1.5\n",
    "    )\n",
    "}\n",
    "\n",
    "constraint_dict['H2'] = {\n",
    "    'xyz': TorsionPositionConstraint(\n",
    "        bound_atom_name='N1',\n",
    "        angle_atom_name='C1',\n",
    "        torsion_atom_name='C2',\n",
    "        distance=0.98,\n",
    "        angle=109.47,\n",
    "        torsion_angle_add=120,\n",
    "        refine=True\n",
    "    ),\n",
    "    'uij': UEquivConstraint(\n",
    "        bound_atom_name='N1',\n",
    "        multiplicator=1.5\n",
    "    )\n",
    "}\n",
    "\n",
    "constraint_dict['H3'] = {\n",
    "    'xyz': TorsionPositionConstraint(\n",
    "        bound_atom_name='N1',\n",
    "        angle_atom_name='C1',\n",
    "        torsion_atom_name='C2',\n",
    "        distance=0.98,\n",
    "        angle=109.47,\n",
    "        torsion_angle_add=240,\n",
    "        refine=True\n",
    "    ),\n",
    "    'uij': UEquivConstraint(\n",
    "        bound_atom_name='N1',\n",
    "        multiplicator=1.5\n",
    "    )\n",
    "}\n",
    "\n",
    "constraint_dict['H4'] = {\n",
    "    'xyz': TetrahedralPositionConstraint(\n",
    "        bound_atom_name='C1',\n",
    "        tetrahedron_atom1_name='C2',\n",
    "        tetrahedron_atom2_name='C3',\n",
    "        tetrahedron_atom3_name='N1',\n",
    "        distance=0.98\n",
    "    ), \n",
    "    'uij': UEquivConstraint(\n",
    "        bound_atom_name='C1',\n",
    "        multiplicator=1.2\n",
    "    )\n",
    "}\n",
    "\n",
    "constraint_dict['H5'] = {\n",
    "    'xyz': TorsionPositionConstraint(\n",
    "        bound_atom_name='C2',\n",
    "        angle_atom_name='C1',\n",
    "        torsion_atom_name='N1',\n",
    "        distance=0.98,\n",
    "        angle=109.47,\n",
    "        torsion_angle_add=0,\n",
    "        refine=True\n",
    "    ),\n",
    "    'uij': UEquivConstraint(\n",
    "        bound_atom_name='C2',\n",
    "        multiplicator=1.5\n",
    "    )\n",
    "}\n",
    "\n",
    "constraint_dict['H6'] = {\n",
    "    'xyz': TorsionPositionConstraint(\n",
    "        bound_atom_name='C2',\n",
    "        angle_atom_name='C1',\n",
    "        torsion_atom_name='N1',\n",
    "        distance=0.98,\n",
    "        angle=109.47,\n",
    "        torsion_angle_add=120,\n",
    "        refine=True\n",
    "    ),\n",
    "    'uij': UEquivConstraint(\n",
    "        bound_atom_name='C2',\n",
    "        multiplicator=1.5\n",
    "    )\n",
    "}\n",
    "\n",
    "constraint_dict['H7'] = {\n",
    "    'xyz': TorsionPositionConstraint(\n",
    "        bound_atom_name='C2',\n",
    "        angle_atom_name='C1',\n",
    "        torsion_atom_name='N1',\n",
    "        distance=0.98,\n",
    "        angle=109.47,\n",
    "        torsion_angle_add=240,\n",
    "        refine=True\n",
    "    ),\n",
    "    'uij': UEquivConstraint(\n",
    "        bound_atom_name='C2',\n",
    "        multiplicator=1.5\n",
    "    )\n",
    "}"
   ]
  },
  {
   "cell_type": "code",
   "execution_count": 6,
   "id": "16b285b7-8440-4282-b5be-beaeed203419",
   "metadata": {},
   "outputs": [],
   "source": [
    "refinement_dict = {\n",
    "    'f0j_source': 'iam',\n",
    "    'reload_step': 1,\n",
    "    'core': 'combine',\n",
    "    'max_iter': 1\n",
    "}"
   ]
  },
  {
   "cell_type": "code",
   "execution_count": 7,
   "id": "f26ae2e0-4053-4d91-b0e4-4749a7c95d5f",
   "metadata": {},
   "outputs": [],
   "source": [
    "computation_dict = {}"
   ]
  },
  {
   "cell_type": "markdown",
   "id": "d00663dd-f738-4ba6-80ff-3bad69903884",
   "metadata": {},
   "source": [
    "### Refine"
   ]
  },
  {
   "cell_type": "code",
   "execution_count": 8,
   "id": "b899b661-42d3-4cff-9368-3be7ce914463",
   "metadata": {},
   "outputs": [],
   "source": [
    "construction_instructions, parameters = create_construction_instructions(\n",
    "    atom_table=atom_table,\n",
    "    constraint_dict=constraint_dict,\n",
    "    refinement_dict=refinement_dict,\n",
    "    cell=cell\n",
    ")"
   ]
  },
  {
   "cell_type": "code",
   "execution_count": 9,
   "id": "0278f051-dec6-455e-8b49-5d425798fc7b",
   "metadata": {},
   "outputs": [
    {
     "name": "stdout",
     "output_type": "stream",
     "text": [
      "Started refinement at  2022-01-09 16:08:01.795716\n",
      "Preparing\n",
      "  calculating first atomic form factors\n",
      "  building least squares function\n",
      "  setting up gradients\n",
      "step 0: Optimizing scaling\n",
      "  wR2: 0.069349, number of iterations: 2\n",
      "  minimizing least squares sum\n",
      "  wR2: 0.068472, number of iterations: 64\n",
      "step 1: calculating new structure factors\n",
      "Calculation finished. calculating variance-covariance matrix.\n",
      "Ended refinement at  2022-01-09 16:08:45.161631\n"
     ]
    }
   ],
   "source": [
    "parameters, var_cov_mat, information = refine(\n",
    "    cell=cell, \n",
    "    symm_mats_vecs=symm_mats_vecs,\n",
    "    hkl=hkl,\n",
    "    construction_instructions=construction_instructions,\n",
    "    parameters=parameters,\n",
    "    wavelength=wavelength,\n",
    "    refinement_dict=refinement_dict,\n",
    "    computation_dict=computation_dict\n",
    ")"
   ]
  },
  {
   "cell_type": "markdown",
   "id": "086bbaad-5918-4949-ba39-7cc9244410bd",
   "metadata": {
    "tags": []
   },
   "source": [
    "### Write Data To Disk\n",
    "Currently the error for constrained bonds is not zero but has a numerical error."
   ]
  },
  {
   "cell_type": "code",
   "execution_count": 10,
   "id": "71fe3df0-9251-4830-b222-dc5ddf5c10e7",
   "metadata": {},
   "outputs": [],
   "source": [
    "write_fcf(\n",
    "    fcf_path=os.path.join(output_folder, 'xharpy_6.fcf'),\n",
    "    fcf_dataset='xharpy_6',\n",
    "    fcf_mode=6,\n",
    "    cell=cell,\n",
    "    hkl=hkl,\n",
    "    construction_instructions=construction_instructions,\n",
    "    parameters=parameters,\n",
    "    wavelength=wavelength,\n",
    "    refinement_dict=refinement_dict,\n",
    "    symm_strings=symm_strings,\n",
    "    information=information,\n",
    ");"
   ]
  },
  {
   "cell_type": "code",
   "execution_count": 11,
   "id": "94d9ccd7-e46d-4b77-971a-017a4cf92261",
   "metadata": {},
   "outputs": [],
   "source": [
    "write_fcf(\n",
    "    fcf_path=os.path.join(output_folder, 'xharpy.fcf'),\n",
    "    fcf_dataset='xharpy',\n",
    "    fcf_mode=6,\n",
    "    cell=cell,\n",
    "    hkl=hkl,\n",
    "    construction_instructions=construction_instructions,\n",
    "    parameters=parameters,\n",
    "    wavelength=wavelength,\n",
    "    refinement_dict=refinement_dict,\n",
    "    symm_strings=symm_strings,\n",
    "    information=information,\n",
    ");"
   ]
  },
  {
   "cell_type": "code",
   "execution_count": 12,
   "id": "d271149f-405d-4bd8-831e-2971072ffcde",
   "metadata": {},
   "outputs": [],
   "source": [
    "write_res(\n",
    "    out_res_path=os.path.join(output_folder, 'xharpy_6.res'),\n",
    "    in_res_path='iam.lst',\n",
    "    cell=cell,\n",
    "    cell_esd=cell_esd,\n",
    "    construction_instructions=construction_instructions,\n",
    "    parameters=parameters,\n",
    "    wavelength=wavelength\n",
    ")"
   ]
  },
  {
   "cell_type": "code",
   "execution_count": 13,
   "id": "2f0244c9-437b-426b-bc51-2554c4ce7ea8",
   "metadata": {},
   "outputs": [],
   "source": [
    "write_cif(\n",
    "    output_cif_path=os.path.join(output_folder, 'xharpy.cif'),\n",
    "    cif_dataset='xharpy',\n",
    "    shelx_cif_path='iam.cif',\n",
    "    shelx_dataset=0,\n",
    "    cell=cell,\n",
    "    cell_esd=cell_esd,\n",
    "    symm_mats_vecs=symm_mats_vecs,\n",
    "    hkl=hkl,\n",
    "    construction_instructions=construction_instructions,\n",
    "    parameters=parameters,\n",
    "    var_cov_mat=var_cov_mat,\n",
    "    refinement_dict=refinement_dict,\n",
    "    computation_dict=computation_dict,\n",
    "    information=information\n",
    ")"
   ]
  },
  {
   "cell_type": "code",
   "execution_count": 14,
   "id": "c1ad12ec-2847-457d-9a5a-bb9851d2c47e",
   "metadata": {},
   "outputs": [],
   "source": [
    "add_density_entries_from_fcf(\n",
    "    os.path.join(output_folder, 'xharpy.cif'),\n",
    "    os.path.join(output_folder, 'xharpy_6.fcf')\n",
    ")"
   ]
  }
 ],
 "metadata": {
  "kernelspec": {
   "display_name": "Python 3 (ipykernel)",
   "language": "python",
   "name": "python3"
  },
  "language_info": {
   "codemirror_mode": {
    "name": "ipython",
    "version": 3
   },
   "file_extension": ".py",
   "mimetype": "text/x-python",
   "name": "python",
   "nbconvert_exporter": "python",
   "pygments_lexer": "ipython3",
   "version": "3.8.12"
  }
 },
 "nbformat": 4,
 "nbformat_minor": 5
}
