{
 "cells": [
  {
   "cell_type": "markdown",
   "id": "e8372977-5fc1-466e-8343-0820c10c450f",
   "metadata": {},
   "source": [
    "# XHARPy Example: L-Alanin with GPAW\n",
    "- Program: NoSpherA2/Orca\n",
    "- B3LYP calculation\n",
    "- 8 Angstroem cluster charges"
   ]
  },
  {
   "cell_type": "code",
   "execution_count": null,
   "id": "a787b61d-6369-47a4-a74b-48a2d2889a73",
   "metadata": {},
   "outputs": [],
   "source": [
    "from xharpy import (shelxl_hkl2pd, cif2data, lst2constraint_dict, create_construction_instructions,\n",
    "                    refine, write_cif, write_res, write_fcf, add_density_entries_from_fcf)\n",
    "import os"
   ]
  },
  {
   "cell_type": "code",
   "execution_count": null,
   "id": "5538c088-8a89-4c50-94d8-12924a2cd992",
   "metadata": {},
   "outputs": [],
   "source": [
    "output_folder = 'xharpy_output'\n",
    "if not os.path.exists(output_folder):\n",
    "    os.mkdir(output_folder)\n",
    "    "
   ]
  },
  {
   "cell_type": "markdown",
   "id": "83fd1dde-3475-426e-8c31-29c4c7f5f7a9",
   "metadata": {},
   "source": [
    "### Loading Data"
   ]
  },
  {
   "cell_type": "code",
   "execution_count": null,
   "id": "3b1ee389-6429-4fd9-a71b-f20dcccb4e0c",
   "metadata": {},
   "outputs": [],
   "source": [
    "atom_table, cell, cell_esd, symm_mats_vecs, symm_strings, wavelength  = cif2data('iam.cif', 0)\n",
    "atom_table['adp_type'] = 'Uani'\n",
    "atom_table[['U_11', 'U_22', 'U_33']] = atom_table[['U_11', 'U_22', 'U_33']].fillna(0.01)\n",
    "atom_table[['U_12', 'U_23', 'U_13']] = atom_table[['U_12', 'U_23', 'U_13']].fillna(0.00)"
   ]
  },
  {
   "cell_type": "code",
   "execution_count": null,
   "id": "88b3f957-ab16-4957-a609-2b55b6beb9f9",
   "metadata": {},
   "outputs": [],
   "source": [
    "hkl = shelxl_hkl2pd('iam.hkl')\n",
    "constraint_dict = lst2constraint_dict('iam.lst')"
   ]
  },
  {
   "cell_type": "markdown",
   "id": "a4cf2e75-57b3-419b-bc57-0bfc21605f05",
   "metadata": {},
   "source": [
    "### Setting Options"
   ]
  },
  {
   "cell_type": "code",
   "execution_count": null,
   "id": "e2a1183c-b704-473f-bb48-47c8b6fdc2a9",
   "metadata": {},
   "outputs": [],
   "source": [
    "computation_dict = {\n",
    "    'nosphera2_accuracy': 4,\n",
    "    'basis_set': 'def2-TZVPP',\n",
    "    'functional': 'B3LYP',\n",
    "    'charge': 0,\n",
    "    'multiplicity': 1,\n",
    "    'n_cores': 2,\n",
    "    'calc_folder': './calc',\n",
    "    'orca_path': '/path/to/orcha',\n",
    "    'nosphera2_path': '/path/to/NoSpherA2',\n",
    "    'build_dict': {},\n",
    "    'cutoff': 8.0\n",
    "}\n",
    "\n",
    "refinement_dict = {\n",
    "    'f0j_source': 'nosphera2_orca',\n",
    "    'reload_step': 1,\n",
    "    'core': 'combine',\n",
    "}\n",
    "\n",
    "filename = computation_dict['functional'] + '_' + computation_dict['basis_set']"
   ]
  },
  {
   "cell_type": "markdown",
   "id": "a8d034c4-8ebe-4c09-b8f9-c3ca0345d228",
   "metadata": {},
   "source": [
    "### Refinement"
   ]
  },
  {
   "cell_type": "code",
   "execution_count": null,
   "id": "7edd43f7-37b3-4c20-bb60-363c964087eb",
   "metadata": {},
   "outputs": [],
   "source": [
    "construction_instructions, parameters = create_construction_instructions(\n",
    "    atom_table=atom_table,\n",
    "    constraint_dict=constraint_dict,\n",
    "    refinement_dict=refinement_dict\n",
    ")"
   ]
  },
  {
   "cell_type": "code",
   "execution_count": null,
   "id": "2e972cb5-25b1-4c85-be76-4dcb89195088",
   "metadata": {},
   "outputs": [],
   "source": [
    "parameters, var_cov_mat, information = refine(\n",
    "    cell=cell, \n",
    "    symm_mats_vecs=symm_mats_vecs,\n",
    "    hkl=hkl,\n",
    "    construction_instructions=construction_instructions,\n",
    "    parameters=parameters,\n",
    "    wavelength=wavelength,\n",
    "    refinement_dict=refinement_dict,\n",
    "    computation_dict=computation_dict\n",
    ")"
   ]
  },
  {
   "cell_type": "markdown",
   "id": "a4fc9bf5-7b91-4f22-80dc-a5dc84e3b328",
   "metadata": {},
   "source": [
    "### Writing Data to Disk"
   ]
  },
  {
   "cell_type": "code",
   "execution_count": null,
   "id": "68ce6b00-8a25-4173-a250-1bca11b8ff6c",
   "metadata": {},
   "outputs": [],
   "source": [
    "write_cif(\n",
    "    output_cif_path=os.path.join(output_folder, filename + '.cif'),\n",
    "    cif_dataset=filename,\n",
    "    shelx_cif_path='iam.cif',\n",
    "    shelx_dataset=0,\n",
    "    cell=cell,\n",
    "    cell_esd=cell_esd,\n",
    "    symm_mats_vecs=symm_mats_vecs,\n",
    "    hkl=hkl,\n",
    "    construction_instructions=construction_instructions,\n",
    "    parameters=parameters,\n",
    "    var_cov_mat=var_cov_mat,\n",
    "    refinement_dict=refinement_dict,\n",
    "    computation_dict=computation_dict,\n",
    "    information=information\n",
    ")"
   ]
  },
  {
   "cell_type": "code",
   "execution_count": null,
   "id": "96f5737d-83ad-4ecb-a4dd-9a8ba5badbea",
   "metadata": {},
   "outputs": [],
   "source": [
    "write_fcf(\n",
    "    fcf_path=os.path.join(output_folder, filename + '.fcf'),\n",
    "    fcf_dataset=filename,\n",
    "    fcf_mode=4,\n",
    "    cell=cell,\n",
    "    hkl=hkl,\n",
    "    construction_instructions=construction_instructions,\n",
    "    parameters=parameters,\n",
    "    wavelength=wavelength,\n",
    "    refinement_dict=refinement_dict,\n",
    "    symm_strings=symm_strings,\n",
    "    information=information,\n",
    ");"
   ]
  },
  {
   "cell_type": "code",
   "execution_count": null,
   "id": "acb0c99b-03bc-47b7-a768-8fa67229ea60",
   "metadata": {},
   "outputs": [],
   "source": [
    "write_fcf(\n",
    "    fcf_path=os.path.join(output_folder, filename + '_6.fcf'),\n",
    "    fcf_dataset=filename + '_6',\n",
    "    fcf_mode=6,\n",
    "    cell=cell,\n",
    "    hkl=hkl,\n",
    "    construction_instructions=construction_instructions,\n",
    "    parameters=parameters,\n",
    "    wavelength=wavelength,\n",
    "    refinement_dict=refinement_dict,\n",
    "    symm_strings=symm_strings,\n",
    "    information=information,\n",
    ");"
   ]
  },
  {
   "cell_type": "code",
   "execution_count": null,
   "id": "ffa7f849-0b69-40b2-9204-20aa8e44de0c",
   "metadata": {},
   "outputs": [],
   "source": [
    "write_res(\n",
    "    out_res_path=os.path.join(output_folder, filename + '_6.res'),\n",
    "    in_res_path='iam.lst',\n",
    "    cell=cell,\n",
    "    cell_esd=cell_esd,\n",
    "    construction_instructions=construction_instructions,\n",
    "    parameters=parameters,\n",
    "    wavelength=wavelength\n",
    ")"
   ]
  },
  {
   "cell_type": "code",
   "execution_count": null,
   "id": "3ed5444e-2b46-45b2-a9b5-b763c238690e",
   "metadata": {},
   "outputs": [],
   "source": [
    "add_density_entries_from_fcf(\n",
    "    os.path.join(output_folder, filename + '.cif'),\n",
    "    os.path.join(output_folder, filename + '_6.fcf')\n",
    ")"
   ]
  },
  {
   "cell_type": "code",
   "execution_count": null,
   "id": "65f2cab4-ee35-4a45-b599-859da9a635b1",
   "metadata": {},
   "outputs": [],
   "source": []
  }
 ],
 "metadata": {
  "kernelspec": {
   "display_name": "Python 3 (ipykernel)",
   "language": "python",
   "name": "python3"
  },
  "language_info": {
   "codemirror_mode": {
    "name": "ipython",
    "version": 3
   },
   "file_extension": ".py",
   "mimetype": "text/x-python",
   "name": "python",
   "nbconvert_exporter": "python",
   "pygments_lexer": "ipython3",
   "version": "3.8.12"
  }
 },
 "nbformat": 4,
 "nbformat_minor": 5
}
