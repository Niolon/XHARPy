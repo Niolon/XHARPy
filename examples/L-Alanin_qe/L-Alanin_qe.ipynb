{
 "cells": [
  {
   "cell_type": "markdown",
   "id": "406902c6-0d9a-4f02-b4c7-4f1627135118",
   "metadata": {},
   "source": [
    "# XHARPy Example: L-Alanin with Quantum Espresso\n",
    " - Program: Quantum Espresso\n",
    " - PBE calculation\n",
    " - Constant core calculation"
   ]
  },
  {
   "cell_type": "code",
   "execution_count": null,
   "id": "6a803794-5d39-45c5-965d-59625028bcdc",
   "metadata": {},
   "outputs": [],
   "source": [
    "from xharpy import (shelxl_hkl2pd, cif2data, lst2constraint_dict, create_construction_instructions,\n",
    "                    refine, write_cif, write_res, write_fcf, add_density_entries_from_fcf)\n",
    "import os"
   ]
  },
  {
   "cell_type": "code",
   "execution_count": null,
   "id": "9286276e-43fe-4f9e-a1d1-746daac65512",
   "metadata": {},
   "outputs": [],
   "source": [
    "output_folder = 'xharpy_output'\n",
    "if not os.path.exists(output_folder):\n",
    "    os.mkdir(output_folder)"
   ]
  },
  {
   "cell_type": "markdown",
   "id": "e1480d02-7e03-4a04-bb15-f333831f7459",
   "metadata": {},
   "source": [
    "### Loading Data"
   ]
  },
  {
   "cell_type": "code",
   "execution_count": null,
   "id": "2ab6a465-1f93-47ea-b4fb-357c57f25df4",
   "metadata": {},
   "outputs": [],
   "source": [
    "atom_table, cell, cell_esd, symm_mats_vecs, symm_strings, wavelength  = cif2data('iam.cif', 0)"
   ]
  },
  {
   "cell_type": "code",
   "execution_count": null,
   "id": "bf89a980-b38b-422c-b384-aeb5cae3a0ba",
   "metadata": {},
   "outputs": [],
   "source": [
    "atom_table['adp_type'] = 'Uani'\n",
    "atom_table[['U_11', 'U_22', 'U_33']] = atom_table[['U_11', 'U_22', 'U_33']].fillna(0.01)\n",
    "atom_table[['U_12', 'U_23', 'U_13']] = atom_table[['U_12', 'U_23', 'U_13']].fillna(0.00)"
   ]
  },
  {
   "cell_type": "code",
   "execution_count": null,
   "id": "0880db56-e880-4939-9770-4192a25ab273",
   "metadata": {},
   "outputs": [],
   "source": [
    "hkl = shelxl_hkl2pd('iam.hkl')"
   ]
  },
  {
   "cell_type": "code",
   "execution_count": null,
   "id": "125e12b4-4326-4dd5-8bf7-3c161b1ea4b9",
   "metadata": {},
   "outputs": [],
   "source": [
    "constraint_dict = lst2constraint_dict('iam.lst')"
   ]
  },
  {
   "cell_type": "markdown",
   "id": "63e17d2f-41d6-47b5-833a-177d4652b867",
   "metadata": {},
   "source": [
    "### Setting Options"
   ]
  },
  {
   "cell_type": "code",
   "execution_count": null,
   "id": "b3cb250d-fd3c-4cb2-b0b5-9b6ae82d60cf",
   "metadata": {},
   "outputs": [],
   "source": [
    "refinement_dict = {\n",
    "    'f0j_source': 'qe',\n",
    "    'reload_step': 1,\n",
    "    'core': 'constant',\n",
    "}"
   ]
  },
  {
   "cell_type": "code",
   "execution_count": null,
   "id": "d2b111f8-1087-469f-80b6-a987141f5ba2",
   "metadata": {},
   "outputs": [],
   "source": [
    "computation_dict = {\n",
    "    'symm_equiv': 'once',\n",
    "    'mpicores': 2,\n",
    "    'control': {\n",
    "        'prefix': 'A23',\n",
    "        'pseudo_dir': './pseudo/',\n",
    "    },\n",
    "    'system': {\n",
    "        'ibrav': 8,\n",
    "        'a': float(cell[0]),\n",
    "        'b': float(cell[1]),\n",
    "        'c': float(cell[2]),\n",
    "        'ecutwfc': 50,\n",
    "        'ecutrho': 200,\n",
    "    },\n",
    "    'paw_files': {\n",
    "        'H': 'H.pbe-kjpaw_psl.1.0.0.UPF',\n",
    "        'C': 'C.pbe-n-kjpaw_psl.1.0.0.UPF',\n",
    "        'O': 'O.pbe-n-kjpaw_psl.1.0.0.UPF',\n",
    "        'N': 'N.pbe-n-kjpaw_psl.1.0.0.UPF'\n",
    "    },\n",
    "    'k_points':{\n",
    "        'mode': 'automatic',\n",
    "        'input': '1 1 1 0 0 0'\n",
    "    }\n",
    "}"
   ]
  },
  {
   "cell_type": "markdown",
   "id": "b2a24ad2-5bc7-4f6d-9ff3-a9d5e167cddd",
   "metadata": {},
   "source": [
    "### Refinement"
   ]
  },
  {
   "cell_type": "code",
   "execution_count": null,
   "id": "b3eaa59c-9f80-4b51-9c63-77f7a2b3ef4c",
   "metadata": {},
   "outputs": [],
   "source": [
    "construction_instructions, parameters = create_construction_instructions(\n",
    "    atom_table=atom_table,\n",
    "    constraint_dict=constraint_dict,\n",
    "    refinement_dict=refinement_dict\n",
    ")"
   ]
  },
  {
   "cell_type": "code",
   "execution_count": null,
   "id": "0ffa7600-5e07-45c1-ae6f-12bcaf17974f",
   "metadata": {},
   "outputs": [],
   "source": [
    "parameters, var_cov_mat, information = refine(\n",
    "    cell=cell, \n",
    "    symm_mats_vecs=symm_mats_vecs,\n",
    "    hkl=hkl,\n",
    "    construction_instructions=construction_instructions,\n",
    "    parameters=parameters,\n",
    "    wavelength=wavelength,\n",
    "    refinement_dict=refinement_dict,\n",
    "    computation_dict=computation_dict\n",
    ")"
   ]
  },
  {
   "cell_type": "markdown",
   "id": "3736b9d9-ec92-42a5-886a-5c583abc8c66",
   "metadata": {},
   "source": [
    "### Writing Data to Disk"
   ]
  },
  {
   "cell_type": "code",
   "execution_count": null,
   "id": "b42a0294-2bfd-44da-8f9d-4126ef69cf8c",
   "metadata": {},
   "outputs": [],
   "source": [
    "write_cif(\n",
    "    output_cif_path=os.path.join(output_folder, 'xharpy.cif'),\n",
    "    cif_dataset='xharpy',\n",
    "    shelx_cif_path='iam.cif',\n",
    "    shelx_dataset=0,\n",
    "    cell=cell,\n",
    "    cell_esd=cell_esd,\n",
    "    symm_mats_vecs=symm_mats_vecs,\n",
    "    hkl=hkl,\n",
    "    construction_instructions=construction_instructions,\n",
    "    parameters=parameters,\n",
    "    var_cov_mat=var_cov_mat,\n",
    "    refinement_dict=refinement_dict,\n",
    "    computation_dict=computation_dict,\n",
    "    information=information\n",
    ")"
   ]
  },
  {
   "cell_type": "code",
   "execution_count": null,
   "id": "b668a44c-f085-44a6-a91d-5d427f60668c",
   "metadata": {
    "tags": []
   },
   "outputs": [],
   "source": [
    "write_fcf(\n",
    "    fcf_path=os.path.join(output_folder, 'xharpy.fcf'),\n",
    "    fcf_dataset='xharpy',\n",
    "    fcf_mode=4,\n",
    "    cell=cell,\n",
    "    hkl=hkl,\n",
    "    construction_instructions=construction_instructions,\n",
    "    parameters=parameters,\n",
    "    wavelength=wavelength,\n",
    "    refinement_dict=refinement_dict,\n",
    "    symm_strings=symm_strings,\n",
    "    information=information,\n",
    ");"
   ]
  },
  {
   "cell_type": "code",
   "execution_count": null,
   "id": "1c8700a4-c426-400b-b2c6-1f8ad6eff737",
   "metadata": {},
   "outputs": [],
   "source": [
    "write_fcf(\n",
    "    fcf_path=os.path.join(output_folder, 'xharpy_6.fcf'),\n",
    "    fcf_dataset='xharpy_6',\n",
    "    fcf_mode=6,\n",
    "    cell=cell,\n",
    "    hkl=hkl,\n",
    "    construction_instructions=construction_instructions,\n",
    "    parameters=parameters,\n",
    "    wavelength=wavelength,\n",
    "    refinement_dict=refinement_dict,\n",
    "    symm_strings=symm_strings,\n",
    "    information=information,\n",
    ");"
   ]
  },
  {
   "cell_type": "code",
   "execution_count": null,
   "id": "6bb8ef34-965d-4929-8c1d-471767ae77d6",
   "metadata": {},
   "outputs": [],
   "source": [
    "write_res(\n",
    "    out_res_path=os.path.join(output_folder, 'xharpy_6.res'),\n",
    "    in_res_path='iam.lst',\n",
    "    cell=cell,\n",
    "    cell_esd=cell_esd,\n",
    "    construction_instructions=construction_instructions,\n",
    "    parameters=parameters,\n",
    "    wavelength=wavelength\n",
    ")"
   ]
  },
  {
   "cell_type": "code",
   "execution_count": null,
   "id": "5b54ff88-fd14-4f43-b0ef-5bfc9d71c379",
   "metadata": {},
   "outputs": [],
   "source": [
    "add_density_entries_from_fcf(\n",
    "    os.path.join(output_folder, 'xharpy.cif'),\n",
    "    os.path.join(output_folder, 'xharpy_6.fcf')\n",
    ")"
   ]
  },
  {
   "cell_type": "code",
   "execution_count": null,
   "id": "80f437ca-6127-494d-a1ac-c6c91fe63a83",
   "metadata": {},
   "outputs": [],
   "source": []
  }
 ],
 "metadata": {
  "kernelspec": {
   "display_name": "Python 3 (ipykernel)",
   "language": "python",
   "name": "python3"
  },
  "language_info": {
   "codemirror_mode": {
    "name": "ipython",
    "version": 3
   },
   "file_extension": ".py",
   "mimetype": "text/x-python",
   "name": "python",
   "nbconvert_exporter": "python",
   "pygments_lexer": "ipython3",
   "version": "3.8.12"
  }
 },
 "nbformat": 4,
 "nbformat_minor": 5
}
