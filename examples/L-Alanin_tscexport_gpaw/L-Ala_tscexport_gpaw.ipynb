{
 "cells": [
  {
   "cell_type": "markdown",
   "id": "be2de800-cbce-4033-a10f-be75787e783c",
   "metadata": {},
   "source": [
    "# XHARPy Example: tsc export for L-Alanin with GPAW\n",
    "- .tsc export\n",
    "- Program: GPAW\n",
    "- SCAN calculation\n",
    "- Using MPI\n",
    "- Constant Core calculation"
   ]
  },
  {
   "cell_type": "code",
   "execution_count": null,
   "id": "a2229241-5342-4aad-905e-8a6d9963c6f0",
   "metadata": {},
   "outputs": [],
   "source": [
    "from xharpy import cif2tsc\n",
    "import os"
   ]
  },
  {
   "cell_type": "code",
   "execution_count": null,
   "id": "b138c518-99cc-47c9-b4a1-ab9336a9e9ea",
   "metadata": {},
   "outputs": [],
   "source": [
    "output_folder = 'xharpy_output'\n",
    "if not os.path.exists(output_folder):\n",
    "    os.mkdir(output_folder)"
   ]
  },
  {
   "cell_type": "markdown",
   "id": "cb934ba8-0c23-4247-8900-f66b5c5f2241",
   "metadata": {},
   "source": [
    "### Loading Data"
   ]
  },
  {
   "cell_type": "markdown",
   "id": "61d350cb-7a1a-4b6e-8495-79ac1d1026cf",
   "metadata": {},
   "source": [
    "### Setting Options"
   ]
  },
  {
   "cell_type": "code",
   "execution_count": null,
   "id": "16b285b7-8440-4282-b5be-beaeed203419",
   "metadata": {},
   "outputs": [],
   "source": [
    "export_dict = {\n",
    "    'f0j_source': 'gpaw_mpi',\n",
    "    'core': 'constant',\n",
    "    'resolution_limit': 0.40\n",
    "}"
   ]
  },
  {
   "cell_type": "code",
   "execution_count": null,
   "id": "f26ae2e0-4053-4d91-b0e4-4749a7c95d5f",
   "metadata": {},
   "outputs": [],
   "source": [
    "computation_dict = {\n",
    "    'xc': 'SCAN',\n",
    "    'txt': os.path.join(output_folder, 'gpaw.txt'),\n",
    "    'mode': 'fd',\n",
    "    'h': 0.16,\n",
    "    'gridinterpolation': 4,\n",
    "    'symm_equiv': 'once',\n",
    "    'convergence':{'density': 1e-7},\n",
    "    'kpts': {'size': (1, 1, 1), 'gamma': True},\n",
    "    'symmetry': {'symmorphic': False},\n",
    "    'nbands': -2,\n",
    "    'save_file': os.path.join(output_folder, 'gpaw_result.gpw')\n",
    "\n",
    "}"
   ]
  },
  {
   "cell_type": "markdown",
   "id": "15413c56-2818-4f6d-be40-9cb7462c7663",
   "metadata": {},
   "source": [
    "### .tsc export "
   ]
  },
  {
   "cell_type": "code",
   "execution_count": null,
   "id": "225da56f-f671-4411-8382-57f868f1cbd0",
   "metadata": {},
   "outputs": [],
   "source": [
    "cif2tsc(\n",
    "    tsc_path=os.path.join(output_folder, 'xharpy.tsc'),\n",
    "    cif_path='iam.cif',\n",
    "    cif_dataset=0,\n",
    "    export_dict=export_dict,\n",
    "    computation_dict=computation_dict\n",
    ")"
   ]
  },
  {
   "cell_type": "code",
   "execution_count": null,
   "id": "ec1e13df-f4ae-4715-b0ee-04ceb98b0902",
   "metadata": {},
   "outputs": [],
   "source": []
  }
 ],
 "metadata": {
  "kernelspec": {
   "display_name": "Python 3 (ipykernel)",
   "language": "python",
   "name": "python3"
  },
  "language_info": {
   "codemirror_mode": {
    "name": "ipython",
    "version": 3
   },
   "file_extension": ".py",
   "mimetype": "text/x-python",
   "name": "python",
   "nbconvert_exporter": "python",
   "pygments_lexer": "ipython3",
   "version": "3.10.5"
  }
 },
 "nbformat": 4,
 "nbformat_minor": 5
}
