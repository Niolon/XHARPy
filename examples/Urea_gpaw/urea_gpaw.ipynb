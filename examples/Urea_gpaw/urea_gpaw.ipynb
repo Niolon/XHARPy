{
 "cells": [
  {
   "cell_type": "markdown",
   "id": "be2de800-cbce-4033-a10f-be75787e783c",
   "metadata": {},
   "source": [
    "# Urea with GPAW\n",
    "\n",
    "This is an xHARPy example file for demonstrating how a Hirshfeld Atom Refinement with GPAW is set up."
   ]
  },
  {
   "cell_type": "code",
   "execution_count": 1,
   "id": "a2229241-5342-4aad-905e-8a6d9963c6f0",
   "metadata": {},
   "outputs": [
    {
     "name": "stderr",
     "output_type": "stream",
     "text": [
      "WARNING:absl:No GPU/TPU found, falling back to CPU. (Set TF_CPP_MIN_LOG_LEVEL=0 and rerun for more info.)\n"
     ]
    }
   ],
   "source": [
    "from xharpy import (shelxl_hkl2pd, cif2data, lst2constraint_dict,\n",
    "                    create_construction_instructions, refine, write_cif,\n",
    "                    write_res, write_fcf, ConstrainedValues,\n",
    "                    create_atom_table)\n",
    "import os"
   ]
  },
  {
   "cell_type": "code",
   "execution_count": 2,
   "id": "e24af390-2177-420b-90ed-b485676b028c",
   "metadata": {},
   "outputs": [],
   "source": [
    "from xharpy.core import construct_esds"
   ]
  },
  {
   "cell_type": "code",
   "execution_count": 3,
   "id": "b566595d-9e2c-42b6-b950-aa04e4d8646c",
   "metadata": {},
   "outputs": [],
   "source": [
    "%load_ext autoreload\n",
    "%autoreload 2"
   ]
  },
  {
   "cell_type": "code",
   "execution_count": 4,
   "id": "b138c518-99cc-47c9-b4a1-ab9336a9e9ea",
   "metadata": {},
   "outputs": [],
   "source": [
    "output_folder = 'xharpy_output'\n",
    "if not os.path.exists(output_folder):\n",
    "    os.mkdir(output_folder)\n",
    "    \n",
    "filename = 'xharpy'"
   ]
  },
  {
   "cell_type": "code",
   "execution_count": 5,
   "id": "1f79d1c2-1e36-4913-a9e5-2788237ff0d6",
   "metadata": {},
   "outputs": [],
   "source": [
    "atom_table, cell, cell_esd, symm_mats_vecs, symm_strings, wavelength  = cif2data('iam.cif', 0)"
   ]
  },
  {
   "cell_type": "code",
   "execution_count": 6,
   "id": "5dcbf5a4-2012-43d1-8efd-8015d2f981d9",
   "metadata": {},
   "outputs": [],
   "source": [
    "atom_table['adp_type'] = 'Uani'\n",
    "atom_table[['U_11', 'U_22', 'U_33']] = atom_table[['U_11', 'U_22', 'U_33']].fillna(0.01)\n",
    "atom_table[['U_12', 'U_23', 'U_13']] = atom_table[['U_12', 'U_23', 'U_13']].fillna(0.00)"
   ]
  },
  {
   "cell_type": "code",
   "execution_count": 7,
   "id": "6961cd4e-5383-4b38-a4ba-106e2b7f5147",
   "metadata": {},
   "outputs": [],
   "source": [
    "hkl = shelxl_hkl2pd('iam.hkl')"
   ]
  },
  {
   "cell_type": "code",
   "execution_count": 8,
   "id": "774a736b-b677-464a-92d9-690091cab728",
   "metadata": {},
   "outputs": [],
   "source": [
    "constraint_dict = lst2constraint_dict(\n",
    "    'iam.lst'\n",
    ")"
   ]
  },
  {
   "cell_type": "code",
   "execution_count": 9,
   "id": "16b285b7-8440-4282-b5be-beaeed203419",
   "metadata": {},
   "outputs": [],
   "source": [
    "refinement_dict = {\n",
    "    'f0j_source': 'gpaw_mpi',\n",
    "    'reload_step': 1,\n",
    "    'core': 'constant',\n",
    "}"
   ]
  },
  {
   "cell_type": "code",
   "execution_count": 10,
   "id": "f26ae2e0-4053-4d91-b0e4-4749a7c95d5f",
   "metadata": {},
   "outputs": [],
   "source": [
    "construction_instructions, parameters = create_construction_instructions(\n",
    "    atom_table=atom_table,\n",
    "    constraint_dict=constraint_dict,\n",
    "    refinement_dict=refinement_dict\n",
    ")\n"
   ]
  },
  {
   "cell_type": "code",
   "execution_count": 11,
   "id": "b899b661-42d3-4cff-9368-3be7ce914463",
   "metadata": {},
   "outputs": [
    {
     "name": "stdout",
     "output_type": "stream",
     "text": [
      "Started refinement at  2022-01-04 18:46:16.098601\n",
      "Preparing\n",
      "  calculating the core structure factor for O\n",
      "  calculating the core structure factor for N\n",
      "  calculating the core structure factor for H\n",
      "  calculating the core structure factor for C\n",
      "  saved core atomic form factors from disk\n",
      "  calculating first atomic form factors\n",
      "  calculated density with energy -104.69534056074443\n",
      "  building least squares function\n",
      "  setting up gradients\n",
      "step 0: Optimizing scaling\n",
      "  wR2: 0.057945, nit: 1, Optimization terminated successfully.\n",
      "  minimizing least squares sum\n",
      "  wR2: 0.021281, nit: 44, Optimization terminated successfully.\n",
      "step 1: calculating new structure factors\n",
      "  calculated density with energy -108.16907155667268\n",
      "  minimizing least squares sum\n",
      "  wR2: 0.017794, nit: 37, Optimization terminated successfully.\n",
      "step 2: calculating new structure factors\n",
      "  calculated density with energy -108.16037339448297\n",
      "  minimizing least squares sum\n",
      "  wR2: 0.017928, nit: 33, Optimization terminated successfully.\n",
      "step 3: calculating new structure factors\n",
      "  calculated density with energy -108.16628138722612\n",
      "  minimizing least squares sum\n",
      "  wR2: 0.017906, nit: 31, Optimization terminated successfully.\n",
      "step 4: calculating new structure factors\n",
      "  calculated density with energy -108.16563617501602\n",
      "  minimizing least squares sum\n",
      "  wR2: 0.017909, nit: 30, Optimization terminated successfully.\n",
      "step 5: calculating new structure factors\n",
      "  calculated density with energy -108.16571676626512\n",
      "  minimizing least squares sum\n",
      "  wR2: 0.017909, nit: 30, Optimization terminated successfully.\n",
      "step 6: calculating new structure factors\n",
      "  calculated density with energy -108.16570683316975\n",
      "  minimizing least squares sum\n",
      "  wR2: 0.017909, nit: 29, Optimization terminated successfully.\n",
      "step 7: atom_positions are converged. No new structure factor calculation.\n",
      "  minimizing least squares sum\n",
      "  wR2: 0.017909, nit: 0, Optimization terminated successfully.\n",
      "step 8: atom_positions are converged. No new structure factor calculation.\n",
      "  minimizing least squares sum\n",
      "  wR2: 0.017909, nit: 0, Optimization terminated successfully.\n",
      "step 9: atom_positions are converged. No new structure factor calculation.\n",
      "  minimizing least squares sum\n",
      "  wR2: 0.017909, nit: 0, Optimization terminated successfully.\n",
      "step 10: atom_positions are converged. No new structure factor calculation.\n",
      "  minimizing least squares sum\n",
      "  wR2: 0.017909, nit: 0, Optimization terminated successfully.\n",
      "Calculation finished. calculating variance-covariance matrix.\n",
      "Ended refinement at  2022-01-04 18:50:18.342661\n"
     ]
    }
   ],
   "source": [
    "refinement_dict['core_io'] = ('save', os.path.join(output_folder, 'f0j_core.pic'))\n",
    "\n",
    "computation_dict = {\n",
    "    'xc': 'SCAN',\n",
    "    'txt': os.path.join(output_folder, 'gpaw.txt'),\n",
    "    'mode': 'fd',\n",
    "    'h': 0.225,\n",
    "    'gridinterpolation': 4,\n",
    "    'average_symmequiv': False,\n",
    "    'convergence':{'density': 1e-7},\n",
    "    'kpts': {'size': (1, 1, 1), 'gamma': True},\n",
    "    'symmetry': {'symmorphic': False},\n",
    "    'nbands': -2,\n",
    "    'save_file': os.path.join(output_folder, 'gpaw_result.gpw')\n",
    "}\n",
    "parameters, var_cov_mat, information = refine(\n",
    "    cell=cell, \n",
    "    symm_mats_vecs=symm_mats_vecs,\n",
    "    hkl=hkl,\n",
    "    construction_instructions=construction_instructions,\n",
    "    parameters=parameters,\n",
    "    wavelength=wavelength,\n",
    "    refinement_dict=refinement_dict,\n",
    "    computation_dict=computation_dict\n",
    ")"
   ]
  },
  {
   "cell_type": "code",
   "execution_count": 12,
   "id": "0278f051-dec6-455e-8b49-5d425798fc7b",
   "metadata": {},
   "outputs": [
    {
     "name": "stdout",
     "output_type": "stream",
     "text": [
      "Started refinement at  2022-01-04 18:50:18.362221\n",
      "Preparing\n",
      "  loaded core atomic form factors from disk\n",
      "  calculating first atomic form factors\n",
      "  calculated density with energy -107.51867024835322\n",
      "  building least squares function\n",
      "  setting up gradients\n",
      "step 0: Optimizing scaling\n",
      "  wR2: 0.018111, nit: 1, Optimization terminated successfully.\n",
      "  minimizing least squares sum\n",
      "  wR2: 0.017494, nit: 32, Optimization terminated successfully.\n",
      "step 1: calculating new structure factors\n",
      "  calculated density with energy -107.52331413754592\n",
      "  minimizing least squares sum\n",
      "  wR2: 0.017478, nit: 31, Optimization terminated successfully.\n",
      "step 2: calculating new structure factors\n",
      "  calculated density with energy -107.52285136030288\n",
      "  minimizing least squares sum\n",
      "  wR2: 0.017479, nit: 30, Optimization terminated successfully.\n",
      "step 3: calculating new structure factors\n",
      "  calculated density with energy -107.52290521346778\n",
      "  minimizing least squares sum\n",
      "  wR2: 0.017479, nit: 31, Optimization terminated successfully.\n",
      "step 4: calculating new structure factors\n",
      "  calculated density with energy -107.52289892725781\n",
      "  minimizing least squares sum\n",
      "  wR2: 0.017479, nit: 30, Optimization terminated successfully.\n",
      "step 5: atom_positions are converged. No new structure factor calculation.\n",
      "  minimizing least squares sum\n",
      "  wR2: 0.017479, nit: 0, Optimization terminated successfully.\n",
      "step 6: atom_positions are converged. No new structure factor calculation.\n",
      "  minimizing least squares sum\n",
      "  wR2: 0.017479, nit: 0, Optimization terminated successfully.\n",
      "step 7: atom_positions are converged. No new structure factor calculation.\n",
      "  minimizing least squares sum\n",
      "  wR2: 0.017479, nit: 0, Optimization terminated successfully.\n",
      "step 8: atom_positions are converged. No new structure factor calculation.\n",
      "  minimizing least squares sum\n",
      "  wR2: 0.017479, nit: 0, Optimization terminated successfully.\n",
      "step 9: atom_positions are converged. No new structure factor calculation.\n",
      "  minimizing least squares sum\n",
      "  wR2: 0.017479, nit: 0, Optimization terminated successfully.\n",
      "step 10: atom_positions are converged. No new structure factor calculation.\n",
      "  minimizing least squares sum\n",
      "  wR2: 0.017479, nit: 0, Optimization terminated successfully.\n",
      "Calculation finished. calculating variance-covariance matrix.\n",
      "Ended refinement at  2022-01-04 19:08:11.939347\n"
     ]
    }
   ],
   "source": [
    "refinement_dict['core_io'] = ('load', os.path.join(output_folder, 'f0j_core.pic'))\n",
    "\n",
    "computation_dict = {\n",
    "    'xc': 'SCAN',\n",
    "    'txt': os.path.join(output_folder, 'gpaw.txt'),\n",
    "    'mode': 'fd',\n",
    "    'h': 0.125,\n",
    "    'gridinterpolation': 4,\n",
    "    #'poissonsolver': poissonsolver,d\n",
    "    'average_symmequiv': False,\n",
    "    'convergence':{'density': 1e-7},\n",
    "    'kpts': {'size': (2, 2, 2), 'gamma': True},\n",
    "    #'kpts': {'size': (1, 1, 1), 'gamma': True},\n",
    "    'symmetry': {'symmorphic': False},\n",
    "    'nbands': -2,\n",
    "    'save_file': os.path.join(output_folder, 'gpaw_result.gpw')\n",
    "}\n",
    "parameters, var_cov_mat, information = refine(\n",
    "    cell=cell, \n",
    "    symm_mats_vecs=symm_mats_vecs,\n",
    "    hkl=hkl,\n",
    "    construction_instructions=construction_instructions,\n",
    "    parameters=parameters,\n",
    "    wavelength=wavelength,\n",
    "    refinement_dict=refinement_dict,\n",
    "    computation_dict=computation_dict\n",
    ")"
   ]
  },
  {
   "cell_type": "code",
   "execution_count": 13,
   "id": "9e228de7-b354-4191-8635-63ed4c8c3fab",
   "metadata": {},
   "outputs": [],
   "source": [
    "write_fcf(\n",
    "    fcf_path=os.path.join(output_folder, filename + '.fcf'),\n",
    "    fcf_dataset='xharpy',\n",
    "    fcf_mode=4,\n",
    "    cell=cell,\n",
    "    hkl=hkl,\n",
    "    construction_instructions=construction_instructions,\n",
    "    parameters=parameters,\n",
    "    wavelength=wavelength,\n",
    "    refinement_dict=refinement_dict,\n",
    "    symm_strings=symm_strings,\n",
    "    information=information,\n",
    ");"
   ]
  },
  {
   "cell_type": "code",
   "execution_count": 14,
   "id": "71fe3df0-9251-4830-b222-dc5ddf5c10e7",
   "metadata": {},
   "outputs": [],
   "source": [
    "write_fcf(\n",
    "    fcf_path=os.path.join(output_folder, filename + '_6.fcf'),\n",
    "    fcf_dataset='xharpy_6',\n",
    "    fcf_mode=6,\n",
    "    cell=cell,\n",
    "    hkl=hkl,\n",
    "    construction_instructions=construction_instructions,\n",
    "    parameters=parameters,\n",
    "    wavelength=wavelength,\n",
    "    refinement_dict=refinement_dict,\n",
    "    symm_strings=symm_strings,\n",
    "    information=information,\n",
    ");"
   ]
  },
  {
   "cell_type": "code",
   "execution_count": 15,
   "id": "d271149f-405d-4bd8-831e-2971072ffcde",
   "metadata": {},
   "outputs": [],
   "source": [
    "write_res(\n",
    "    out_res_path=os.path.join(output_folder, filename + '_6.res'),\n",
    "    in_res_path='iam.lst',\n",
    "    cell=cell,\n",
    "    cell_esd=cell_esd,\n",
    "    construction_instructions=construction_instructions,\n",
    "    parameters=parameters,\n",
    "    wavelength=wavelength\n",
    ")"
   ]
  },
  {
   "cell_type": "code",
   "execution_count": 16,
   "id": "2f0244c9-437b-426b-bc51-2554c4ce7ea8",
   "metadata": {},
   "outputs": [],
   "source": [
    "write_cif(\n",
    "    output_cif_path=os.path.join(output_folder, filename + '.cif'),\n",
    "    cif_dataset=filename,\n",
    "    shelx_cif_path='iam.cif',\n",
    "    shelx_dataset=0,\n",
    "    cell=cell,\n",
    "    cell_esd=cell_esd,\n",
    "    symm_mats_vecs=symm_mats_vecs,\n",
    "    hkl=hkl,\n",
    "    construction_instructions=construction_instructions,\n",
    "    parameters=parameters,\n",
    "    var_cov_mat=var_cov_mat,\n",
    "    refinement_dict=refinement_dict,\n",
    "    computation_dict=computation_dict,\n",
    "    information=information\n",
    ")"
   ]
  },
  {
   "cell_type": "code",
   "execution_count": 17,
   "id": "752f8373-63c6-4029-8979-f23be8dbaf8d",
   "metadata": {},
   "outputs": [],
   "source": [
    "atom_table = create_atom_table(cell, construction_instructions, parameters, var_cov_mat)"
   ]
  },
  {
   "cell_type": "code",
   "execution_count": 18,
   "id": "c1ad12ec-2847-457d-9a5a-bb9851d2c47e",
   "metadata": {},
   "outputs": [],
   "source": [
    "constraint_dict['O']['cijk'] = ConstrainedValues(\n",
    "    variable_indexes = (-1, -1, 0, -1, -1, 1, -1, 1, -1, 2),\n",
    "    multiplicators = (0.0, 0.0, 1.0, 0.0, 0.0, 1.0, 0.0, 1.0, 0.0, 1.0),\n",
    "    added_value = tuple([0]* 10),\n",
    "    special_position=True\n",
    ")\n",
    "constraint_dict['N']['cijk'] = ConstrainedValues(\n",
    "    variable_indexes=(0, 0, 1, 2, 2, 3, 4, 3, 4, 5),\n",
    "    multiplicators=tuple([1.0]*10),\n",
    "    added_value=tuple([0.0]*10),\n",
    "    special_position=True\n",
    ")\n",
    "\n",
    "\n",
    "construction_instructions, parameters = create_construction_instructions(\n",
    "    atom_table=atom_table,\n",
    "    constraint_dict=constraint_dict,\n",
    "    refinement_dict=refinement_dict,\n",
    "    atoms_for_gc3=['N', 'O'],\n",
    "    scaling0=float(parameters[0])\n",
    ")"
   ]
  },
  {
   "cell_type": "code",
   "execution_count": 19,
   "id": "aac842ab-d226-44ce-8fbc-7f2346d71107",
   "metadata": {},
   "outputs": [],
   "source": [
    "refinement_dict['reload_step'] = 0"
   ]
  },
  {
   "cell_type": "code",
   "execution_count": 20,
   "id": "460bb2b2-5ece-41dd-bc0a-a94d5adc3052",
   "metadata": {},
   "outputs": [
    {
     "name": "stdout",
     "output_type": "stream",
     "text": [
      "Started refinement at  2022-01-04 19:08:18.947493\n",
      "Preparing\n",
      "  loaded core atomic form factors from disk\n",
      "  calculating first atomic form factors\n",
      "  calculated density with energy -107.52289978473223\n",
      "  building least squares function\n",
      "  setting up gradients\n",
      "step 0: Optimizing scaling\n",
      "  wR2: 0.017386, nit: 1, Optimization terminated successfully.\n",
      "  minimizing least squares sum\n",
      "  wR2: 0.013981, nit: 46, Desired error not necessarily achieved due to precision loss.\n",
      "step 1: calculating new structure factors\n",
      "  calculated density with energy -107.52010270597374\n",
      "  minimizing least squares sum\n",
      "  wR2: 0.013993, nit: 46, Desired error not necessarily achieved due to precision loss.\n",
      "step 2: calculating new structure factors\n",
      "  calculated density with energy -107.52063337098409\n",
      "  minimizing least squares sum\n",
      "  wR2: 0.013992, nit: 44, Desired error not necessarily achieved due to precision loss.\n",
      "step 3: calculating new structure factors\n",
      "  calculated density with energy -107.52058071536527\n",
      "  minimizing least squares sum\n",
      "  wR2: 0.013992, nit: 42, Desired error not necessarily achieved due to precision loss.\n",
      "step 4: calculating new structure factors\n",
      "  calculated density with energy -107.52058687859301\n",
      "  minimizing least squares sum\n",
      "  wR2: 0.013992, nit: 36, Desired error not necessarily achieved due to precision loss.\n",
      "step 5: atom_positions are converged. No new structure factor calculation.\n",
      "  minimizing least squares sum\n",
      "  wR2: 0.013992, nit: 31, Desired error not necessarily achieved due to precision loss.\n",
      "step 6: atom_positions are converged. No new structure factor calculation.\n",
      "  minimizing least squares sum\n",
      "  wR2: 0.013992, nit: 31, Desired error not necessarily achieved due to precision loss.\n",
      "step 7: atom_positions are converged. No new structure factor calculation.\n",
      "  minimizing least squares sum\n",
      "  wR2: 0.013992, nit: 4, Desired error not necessarily achieved due to precision loss.\n",
      "step 8: atom_positions are converged. No new structure factor calculation.\n",
      "  minimizing least squares sum\n",
      "  wR2: 0.013992, nit: 0, Desired error not necessarily achieved due to precision loss.\n",
      "step 9: atom_positions are converged. No new structure factor calculation.\n",
      "  minimizing least squares sum\n",
      "  wR2: 0.013992, nit: 0, Desired error not necessarily achieved due to precision loss.\n",
      "step 10: atom_positions are converged. No new structure factor calculation.\n",
      "  minimizing least squares sum\n",
      "  wR2: 0.013992, nit: 0, Desired error not necessarily achieved due to precision loss.\n",
      "Calculation finished. calculating variance-covariance matrix.\n",
      "Ended refinement at  2022-01-04 19:21:15.900915\n"
     ]
    }
   ],
   "source": [
    "parameters, var_cov_mat, information = refine(\n",
    "    cell=cell, \n",
    "    symm_mats_vecs=symm_mats_vecs,\n",
    "    hkl=hkl,\n",
    "    construction_instructions=construction_instructions,\n",
    "    parameters=parameters,\n",
    "    wavelength=wavelength,\n",
    "    refinement_dict=refinement_dict,\n",
    "    computation_dict=computation_dict\n",
    ")"
   ]
  },
  {
   "cell_type": "code",
   "execution_count": 21,
   "id": "8cd321a3-4d80-42d0-87a0-196bd1bc1c64",
   "metadata": {},
   "outputs": [],
   "source": [
    "atom_table = create_atom_table(cell, construction_instructions, parameters, var_cov_mat)\n",
    "\n",
    "constraint_dict['O']['dijkl'] = ConstrainedValues(\n",
    "    variable_indexes=(0, 0, 1, 2, 2, -1, -1, -1, -1, 3, 4, 4, -1, -1, 5),\n",
    "    multiplicators=(1.0, 1.0, 1.0, 1.0, 1.0, 0.0, 0.0, 0.0, 0.0, 1.0, 1.0, 1.0, 0.0, 0.0, 1.0),\n",
    "    added_value=tuple([0.0]*15)\n",
    ")\n",
    "\n",
    "constraint_dict['N']['dijkl'] = ConstrainedValues(\n",
    "    variable_indexes=(0, 0, 1, 2, 2, 3, 4, 3, 4, 5, 6, 6, 7, 7, 8),\n",
    "    multiplicators=tuple([1.0]*15),\n",
    "    added_value=tuple([0.0]*15)\n",
    ")\n",
    "construction_instructions, parameters = create_construction_instructions(\n",
    "    atom_table=atom_table,\n",
    "    constraint_dict=constraint_dict,\n",
    "    refinement_dict=refinement_dict,\n",
    "    atoms_for_gc3=['N', 'O'],\n",
    "    atoms_for_gc4=['N', 'O'],\n",
    "    scaling0=float(parameters[0])\n",
    ")"
   ]
  },
  {
   "cell_type": "code",
   "execution_count": 22,
   "id": "3d5ec2f6-bcab-404a-b8cb-e433845e6461",
   "metadata": {},
   "outputs": [
    {
     "name": "stdout",
     "output_type": "stream",
     "text": [
      "Started refinement at  2022-01-04 19:21:16.345936\n",
      "Preparing\n",
      "  loaded core atomic form factors from disk\n",
      "  calculating first atomic form factors\n",
      "  calculated density with energy -107.5205860815965\n",
      "  building least squares function\n",
      "  setting up gradients\n",
      "step 0: Optimizing scaling\n",
      "  wR2: 0.013992, nit: 1, Optimization terminated successfully.\n",
      "  minimizing least squares sum\n",
      "  wR2: 0.013212, nit: 53, Desired error not necessarily achieved due to precision loss.\n",
      "step 1: calculating new structure factors\n",
      "  calculated density with energy -107.5279052818479\n",
      "  minimizing least squares sum\n",
      "  wR2: 0.013185, nit: 59, Desired error not necessarily achieved due to precision loss.\n",
      "step 2: calculating new structure factors\n",
      "  calculated density with energy -107.52757341538435\n",
      "  minimizing least squares sum\n",
      "  wR2: 0.013187, nit: 54, Desired error not necessarily achieved due to precision loss.\n",
      "step 3: calculating new structure factors\n",
      "  calculated density with energy -107.52760495393846\n",
      "  minimizing least squares sum\n",
      "  wR2: 0.013186, nit: 58, Desired error not necessarily achieved due to precision loss.\n",
      "step 4: calculating new structure factors\n",
      "  calculated density with energy -107.52760234960581\n",
      "  minimizing least squares sum\n",
      "  wR2: 0.013186, nit: 61, Desired error not necessarily achieved due to precision loss.\n",
      "step 5: atom_positions are converged. No new structure factor calculation.\n",
      "  minimizing least squares sum\n",
      "  wR2: 0.013186, nit: 1, Desired error not necessarily achieved due to precision loss.\n",
      "step 6: atom_positions are converged. No new structure factor calculation.\n",
      "  minimizing least squares sum\n",
      "  wR2: 0.013186, nit: 0, Desired error not necessarily achieved due to precision loss.\n",
      "step 7: atom_positions are converged. No new structure factor calculation.\n",
      "  minimizing least squares sum\n",
      "  wR2: 0.013186, nit: 0, Desired error not necessarily achieved due to precision loss.\n",
      "step 8: atom_positions are converged. No new structure factor calculation.\n",
      "  minimizing least squares sum\n",
      "  wR2: 0.013186, nit: 0, Desired error not necessarily achieved due to precision loss.\n",
      "step 9: atom_positions are converged. No new structure factor calculation.\n",
      "  minimizing least squares sum\n",
      "  wR2: 0.013186, nit: 0, Desired error not necessarily achieved due to precision loss.\n",
      "step 10: atom_positions are converged. No new structure factor calculation.\n",
      "  minimizing least squares sum\n",
      "  wR2: 0.013186, nit: 0, Desired error not necessarily achieved due to precision loss.\n",
      "Calculation finished. calculating variance-covariance matrix.\n",
      "Ended refinement at  2022-01-04 19:38:30.256408\n"
     ]
    }
   ],
   "source": [
    "parameters, var_cov_mat, information = refine(\n",
    "    cell=cell, \n",
    "    symm_mats_vecs=symm_mats_vecs,\n",
    "    hkl=hkl,\n",
    "    construction_instructions=construction_instructions,\n",
    "    parameters=parameters,\n",
    "    wavelength=wavelength,\n",
    "    refinement_dict=refinement_dict,\n",
    "    computation_dict=computation_dict\n",
    ")"
   ]
  },
  {
   "cell_type": "code",
   "execution_count": 23,
   "id": "1de3238a-8ceb-464e-a067-8baf6d97c0fe",
   "metadata": {},
   "outputs": [],
   "source": [
    "filename = 'xharpy_dijkl'"
   ]
  },
  {
   "cell_type": "code",
   "execution_count": 24,
   "id": "9f34907d-3f32-4da3-ba70-f26b2ac2b3f4",
   "metadata": {},
   "outputs": [],
   "source": [
    "write_cif(\n",
    "    output_cif_path=os.path.join(output_folder, filename + '.cif'),\n",
    "    cif_dataset=filename,\n",
    "    shelx_cif_path='iam.cif',\n",
    "    shelx_dataset=0,\n",
    "    cell=cell,\n",
    "    cell_esd=cell_esd,\n",
    "    symm_mats_vecs=symm_mats_vecs,\n",
    "    hkl=hkl,\n",
    "    construction_instructions=construction_instructions,\n",
    "    parameters=parameters,\n",
    "    var_cov_mat=var_cov_mat,\n",
    "    refinement_dict=refinement_dict,\n",
    "    computation_dict=computation_dict,\n",
    "    information=information\n",
    ")"
   ]
  },
  {
   "cell_type": "code",
   "execution_count": 25,
   "id": "f76ed1a2-58d5-470b-b889-0636ff6ed02c",
   "metadata": {},
   "outputs": [],
   "source": [
    "write_res(\n",
    "    out_res_path=os.path.join(output_folder, filename + '_6.res'),\n",
    "    in_res_path='iam.lst',\n",
    "    cell=cell,\n",
    "    cell_esd=cell_esd,\n",
    "    construction_instructions=construction_instructions,\n",
    "    parameters=parameters,\n",
    "    wavelength=wavelength\n",
    ")"
   ]
  },
  {
   "cell_type": "code",
   "execution_count": 26,
   "id": "8a3e6ef3-9f1d-422c-93e4-1e79fa904bd9",
   "metadata": {},
   "outputs": [],
   "source": [
    "write_fcf(\n",
    "    fcf_path=os.path.join(output_folder, filename + '_6.fcf'),\n",
    "    fcf_dataset='xharpy_6',\n",
    "    fcf_mode=6,\n",
    "    cell=cell,\n",
    "    hkl=hkl,\n",
    "    construction_instructions=construction_instructions,\n",
    "    parameters=parameters,\n",
    "    wavelength=wavelength,\n",
    "    refinement_dict=refinement_dict,\n",
    "    symm_strings=symm_strings,\n",
    "    information=information,\n",
    ");"
   ]
  },
  {
   "cell_type": "code",
   "execution_count": 27,
   "id": "3f5a3380-ca3c-4173-836f-8566d5ee6d3a",
   "metadata": {},
   "outputs": [],
   "source": [
    "write_fcf(\n",
    "    fcf_path=os.path.join(output_folder, filename + '.fcf'),\n",
    "    fcf_dataset='xharpy',\n",
    "    fcf_mode=4,\n",
    "    cell=cell,\n",
    "    hkl=hkl,\n",
    "    construction_instructions=construction_instructions,\n",
    "    parameters=parameters,\n",
    "    wavelength=wavelength,\n",
    "    refinement_dict=refinement_dict,\n",
    "    symm_strings=symm_strings,\n",
    "    information=information,\n",
    ");"
   ]
  },
  {
   "cell_type": "code",
   "execution_count": null,
   "id": "310df1cc-8c91-445d-8c46-4a96023367c9",
   "metadata": {},
   "outputs": [],
   "source": []
  }
 ],
 "metadata": {
  "kernelspec": {
   "display_name": "Python 3 (ipykernel)",
   "language": "python",
   "name": "python3"
  },
  "language_info": {
   "codemirror_mode": {
    "name": "ipython",
    "version": 3
   },
   "file_extension": ".py",
   "mimetype": "text/x-python",
   "name": "python",
   "nbconvert_exporter": "python",
   "pygments_lexer": "ipython3",
   "version": "3.8.12"
  }
 },
 "nbformat": 4,
 "nbformat_minor": 5
}
