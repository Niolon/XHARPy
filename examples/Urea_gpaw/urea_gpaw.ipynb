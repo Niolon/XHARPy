{
 "cells": [
  {
   "cell_type": "markdown",
   "id": "be2de800-cbce-4033-a10f-be75787e783c",
   "metadata": {},
   "source": [
    "# XHARPy Example: Urea with GPAW\n",
    "- Program: GPAW\n",
    "- SCAN calculation\n",
    "- Using MPI\n",
    "- Constant Core calculation\n",
    "- Multi-Step refinement\n",
    "- Save core density\n",
    "- Gram-Charlier Refinement\n",
    "- Atom table from refined parameters"
   ]
  },
  {
   "cell_type": "code",
   "execution_count": null,
   "id": "a2229241-5342-4aad-905e-8a6d9963c6f0",
   "metadata": {},
   "outputs": [],
   "source": [
    "from xharpy import (shelxl_hkl2pd, cif2data, lst2constraint_dict, create_construction_instructions,\n",
    "                    refine, write_cif, write_res, write_fcf, add_density_entries_from_fcf,\n",
    "                    ConstrainedValues, create_atom_table)\n",
    "import os"
   ]
  },
  {
   "cell_type": "code",
   "execution_count": null,
   "id": "b138c518-99cc-47c9-b4a1-ab9336a9e9ea",
   "metadata": {},
   "outputs": [],
   "source": [
    "output_folder = 'xharpy_output'\n",
    "if not os.path.exists(output_folder):\n",
    "    os.mkdir(output_folder)\n",
    "    \n",
    "filename = 'xharpy'"
   ]
  },
  {
   "cell_type": "markdown",
   "id": "c704d437-8a20-49ff-bc7b-ff38b69264f1",
   "metadata": {},
   "source": [
    "### Loading Data"
   ]
  },
  {
   "cell_type": "code",
   "execution_count": null,
   "id": "1f79d1c2-1e36-4913-a9e5-2788237ff0d6",
   "metadata": {},
   "outputs": [],
   "source": [
    "atom_table, cell, cell_esd, symm_mats_vecs, symm_strings, wavelength  = cif2data('iam.cif', 0)"
   ]
  },
  {
   "cell_type": "code",
   "execution_count": null,
   "id": "5dcbf5a4-2012-43d1-8efd-8015d2f981d9",
   "metadata": {},
   "outputs": [],
   "source": [
    "atom_table['adp_type'] = 'Uani'\n",
    "atom_table[['U_11', 'U_22', 'U_33']] = atom_table[['U_11', 'U_22', 'U_33']].fillna(0.01)\n",
    "atom_table[['U_12', 'U_23', 'U_13']] = atom_table[['U_12', 'U_23', 'U_13']].fillna(0.00)"
   ]
  },
  {
   "cell_type": "code",
   "execution_count": null,
   "id": "6961cd4e-5383-4b38-a4ba-106e2b7f5147",
   "metadata": {},
   "outputs": [],
   "source": [
    "hkl = shelxl_hkl2pd('iam.hkl')"
   ]
  },
  {
   "cell_type": "code",
   "execution_count": null,
   "id": "774a736b-b677-464a-92d9-690091cab728",
   "metadata": {},
   "outputs": [],
   "source": [
    "constraint_dict = lst2constraint_dict(\n",
    "    'iam.lst'\n",
    ")"
   ]
  },
  {
   "cell_type": "markdown",
   "id": "04b64a98-bf8f-46c4-9786-5a8a641f9bee",
   "metadata": {},
   "source": [
    "### Setting Options and Refinement\n",
    "The setting and refinenement step do not need to be separated. But the options of the refinement dict determining the number of parameters need to be set before calling *create_construction_instrucions*.\n",
    "\n",
    "Others like *core_io* can be changed afterwars"
   ]
  },
  {
   "cell_type": "code",
   "execution_count": null,
   "id": "16b285b7-8440-4282-b5be-beaeed203419",
   "metadata": {},
   "outputs": [],
   "source": [
    "refinement_dict = {\n",
    "    'f0j_source': 'gpaw_mpi',\n",
    "    'reload_step': 1,\n",
    "    'core': 'constant',\n",
    "}"
   ]
  },
  {
   "cell_type": "code",
   "execution_count": null,
   "id": "f26ae2e0-4053-4d91-b0e4-4749a7c95d5f",
   "metadata": {},
   "outputs": [],
   "source": [
    "construction_instructions, parameters = create_construction_instructions(\n",
    "    atom_table=atom_table,\n",
    "    constraint_dict=constraint_dict,\n",
    "    refinement_dict=refinement_dict\n",
    ")\n"
   ]
  },
  {
   "cell_type": "markdown",
   "id": "43133115-9df5-4250-b003-f176a1a85961",
   "metadata": {},
   "source": [
    "Here we refine with a larger grid-spacing at the beginning to save some time"
   ]
  },
  {
   "cell_type": "code",
   "execution_count": null,
   "id": "b899b661-42d3-4cff-9368-3be7ce914463",
   "metadata": {},
   "outputs": [],
   "source": [
    "refinement_dict['core_io'] = ('save', os.path.join(output_folder, 'f0j_core.pic'))\n",
    "\n",
    "computation_dict = {\n",
    "    'xc': 'SCAN',\n",
    "    'txt': os.path.join(output_folder, 'gpaw.txt'),\n",
    "    'mode': 'fd',\n",
    "    'h': 0.225,\n",
    "    'gridinterpolation': 4,\n",
    "    'symm_equiv': 'once',\n",
    "    'convergence':{'density': 1e-7},\n",
    "    'kpts': {'size': (1, 1, 1), 'gamma': True},\n",
    "    'symmetry': {'symmorphic': False},\n",
    "    'nbands': -2,\n",
    "    'save_file': os.path.join(output_folder, 'gpaw_result.gpw')\n",
    "}\n",
    "parameters, var_cov_mat, information = refine(\n",
    "    cell=cell, \n",
    "    symm_mats_vecs=symm_mats_vecs,\n",
    "    hkl=hkl,\n",
    "    construction_instructions=construction_instructions,\n",
    "    parameters=parameters,\n",
    "    wavelength=wavelength,\n",
    "    refinement_dict=refinement_dict,\n",
    "    computation_dict=computation_dict\n",
    ")"
   ]
  },
  {
   "cell_type": "markdown",
   "id": "ccb5d140-de11-4a5c-9f1c-40c96ac9c548",
   "metadata": {},
   "source": [
    "This is the second refinement with a finer grid spacing and more k-points"
   ]
  },
  {
   "cell_type": "code",
   "execution_count": null,
   "id": "0278f051-dec6-455e-8b49-5d425798fc7b",
   "metadata": {},
   "outputs": [],
   "source": [
    "refinement_dict['core_io'] = ('load', os.path.join(output_folder, 'f0j_core.pic'))\n",
    "\n",
    "computation_dict = {\n",
    "    'xc': 'SCAN',\n",
    "    'txt': os.path.join(output_folder, 'gpaw.txt'),\n",
    "    'mode': 'fd',\n",
    "    'h': 0.100,\n",
    "    'gridinterpolation': 4,\n",
    "    'symm_equiv': 'once',\n",
    "    'convergence':{'density': 1e-7},\n",
    "    'kpts': {'size': (3, 3, 3), 'gamma': True},\n",
    "    'symmetry': {'symmorphic': False},\n",
    "    'nbands': -2,\n",
    "    'save_file': os.path.join(output_folder, 'gpaw_result.gpw')\n",
    "}\n",
    "parameters, var_cov_mat, information = refine(\n",
    "    cell=cell, \n",
    "    symm_mats_vecs=symm_mats_vecs,\n",
    "    hkl=hkl,\n",
    "    construction_instructions=construction_instructions,\n",
    "    parameters=parameters,\n",
    "    wavelength=wavelength,\n",
    "    refinement_dict=refinement_dict,\n",
    "    computation_dict=computation_dict\n",
    ")"
   ]
  },
  {
   "cell_type": "markdown",
   "id": "1803cd04-5693-49c2-b1bd-4dfb3b58cde9",
   "metadata": {},
   "source": [
    "### Write data from the first refinement to disk"
   ]
  },
  {
   "cell_type": "code",
   "execution_count": null,
   "id": "9e228de7-b354-4191-8635-63ed4c8c3fab",
   "metadata": {},
   "outputs": [],
   "source": [
    "write_fcf(\n",
    "    fcf_path=os.path.join(output_folder, filename + '.fcf'),\n",
    "    fcf_dataset='xharpy',\n",
    "    fcf_mode=4,\n",
    "    cell=cell,\n",
    "    hkl=hkl,\n",
    "    construction_instructions=construction_instructions,\n",
    "    parameters=parameters,\n",
    "    wavelength=wavelength,\n",
    "    refinement_dict=refinement_dict,\n",
    "    symm_strings=symm_strings,\n",
    "    information=information,\n",
    ");"
   ]
  },
  {
   "cell_type": "code",
   "execution_count": null,
   "id": "71fe3df0-9251-4830-b222-dc5ddf5c10e7",
   "metadata": {},
   "outputs": [],
   "source": [
    "write_fcf(\n",
    "    fcf_path=os.path.join(output_folder, filename + '_6.fcf'),\n",
    "    fcf_dataset='xharpy_6',\n",
    "    fcf_mode=6,\n",
    "    cell=cell,\n",
    "    hkl=hkl,\n",
    "    construction_instructions=construction_instructions,\n",
    "    parameters=parameters,\n",
    "    wavelength=wavelength,\n",
    "    refinement_dict=refinement_dict,\n",
    "    symm_strings=symm_strings,\n",
    "    information=information,\n",
    ");"
   ]
  },
  {
   "cell_type": "code",
   "execution_count": null,
   "id": "d271149f-405d-4bd8-831e-2971072ffcde",
   "metadata": {},
   "outputs": [],
   "source": [
    "write_res(\n",
    "    out_res_path=os.path.join(output_folder, filename + '_6.res'),\n",
    "    in_res_path='iam.lst',\n",
    "    cell=cell,\n",
    "    cell_esd=cell_esd,\n",
    "    construction_instructions=construction_instructions,\n",
    "    parameters=parameters,\n",
    "    wavelength=wavelength\n",
    ")"
   ]
  },
  {
   "cell_type": "code",
   "execution_count": null,
   "id": "2f0244c9-437b-426b-bc51-2554c4ce7ea8",
   "metadata": {},
   "outputs": [],
   "source": [
    "write_cif(\n",
    "    output_cif_path=os.path.join(output_folder, filename + '.cif'),\n",
    "    cif_dataset=filename,\n",
    "    shelx_cif_path='iam.cif',\n",
    "    shelx_dataset=0,\n",
    "    cell=cell,\n",
    "    cell_esd=cell_esd,\n",
    "    symm_mats_vecs=symm_mats_vecs,\n",
    "    hkl=hkl,\n",
    "    construction_instructions=construction_instructions,\n",
    "    parameters=parameters,\n",
    "    var_cov_mat=var_cov_mat,\n",
    "    refinement_dict=refinement_dict,\n",
    "    computation_dict=computation_dict,\n",
    "    information=information\n",
    ")"
   ]
  },
  {
   "cell_type": "code",
   "execution_count": null,
   "id": "71ffcf98-0df0-4069-865f-d6cd40537db1",
   "metadata": {},
   "outputs": [],
   "source": [
    "add_density_entries_from_fcf(\n",
    "    os.path.join(output_folder, filename + '.cif'),\n",
    "    os.path.join(output_folder, filename + '_6.fcf')\n",
    ")"
   ]
  },
  {
   "cell_type": "markdown",
   "id": "a079e036-3131-42be-a2c2-394dcd1108af",
   "metadata": {},
   "source": [
    "### Refinement with Third-Order Gram-Charlier\n",
    "\n",
    "We need to create new construction instructions if we want to refine more parameters. We also need symmetry constraints for the Gram-Charlier parameters. Finally, the refinement needs to be activated with the *atoms_for_gc3* entry in the construction instructions"
   ]
  },
  {
   "cell_type": "code",
   "execution_count": null,
   "id": "752f8373-63c6-4029-8979-f23be8dbaf8d",
   "metadata": {},
   "outputs": [],
   "source": [
    "atom_table = create_atom_table(cell, construction_instructions, parameters, var_cov_mat)"
   ]
  },
  {
   "cell_type": "code",
   "execution_count": null,
   "id": "c1ad12ec-2847-457d-9a5a-bb9851d2c47e",
   "metadata": {},
   "outputs": [],
   "source": [
    "constraint_dict['O']['cijk'] = ConstrainedValues(\n",
    "    variable_indexes = (-1, -1, 0, -1, -1, 1, -1, 1, -1, 2),\n",
    "    multiplicators = (0.0, 0.0, 1.0, 0.0, 0.0, 1.0, 0.0, 1.0, 0.0, 1.0),\n",
    "    added_value = tuple([0]* 10),\n",
    "    special_position=True\n",
    ")\n",
    "constraint_dict['N']['cijk'] = ConstrainedValues(\n",
    "    variable_indexes=(0, 0, 1, 2, 2, 3, 4, 3, 4, 5),\n",
    "    multiplicators=tuple([1.0]*10),\n",
    "    added_value=tuple([0.0]*10),\n",
    "    special_position=True\n",
    ")\n",
    "\n",
    "\n",
    "construction_instructions, parameters = create_construction_instructions(\n",
    "    atom_table=atom_table,\n",
    "    constraint_dict=constraint_dict,\n",
    "    refinement_dict=refinement_dict,\n",
    "    atoms_for_gc3=['N', 'O'],\n",
    "    scaling0=float(parameters[0])\n",
    ")"
   ]
  },
  {
   "cell_type": "code",
   "execution_count": null,
   "id": "aac842ab-d226-44ce-8fbc-7f2346d71107",
   "metadata": {},
   "outputs": [],
   "source": [
    "refinement_dict['reload_step'] = 0"
   ]
  },
  {
   "cell_type": "code",
   "execution_count": null,
   "id": "460bb2b2-5ece-41dd-bc0a-a94d5adc3052",
   "metadata": {},
   "outputs": [],
   "source": [
    "parameters, var_cov_mat, information = refine(\n",
    "    cell=cell, \n",
    "    symm_mats_vecs=symm_mats_vecs,\n",
    "    hkl=hkl,\n",
    "    construction_instructions=construction_instructions,\n",
    "    parameters=parameters,\n",
    "    wavelength=wavelength,\n",
    "    refinement_dict=refinement_dict,\n",
    "    computation_dict=computation_dict\n",
    ")"
   ]
  },
  {
   "cell_type": "markdown",
   "id": "5fcd5389-9c8f-4566-8225-1f734a29b4f3",
   "metadata": {},
   "source": [
    "### Refinement with Fourth-order Gram-Charlier"
   ]
  },
  {
   "cell_type": "code",
   "execution_count": null,
   "id": "8cd321a3-4d80-42d0-87a0-196bd1bc1c64",
   "metadata": {},
   "outputs": [],
   "source": [
    "atom_table = create_atom_table(cell, construction_instructions, parameters, var_cov_mat)\n",
    "\n",
    "constraint_dict['O']['dijkl'] = ConstrainedValues(\n",
    "    variable_indexes=(0, 0, 1, 2, 2, -1, -1, -1, -1, 3, 4, 4, -1, -1, 5),\n",
    "    multiplicators=(1.0, 1.0, 1.0, 1.0, 1.0, 0.0, 0.0, 0.0, 0.0, 1.0, 1.0, 1.0, 0.0, 0.0, 1.0),\n",
    "    added_value=tuple([0.0]*15)\n",
    ")\n",
    "\n",
    "constraint_dict['N']['dijkl'] = ConstrainedValues(\n",
    "    variable_indexes=(0, 0, 1, 2, 2, 3, 4, 3, 4, 5, 6, 6, 7, 7, 8),\n",
    "    multiplicators=tuple([1.0]*15),\n",
    "    added_value=tuple([0.0]*15)\n",
    ")\n",
    "construction_instructions, parameters = create_construction_instructions(\n",
    "    atom_table=atom_table,\n",
    "    constraint_dict=constraint_dict,\n",
    "    refinement_dict=refinement_dict,\n",
    "    atoms_for_gc3=['N', 'O'],\n",
    "    atoms_for_gc4=['N', 'O'],\n",
    "    scaling0=float(parameters[0])\n",
    ")"
   ]
  },
  {
   "cell_type": "code",
   "execution_count": null,
   "id": "3d5ec2f6-bcab-404a-b8cb-e433845e6461",
   "metadata": {},
   "outputs": [],
   "source": [
    "parameters, var_cov_mat, information = refine(\n",
    "    cell=cell, \n",
    "    symm_mats_vecs=symm_mats_vecs,\n",
    "    hkl=hkl,\n",
    "    construction_instructions=construction_instructions,\n",
    "    parameters=parameters,\n",
    "    wavelength=wavelength,\n",
    "    refinement_dict=refinement_dict,\n",
    "    computation_dict=computation_dict\n",
    ")"
   ]
  },
  {
   "cell_type": "markdown",
   "id": "612b3a46-a540-4a80-9703-a9c2646ab49a",
   "metadata": {},
   "source": [
    "### Writing Data to disk"
   ]
  },
  {
   "cell_type": "code",
   "execution_count": null,
   "id": "1de3238a-8ceb-464e-a067-8baf6d97c0fe",
   "metadata": {},
   "outputs": [],
   "source": [
    "filename = 'xharpy_dijkl'"
   ]
  },
  {
   "cell_type": "code",
   "execution_count": null,
   "id": "9f34907d-3f32-4da3-ba70-f26b2ac2b3f4",
   "metadata": {},
   "outputs": [],
   "source": [
    "write_cif(\n",
    "    output_cif_path=os.path.join(output_folder, filename + '.cif'),\n",
    "    cif_dataset=filename,\n",
    "    shelx_cif_path='iam.cif',\n",
    "    shelx_dataset=0,\n",
    "    cell=cell,\n",
    "    cell_esd=cell_esd,\n",
    "    symm_mats_vecs=symm_mats_vecs,\n",
    "    hkl=hkl,\n",
    "    construction_instructions=construction_instructions,\n",
    "    parameters=parameters,\n",
    "    var_cov_mat=var_cov_mat,\n",
    "    refinement_dict=refinement_dict,\n",
    "    computation_dict=computation_dict,\n",
    "    information=information\n",
    ")"
   ]
  },
  {
   "cell_type": "code",
   "execution_count": null,
   "id": "f76ed1a2-58d5-470b-b889-0636ff6ed02c",
   "metadata": {},
   "outputs": [],
   "source": [
    "write_res(\n",
    "    out_res_path=os.path.join(output_folder, filename + '_6.res'),\n",
    "    in_res_path='iam.lst',\n",
    "    cell=cell,\n",
    "    cell_esd=cell_esd,\n",
    "    construction_instructions=construction_instructions,\n",
    "    parameters=parameters,\n",
    "    wavelength=wavelength\n",
    ")"
   ]
  },
  {
   "cell_type": "code",
   "execution_count": null,
   "id": "8a3e6ef3-9f1d-422c-93e4-1e79fa904bd9",
   "metadata": {},
   "outputs": [],
   "source": [
    "write_fcf(\n",
    "    fcf_path=os.path.join(output_folder, filename + '_6.fcf'),\n",
    "    fcf_dataset='xharpy_6',\n",
    "    fcf_mode=6,\n",
    "    cell=cell,\n",
    "    hkl=hkl,\n",
    "    construction_instructions=construction_instructions,\n",
    "    parameters=parameters,\n",
    "    wavelength=wavelength,\n",
    "    refinement_dict=refinement_dict,\n",
    "    symm_strings=symm_strings,\n",
    "    information=information,\n",
    ");"
   ]
  },
  {
   "cell_type": "code",
   "execution_count": null,
   "id": "3f5a3380-ca3c-4173-836f-8566d5ee6d3a",
   "metadata": {},
   "outputs": [],
   "source": [
    "write_fcf(\n",
    "    fcf_path=os.path.join(output_folder, filename + '.fcf'),\n",
    "    fcf_dataset='xharpy',\n",
    "    fcf_mode=4,\n",
    "    cell=cell,\n",
    "    hkl=hkl,\n",
    "    construction_instructions=construction_instructions,\n",
    "    parameters=parameters,\n",
    "    wavelength=wavelength,\n",
    "    refinement_dict=refinement_dict,\n",
    "    symm_strings=symm_strings,\n",
    "    information=information,\n",
    ");"
   ]
  },
  {
   "cell_type": "code",
   "execution_count": null,
   "id": "310df1cc-8c91-445d-8c46-4a96023367c9",
   "metadata": {},
   "outputs": [],
   "source": [
    "add_density_entries_from_fcf(\n",
    "    os.path.join(output_folder, filename + '.cif'),\n",
    "    os.path.join(output_folder, filename + '_6.fcf')\n",
    ")"
   ]
  }
 ],
 "metadata": {
  "kernelspec": {
   "display_name": "Python 3 (ipykernel)",
   "language": "python",
   "name": "python3"
  },
  "language_info": {
   "codemirror_mode": {
    "name": "ipython",
    "version": 3
   },
   "file_extension": ".py",
   "mimetype": "text/x-python",
   "name": "python",
   "nbconvert_exporter": "python",
   "pygments_lexer": "ipython3",
   "version": "3.8.12"
  }
 },
 "nbformat": 4,
 "nbformat_minor": 5
}
