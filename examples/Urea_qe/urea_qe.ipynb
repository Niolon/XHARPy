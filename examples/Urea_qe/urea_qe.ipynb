{
 "cells": [
  {
   "cell_type": "markdown",
   "id": "3ee7200d-e9db-48e2-8f61-5751f8834d8d",
   "metadata": {},
   "source": [
    "# XHARPy Example: Urea with Quantum Espresso\n",
    " - Program: Quantum Espresso\n",
    " - B3LYP calculation from PBE files\n",
    " - Core scaling"
   ]
  },
  {
   "cell_type": "code",
   "execution_count": null,
   "id": "6a803794-5d39-45c5-965d-59625028bcdc",
   "metadata": {},
   "outputs": [
    {
     "name": "stderr",
     "output_type": "stream",
     "text": [
      "WARNING:absl:No GPU/TPU found, falling back to CPU. (Set TF_CPP_MIN_LOG_LEVEL=0 and rerun for more info.)\n"
     ]
    }
   ],
   "source": [
    "from xharpy import (shelxl_hkl2pd, cif2data, lst2constraint_dict, create_construction_instructions,\n",
    "                    refine, write_cif, write_res, write_fcf, add_density_entries_from_fcf)\n",
    "import os"
   ]
  },
  {
   "cell_type": "code",
   "execution_count": null,
   "id": "9286276e-43fe-4f9e-a1d1-746daac65512",
   "metadata": {},
   "outputs": [],
   "source": [
    "output_folder = 'xharpy_output'\n",
    "if not os.path.exists(output_folder):\n",
    "    os.mkdir(output_folder)"
   ]
  },
  {
   "cell_type": "markdown",
   "id": "ddb67ac1-613d-471e-a392-53b19df1d89c",
   "metadata": {},
   "source": [
    "### Loading Data"
   ]
  },
  {
   "cell_type": "code",
   "execution_count": null,
   "id": "2ab6a465-1f93-47ea-b4fb-357c57f25df4",
   "metadata": {},
   "outputs": [],
   "source": [
    "atom_table, cell, cell_esd, symm_mats_vecs, symm_strings, wavelength  = cif2data('iam.cif', 0)"
   ]
  },
  {
   "cell_type": "code",
   "execution_count": null,
   "id": "0880db56-e880-4939-9770-4192a25ab273",
   "metadata": {},
   "outputs": [],
   "source": [
    "hkl = shelxl_hkl2pd('iam.hkl')"
   ]
  },
  {
   "cell_type": "code",
   "execution_count": null,
   "id": "125e12b4-4326-4dd5-8bf7-3c161b1ea4b9",
   "metadata": {},
   "outputs": [],
   "source": [
    "constraint_dict = lst2constraint_dict('iam.lst')"
   ]
  },
  {
   "cell_type": "markdown",
   "id": "bef95e25-e4a7-4c37-ac0c-aa24c9d07c01",
   "metadata": {},
   "source": [
    "### Setting Options"
   ]
  },
  {
   "cell_type": "code",
   "execution_count": null,
   "id": "b3cb250d-fd3c-4cb2-b0b5-9b6ae82d60cf",
   "metadata": {},
   "outputs": [],
   "source": [
    "refinement_dict = {\n",
    "    'f0j_source': 'qe',\n",
    "    'reload_step': 1,\n",
    "    'core': 'scale',\n",
    "}"
   ]
  },
  {
   "cell_type": "code",
   "execution_count": null,
   "id": "d2b111f8-1087-469f-80b6-a987141f5ba2",
   "metadata": {},
   "outputs": [],
   "source": [
    "computation_dict = {\n",
    "    'symm_equiv': 'once',\n",
    "    'mpicores': 2,\n",
    "    'control': {\n",
    "        'prefix': 'A23',\n",
    "        'pseudo_dir': './pseudo/',\n",
    "    },\n",
    "    'system': {\n",
    "        'ibrav': 6,\n",
    "        'a': float(cell[0]),\n",
    "        'c': float(cell[2]),\n",
    "        'ecutwfc': 50,\n",
    "        'ecutrho': 200,\n",
    "        'input_dft': 'b3lyp'\n",
    "    },\n",
    "    'paw_files': {\n",
    "        'H': 'H.pbe-kjpaw_psl.1.0.0.UPF',\n",
    "        'C': 'C.pbe-n-kjpaw_psl.1.0.0.UPF',\n",
    "        'O': 'O.pbe-n-kjpaw_psl.1.0.0.UPF',\n",
    "        'N': 'N.pbe-n-kjpaw_psl.1.0.0.UPF'\n",
    "    },\n",
    "    'k_points':{\n",
    "        'mode': 'automatic',\n",
    "        'input': '1 1 1 0 0 0'\n",
    "    }\n",
    "}"
   ]
  },
  {
   "cell_type": "markdown",
   "id": "ed88e592-1f11-4c07-a266-55f98f06028c",
   "metadata": {},
   "source": [
    "### Refinement"
   ]
  },
  {
   "cell_type": "code",
   "execution_count": null,
   "id": "b3eaa59c-9f80-4b51-9c63-77f7a2b3ef4c",
   "metadata": {},
   "outputs": [],
   "source": [
    "construction_instructions, parameters = create_construction_instructions(\n",
    "    atom_table=atom_table,\n",
    "    constraint_dict=constraint_dict,\n",
    "    refinement_dict=refinement_dict\n",
    ")\n"
   ]
  },
  {
   "cell_type": "code",
   "execution_count": null,
   "id": "0ffa7600-5e07-45c1-ae6f-12bcaf17974f",
   "metadata": {},
   "outputs": [
    {
     "name": "stdout",
     "output_type": "stream",
     "text": [
      "Started refinement at  2022-01-10 07:24:38.275070\n",
      "Preparing\n"
     ]
    },
    {
     "name": "stderr",
     "output_type": "stream",
     "text": [
      "Traceback (most recent call last):\n",
      "  File \"core.py\", line 67, in <module>\n",
      "    f0j[start_index:end_index] = f_core_from_spline(nc, g_ks[start_index:end_index] * Bohr, k=19)\n",
      "  File \"core.py\", line 18, in f_core_from_spline\n",
      "    j0[gr != 0] = np.sin(2 * np.pi * gr[gr != 0]) / (2 * np.pi * gr[gr != 0])\n",
      "KeyboardInterrupt\n",
      "ERROR:root:Internal Python error in the inspect module.\n",
      "Below is the traceback from this internal error.\n",
      "\n"
     ]
    },
    {
     "name": "stdout",
     "output_type": "stream",
     "text": [
      "  calculating the core structure factor for O\n",
      "Traceback (most recent call last):\n",
      "  File \"/home/niklas/anaconda3/envs/xharpy/lib/python3.8/site-packages/IPython/core/interactiveshell.py\", line 3457, in run_code\n",
      "    exec(code_obj, self.user_global_ns, self.user_ns)\n",
      "  File \"/tmp/ipykernel_5496/1164851934.py\", line 1, in <module>\n",
      "    parameters, var_cov_mat, information = refine(\n",
      "  File \"/home/niklas/Documents/har/xharpylib/xharpy/core.py\", line 1458, in refine\n",
      "    f0j_core = jnp.array(calc_f0j_core(cell_mat_m, type_symbols, constructed_xyz, index_vec_h, symm_mats_vecs, computation_dict))\n",
      "  File \"/home/niklas/Documents/har/xharpylib/xharpy/f0j_sources/gpaw_mpi_source.py\", line 650, in calc_f0j_core\n",
      "    res = subprocess.run('python core.py', shell=True)\n",
      "  File \"/home/niklas/anaconda3/envs/xharpy/lib/python3.8/subprocess.py\", line 495, in run\n",
      "    stdout, stderr = process.communicate(input, timeout=timeout)\n",
      "  File \"/home/niklas/anaconda3/envs/xharpy/lib/python3.8/subprocess.py\", line 1020, in communicate\n",
      "    self.wait()\n",
      "  File \"/home/niklas/anaconda3/envs/xharpy/lib/python3.8/subprocess.py\", line 1083, in wait\n",
      "    return self._wait(timeout=timeout)\n",
      "  File \"/home/niklas/anaconda3/envs/xharpy/lib/python3.8/subprocess.py\", line 1806, in _wait\n",
      "    (pid, sts) = self._try_wait(0)\n",
      "  File \"/home/niklas/anaconda3/envs/xharpy/lib/python3.8/subprocess.py\", line 1764, in _try_wait\n",
      "    (pid, sts) = os.waitpid(self.pid, wait_flags)\n",
      "KeyboardInterrupt\n",
      "\n",
      "During handling of the above exception, another exception occurred:\n",
      "\n",
      "Traceback (most recent call last):\n",
      "  File \"/home/niklas/anaconda3/envs/xharpy/lib/python3.8/site-packages/IPython/core/interactiveshell.py\", line 2077, in showtraceback\n",
      "    stb = value._render_traceback_()\n",
      "AttributeError: 'KeyboardInterrupt' object has no attribute '_render_traceback_'\n",
      "\n",
      "During handling of the above exception, another exception occurred:\n",
      "\n",
      "Traceback (most recent call last):\n",
      "  File \"/home/niklas/anaconda3/envs/xharpy/lib/python3.8/site-packages/IPython/core/ultratb.py\", line 1101, in get_records\n",
      "    return _fixed_getinnerframes(etb, number_of_lines_of_context, tb_offset)\n",
      "  File \"/home/niklas/anaconda3/envs/xharpy/lib/python3.8/site-packages/IPython/core/ultratb.py\", line 248, in wrapped\n",
      "    return f(*args, **kwargs)\n",
      "  File \"/home/niklas/anaconda3/envs/xharpy/lib/python3.8/site-packages/IPython/core/ultratb.py\", line 281, in _fixed_getinnerframes\n",
      "    records = fix_frame_records_filenames(inspect.getinnerframes(etb, context))\n",
      "  File \"/home/niklas/anaconda3/envs/xharpy/lib/python3.8/inspect.py\", line 1515, in getinnerframes\n",
      "    frameinfo = (tb.tb_frame,) + getframeinfo(tb, context)\n",
      "  File \"/home/niklas/anaconda3/envs/xharpy/lib/python3.8/inspect.py\", line 1477, in getframeinfo\n",
      "    lines, lnum = findsource(frame)\n",
      "  File \"/home/niklas/anaconda3/envs/xharpy/lib/python3.8/site-packages/IPython/core/ultratb.py\", line 223, in findsource\n",
      "    pat = re.compile(r'^(\\s*def\\s)|(.*(?<!\\w)lambda(:|\\s))|^(\\s*@)')\n",
      "  File \"/home/niklas/anaconda3/envs/xharpy/lib/python3.8/re.py\", line 252, in compile\n",
      "    return _compile(pattern, flags)\n",
      "  File \"/home/niklas/anaconda3/envs/xharpy/lib/python3.8/re.py\", line 294, in _compile\n",
      "    return _cache[type(pattern), pattern, flags]\n",
      "KeyboardInterrupt\n"
     ]
    },
    {
     "ename": "TypeError",
     "evalue": "object of type 'NoneType' has no len()",
     "output_type": "error",
     "traceback": [
      "\u001b[0;31m---------------------------------------------------------------------------\u001b[0m",
      "\u001b[0;31mKeyboardInterrupt\u001b[0m                         Traceback (most recent call last)",
      "    \u001b[0;31m[... skipping hidden 1 frame]\u001b[0m\n",
      "\u001b[0;32m/tmp/ipykernel_5496/1164851934.py\u001b[0m in \u001b[0;36m<module>\u001b[0;34m\u001b[0m\n\u001b[0;32m----> 1\u001b[0;31m parameters, var_cov_mat, information = refine(\n\u001b[0m\u001b[1;32m      2\u001b[0m     \u001b[0mcell\u001b[0m\u001b[0;34m=\u001b[0m\u001b[0mcell\u001b[0m\u001b[0;34m,\u001b[0m\u001b[0;34m\u001b[0m\u001b[0;34m\u001b[0m\u001b[0m\n\u001b[1;32m      3\u001b[0m     \u001b[0msymm_mats_vecs\u001b[0m\u001b[0;34m=\u001b[0m\u001b[0msymm_mats_vecs\u001b[0m\u001b[0;34m,\u001b[0m\u001b[0;34m\u001b[0m\u001b[0;34m\u001b[0m\u001b[0m\n",
      "\u001b[0;32m~/Documents/har/xharpylib/xharpy/core.py\u001b[0m in \u001b[0;36mrefine\u001b[0;34m(cell, symm_mats_vecs, hkl, construction_instructions, parameters, wavelength, refinement_dict, computation_dict)\u001b[0m\n\u001b[1;32m   1457\u001b[0m         \u001b[0;32melse\u001b[0m\u001b[0;34m:\u001b[0m\u001b[0;34m\u001b[0m\u001b[0;34m\u001b[0m\u001b[0m\n\u001b[0;32m-> 1458\u001b[0;31m             \u001b[0mf0j_core\u001b[0m \u001b[0;34m=\u001b[0m \u001b[0mjnp\u001b[0m\u001b[0;34m.\u001b[0m\u001b[0marray\u001b[0m\u001b[0;34m(\u001b[0m\u001b[0mcalc_f0j_core\u001b[0m\u001b[0;34m(\u001b[0m\u001b[0mcell_mat_m\u001b[0m\u001b[0;34m,\u001b[0m \u001b[0mtype_symbols\u001b[0m\u001b[0;34m,\u001b[0m \u001b[0mconstructed_xyz\u001b[0m\u001b[0;34m,\u001b[0m \u001b[0mindex_vec_h\u001b[0m\u001b[0;34m,\u001b[0m \u001b[0msymm_mats_vecs\u001b[0m\u001b[0;34m,\u001b[0m \u001b[0mcomputation_dict\u001b[0m\u001b[0;34m)\u001b[0m\u001b[0;34m)\u001b[0m\u001b[0;34m\u001b[0m\u001b[0;34m\u001b[0m\u001b[0m\n\u001b[0m\u001b[1;32m   1459\u001b[0m         \u001b[0;32mif\u001b[0m \u001b[0mcore_io\u001b[0m \u001b[0;34m==\u001b[0m \u001b[0;34m'save'\u001b[0m\u001b[0;34m:\u001b[0m\u001b[0;34m\u001b[0m\u001b[0;34m\u001b[0m\u001b[0m\n",
      "\u001b[0;32m~/Documents/har/xharpylib/xharpy/f0j_sources/gpaw_mpi_source.py\u001b[0m in \u001b[0;36mcalc_f0j_core\u001b[0;34m(cell_mat_m, element_symbols, positions, index_vec_h, symm_mats_vecs, computation_dict)\u001b[0m\n\u001b[1;32m    649\u001b[0m \u001b[0;34m\u001b[0m\u001b[0m\n\u001b[0;32m--> 650\u001b[0;31m     \u001b[0mres\u001b[0m \u001b[0;34m=\u001b[0m \u001b[0msubprocess\u001b[0m\u001b[0;34m.\u001b[0m\u001b[0mrun\u001b[0m\u001b[0;34m(\u001b[0m\u001b[0;34m'python core.py'\u001b[0m\u001b[0;34m,\u001b[0m \u001b[0mshell\u001b[0m\u001b[0;34m=\u001b[0m\u001b[0;32mTrue\u001b[0m\u001b[0;34m)\u001b[0m\u001b[0;34m\u001b[0m\u001b[0;34m\u001b[0m\u001b[0m\n\u001b[0m\u001b[1;32m    651\u001b[0m \u001b[0;34m\u001b[0m\u001b[0m\n",
      "\u001b[0;32m~/anaconda3/envs/xharpy/lib/python3.8/subprocess.py\u001b[0m in \u001b[0;36mrun\u001b[0;34m(input, capture_output, timeout, check, *popenargs, **kwargs)\u001b[0m\n\u001b[1;32m    494\u001b[0m         \u001b[0;32mtry\u001b[0m\u001b[0;34m:\u001b[0m\u001b[0;34m\u001b[0m\u001b[0;34m\u001b[0m\u001b[0m\n\u001b[0;32m--> 495\u001b[0;31m             \u001b[0mstdout\u001b[0m\u001b[0;34m,\u001b[0m \u001b[0mstderr\u001b[0m \u001b[0;34m=\u001b[0m \u001b[0mprocess\u001b[0m\u001b[0;34m.\u001b[0m\u001b[0mcommunicate\u001b[0m\u001b[0;34m(\u001b[0m\u001b[0minput\u001b[0m\u001b[0;34m,\u001b[0m \u001b[0mtimeout\u001b[0m\u001b[0;34m=\u001b[0m\u001b[0mtimeout\u001b[0m\u001b[0;34m)\u001b[0m\u001b[0;34m\u001b[0m\u001b[0;34m\u001b[0m\u001b[0m\n\u001b[0m\u001b[1;32m    496\u001b[0m         \u001b[0;32mexcept\u001b[0m \u001b[0mTimeoutExpired\u001b[0m \u001b[0;32mas\u001b[0m \u001b[0mexc\u001b[0m\u001b[0;34m:\u001b[0m\u001b[0;34m\u001b[0m\u001b[0;34m\u001b[0m\u001b[0m\n",
      "\u001b[0;32m~/anaconda3/envs/xharpy/lib/python3.8/subprocess.py\u001b[0m in \u001b[0;36mcommunicate\u001b[0;34m(self, input, timeout)\u001b[0m\n\u001b[1;32m   1019\u001b[0m                 \u001b[0mself\u001b[0m\u001b[0;34m.\u001b[0m\u001b[0mstderr\u001b[0m\u001b[0;34m.\u001b[0m\u001b[0mclose\u001b[0m\u001b[0;34m(\u001b[0m\u001b[0;34m)\u001b[0m\u001b[0;34m\u001b[0m\u001b[0;34m\u001b[0m\u001b[0m\n\u001b[0;32m-> 1020\u001b[0;31m             \u001b[0mself\u001b[0m\u001b[0;34m.\u001b[0m\u001b[0mwait\u001b[0m\u001b[0;34m(\u001b[0m\u001b[0;34m)\u001b[0m\u001b[0;34m\u001b[0m\u001b[0;34m\u001b[0m\u001b[0m\n\u001b[0m\u001b[1;32m   1021\u001b[0m         \u001b[0;32melse\u001b[0m\u001b[0;34m:\u001b[0m\u001b[0;34m\u001b[0m\u001b[0;34m\u001b[0m\u001b[0m\n",
      "\u001b[0;32m~/anaconda3/envs/xharpy/lib/python3.8/subprocess.py\u001b[0m in \u001b[0;36mwait\u001b[0;34m(self, timeout)\u001b[0m\n\u001b[1;32m   1082\u001b[0m         \u001b[0;32mtry\u001b[0m\u001b[0;34m:\u001b[0m\u001b[0;34m\u001b[0m\u001b[0;34m\u001b[0m\u001b[0m\n\u001b[0;32m-> 1083\u001b[0;31m             \u001b[0;32mreturn\u001b[0m \u001b[0mself\u001b[0m\u001b[0;34m.\u001b[0m\u001b[0m_wait\u001b[0m\u001b[0;34m(\u001b[0m\u001b[0mtimeout\u001b[0m\u001b[0;34m=\u001b[0m\u001b[0mtimeout\u001b[0m\u001b[0;34m)\u001b[0m\u001b[0;34m\u001b[0m\u001b[0;34m\u001b[0m\u001b[0m\n\u001b[0m\u001b[1;32m   1084\u001b[0m         \u001b[0;32mexcept\u001b[0m \u001b[0mKeyboardInterrupt\u001b[0m\u001b[0;34m:\u001b[0m\u001b[0;34m\u001b[0m\u001b[0;34m\u001b[0m\u001b[0m\n",
      "\u001b[0;32m~/anaconda3/envs/xharpy/lib/python3.8/subprocess.py\u001b[0m in \u001b[0;36m_wait\u001b[0;34m(self, timeout)\u001b[0m\n\u001b[1;32m   1805\u001b[0m                             \u001b[0;32mbreak\u001b[0m  \u001b[0;31m# Another thread waited.\u001b[0m\u001b[0;34m\u001b[0m\u001b[0;34m\u001b[0m\u001b[0m\n\u001b[0;32m-> 1806\u001b[0;31m                         \u001b[0;34m(\u001b[0m\u001b[0mpid\u001b[0m\u001b[0;34m,\u001b[0m \u001b[0msts\u001b[0m\u001b[0;34m)\u001b[0m \u001b[0;34m=\u001b[0m \u001b[0mself\u001b[0m\u001b[0;34m.\u001b[0m\u001b[0m_try_wait\u001b[0m\u001b[0;34m(\u001b[0m\u001b[0;36m0\u001b[0m\u001b[0;34m)\u001b[0m\u001b[0;34m\u001b[0m\u001b[0;34m\u001b[0m\u001b[0m\n\u001b[0m\u001b[1;32m   1807\u001b[0m                         \u001b[0;31m# Check the pid and loop as waitpid has been known to\u001b[0m\u001b[0;34m\u001b[0m\u001b[0;34m\u001b[0m\u001b[0;34m\u001b[0m\u001b[0m\n",
      "\u001b[0;32m~/anaconda3/envs/xharpy/lib/python3.8/subprocess.py\u001b[0m in \u001b[0;36m_try_wait\u001b[0;34m(self, wait_flags)\u001b[0m\n\u001b[1;32m   1763\u001b[0m             \u001b[0;32mtry\u001b[0m\u001b[0;34m:\u001b[0m\u001b[0;34m\u001b[0m\u001b[0;34m\u001b[0m\u001b[0m\n\u001b[0;32m-> 1764\u001b[0;31m                 \u001b[0;34m(\u001b[0m\u001b[0mpid\u001b[0m\u001b[0;34m,\u001b[0m \u001b[0msts\u001b[0m\u001b[0;34m)\u001b[0m \u001b[0;34m=\u001b[0m \u001b[0mos\u001b[0m\u001b[0;34m.\u001b[0m\u001b[0mwaitpid\u001b[0m\u001b[0;34m(\u001b[0m\u001b[0mself\u001b[0m\u001b[0;34m.\u001b[0m\u001b[0mpid\u001b[0m\u001b[0;34m,\u001b[0m \u001b[0mwait_flags\u001b[0m\u001b[0;34m)\u001b[0m\u001b[0;34m\u001b[0m\u001b[0;34m\u001b[0m\u001b[0m\n\u001b[0m\u001b[1;32m   1765\u001b[0m             \u001b[0;32mexcept\u001b[0m \u001b[0mChildProcessError\u001b[0m\u001b[0;34m:\u001b[0m\u001b[0;34m\u001b[0m\u001b[0;34m\u001b[0m\u001b[0m\n",
      "\u001b[0;31mKeyboardInterrupt\u001b[0m: ",
      "\nDuring handling of the above exception, another exception occurred:\n",
      "\u001b[0;31mAttributeError\u001b[0m                            Traceback (most recent call last)",
      "\u001b[0;32m~/anaconda3/envs/xharpy/lib/python3.8/site-packages/IPython/core/interactiveshell.py\u001b[0m in \u001b[0;36mshowtraceback\u001b[0;34m(self, exc_tuple, filename, tb_offset, exception_only, running_compiled_code)\u001b[0m\n\u001b[1;32m   2076\u001b[0m                         \u001b[0;31m# in the engines. This should return a list of strings.\u001b[0m\u001b[0;34m\u001b[0m\u001b[0;34m\u001b[0m\u001b[0;34m\u001b[0m\u001b[0m\n\u001b[0;32m-> 2077\u001b[0;31m                         \u001b[0mstb\u001b[0m \u001b[0;34m=\u001b[0m \u001b[0mvalue\u001b[0m\u001b[0;34m.\u001b[0m\u001b[0m_render_traceback_\u001b[0m\u001b[0;34m(\u001b[0m\u001b[0;34m)\u001b[0m\u001b[0;34m\u001b[0m\u001b[0;34m\u001b[0m\u001b[0m\n\u001b[0m\u001b[1;32m   2078\u001b[0m                     \u001b[0;32mexcept\u001b[0m \u001b[0mException\u001b[0m\u001b[0;34m:\u001b[0m\u001b[0;34m\u001b[0m\u001b[0;34m\u001b[0m\u001b[0m\n",
      "\u001b[0;31mAttributeError\u001b[0m: 'KeyboardInterrupt' object has no attribute '_render_traceback_'",
      "\nDuring handling of the above exception, another exception occurred:\n",
      "\u001b[0;31mTypeError\u001b[0m                                 Traceback (most recent call last)",
      "    \u001b[0;31m[... skipping hidden 1 frame]\u001b[0m\n",
      "\u001b[0;32m~/anaconda3/envs/xharpy/lib/python3.8/site-packages/IPython/core/interactiveshell.py\u001b[0m in \u001b[0;36mshowtraceback\u001b[0;34m(self, exc_tuple, filename, tb_offset, exception_only, running_compiled_code)\u001b[0m\n\u001b[1;32m   2077\u001b[0m                         \u001b[0mstb\u001b[0m \u001b[0;34m=\u001b[0m \u001b[0mvalue\u001b[0m\u001b[0;34m.\u001b[0m\u001b[0m_render_traceback_\u001b[0m\u001b[0;34m(\u001b[0m\u001b[0;34m)\u001b[0m\u001b[0;34m\u001b[0m\u001b[0;34m\u001b[0m\u001b[0m\n\u001b[1;32m   2078\u001b[0m                     \u001b[0;32mexcept\u001b[0m \u001b[0mException\u001b[0m\u001b[0;34m:\u001b[0m\u001b[0;34m\u001b[0m\u001b[0;34m\u001b[0m\u001b[0m\n\u001b[0;32m-> 2079\u001b[0;31m                         stb = self.InteractiveTB.structured_traceback(etype,\n\u001b[0m\u001b[1;32m   2080\u001b[0m                                             value, tb, tb_offset=tb_offset)\n\u001b[1;32m   2081\u001b[0m \u001b[0;34m\u001b[0m\u001b[0m\n",
      "\u001b[0;32m~/anaconda3/envs/xharpy/lib/python3.8/site-packages/IPython/core/ultratb.py\u001b[0m in \u001b[0;36mstructured_traceback\u001b[0;34m(self, etype, value, tb, tb_offset, number_of_lines_of_context)\u001b[0m\n\u001b[1;32m   1365\u001b[0m         \u001b[0;32melse\u001b[0m\u001b[0;34m:\u001b[0m\u001b[0;34m\u001b[0m\u001b[0;34m\u001b[0m\u001b[0m\n\u001b[1;32m   1366\u001b[0m             \u001b[0mself\u001b[0m\u001b[0;34m.\u001b[0m\u001b[0mtb\u001b[0m \u001b[0;34m=\u001b[0m \u001b[0mtb\u001b[0m\u001b[0;34m\u001b[0m\u001b[0;34m\u001b[0m\u001b[0m\n\u001b[0;32m-> 1367\u001b[0;31m         return FormattedTB.structured_traceback(\n\u001b[0m\u001b[1;32m   1368\u001b[0m             self, etype, value, tb, tb_offset, number_of_lines_of_context)\n\u001b[1;32m   1369\u001b[0m \u001b[0;34m\u001b[0m\u001b[0m\n",
      "\u001b[0;32m~/anaconda3/envs/xharpy/lib/python3.8/site-packages/IPython/core/ultratb.py\u001b[0m in \u001b[0;36mstructured_traceback\u001b[0;34m(self, etype, value, tb, tb_offset, number_of_lines_of_context)\u001b[0m\n\u001b[1;32m   1265\u001b[0m         \u001b[0;32mif\u001b[0m \u001b[0mmode\u001b[0m \u001b[0;32min\u001b[0m \u001b[0mself\u001b[0m\u001b[0;34m.\u001b[0m\u001b[0mverbose_modes\u001b[0m\u001b[0;34m:\u001b[0m\u001b[0;34m\u001b[0m\u001b[0;34m\u001b[0m\u001b[0m\n\u001b[1;32m   1266\u001b[0m             \u001b[0;31m# Verbose modes need a full traceback\u001b[0m\u001b[0;34m\u001b[0m\u001b[0;34m\u001b[0m\u001b[0;34m\u001b[0m\u001b[0m\n\u001b[0;32m-> 1267\u001b[0;31m             return VerboseTB.structured_traceback(\n\u001b[0m\u001b[1;32m   1268\u001b[0m                 \u001b[0mself\u001b[0m\u001b[0;34m,\u001b[0m \u001b[0metype\u001b[0m\u001b[0;34m,\u001b[0m \u001b[0mvalue\u001b[0m\u001b[0;34m,\u001b[0m \u001b[0mtb\u001b[0m\u001b[0;34m,\u001b[0m \u001b[0mtb_offset\u001b[0m\u001b[0;34m,\u001b[0m \u001b[0mnumber_of_lines_of_context\u001b[0m\u001b[0;34m\u001b[0m\u001b[0;34m\u001b[0m\u001b[0m\n\u001b[1;32m   1269\u001b[0m             )\n",
      "\u001b[0;32m~/anaconda3/envs/xharpy/lib/python3.8/site-packages/IPython/core/ultratb.py\u001b[0m in \u001b[0;36mstructured_traceback\u001b[0;34m(self, etype, evalue, etb, tb_offset, number_of_lines_of_context)\u001b[0m\n\u001b[1;32m   1122\u001b[0m         \u001b[0;34m\"\"\"Return a nice text document describing the traceback.\"\"\"\u001b[0m\u001b[0;34m\u001b[0m\u001b[0;34m\u001b[0m\u001b[0m\n\u001b[1;32m   1123\u001b[0m \u001b[0;34m\u001b[0m\u001b[0m\n\u001b[0;32m-> 1124\u001b[0;31m         formatted_exception = self.format_exception_as_a_whole(etype, evalue, etb, number_of_lines_of_context,\n\u001b[0m\u001b[1;32m   1125\u001b[0m                                                                tb_offset)\n\u001b[1;32m   1126\u001b[0m \u001b[0;34m\u001b[0m\u001b[0m\n",
      "\u001b[0;32m~/anaconda3/envs/xharpy/lib/python3.8/site-packages/IPython/core/ultratb.py\u001b[0m in \u001b[0;36mformat_exception_as_a_whole\u001b[0;34m(self, etype, evalue, etb, number_of_lines_of_context, tb_offset)\u001b[0m\n\u001b[1;32m   1080\u001b[0m \u001b[0;34m\u001b[0m\u001b[0m\n\u001b[1;32m   1081\u001b[0m \u001b[0;34m\u001b[0m\u001b[0m\n\u001b[0;32m-> 1082\u001b[0;31m         \u001b[0mlast_unique\u001b[0m\u001b[0;34m,\u001b[0m \u001b[0mrecursion_repeat\u001b[0m \u001b[0;34m=\u001b[0m \u001b[0mfind_recursion\u001b[0m\u001b[0;34m(\u001b[0m\u001b[0morig_etype\u001b[0m\u001b[0;34m,\u001b[0m \u001b[0mevalue\u001b[0m\u001b[0;34m,\u001b[0m \u001b[0mrecords\u001b[0m\u001b[0;34m)\u001b[0m\u001b[0;34m\u001b[0m\u001b[0;34m\u001b[0m\u001b[0m\n\u001b[0m\u001b[1;32m   1083\u001b[0m \u001b[0;34m\u001b[0m\u001b[0m\n\u001b[1;32m   1084\u001b[0m         \u001b[0mframes\u001b[0m \u001b[0;34m=\u001b[0m \u001b[0mself\u001b[0m\u001b[0;34m.\u001b[0m\u001b[0mformat_records\u001b[0m\u001b[0;34m(\u001b[0m\u001b[0mrecords\u001b[0m\u001b[0;34m,\u001b[0m \u001b[0mlast_unique\u001b[0m\u001b[0;34m,\u001b[0m \u001b[0mrecursion_repeat\u001b[0m\u001b[0;34m)\u001b[0m\u001b[0;34m\u001b[0m\u001b[0;34m\u001b[0m\u001b[0m\n",
      "\u001b[0;32m~/anaconda3/envs/xharpy/lib/python3.8/site-packages/IPython/core/ultratb.py\u001b[0m in \u001b[0;36mfind_recursion\u001b[0;34m(etype, value, records)\u001b[0m\n\u001b[1;32m    380\u001b[0m     \u001b[0;31m# first frame (from in to out) that looks different.\u001b[0m\u001b[0;34m\u001b[0m\u001b[0;34m\u001b[0m\u001b[0;34m\u001b[0m\u001b[0m\n\u001b[1;32m    381\u001b[0m     \u001b[0;32mif\u001b[0m \u001b[0;32mnot\u001b[0m \u001b[0mis_recursion_error\u001b[0m\u001b[0;34m(\u001b[0m\u001b[0metype\u001b[0m\u001b[0;34m,\u001b[0m \u001b[0mvalue\u001b[0m\u001b[0;34m,\u001b[0m \u001b[0mrecords\u001b[0m\u001b[0;34m)\u001b[0m\u001b[0;34m:\u001b[0m\u001b[0;34m\u001b[0m\u001b[0;34m\u001b[0m\u001b[0m\n\u001b[0;32m--> 382\u001b[0;31m         \u001b[0;32mreturn\u001b[0m \u001b[0mlen\u001b[0m\u001b[0;34m(\u001b[0m\u001b[0mrecords\u001b[0m\u001b[0;34m)\u001b[0m\u001b[0;34m,\u001b[0m \u001b[0;36m0\u001b[0m\u001b[0;34m\u001b[0m\u001b[0;34m\u001b[0m\u001b[0m\n\u001b[0m\u001b[1;32m    383\u001b[0m \u001b[0;34m\u001b[0m\u001b[0m\n\u001b[1;32m    384\u001b[0m     \u001b[0;31m# Select filename, lineno, func_name to track frames with\u001b[0m\u001b[0;34m\u001b[0m\u001b[0;34m\u001b[0m\u001b[0;34m\u001b[0m\u001b[0m\n",
      "\u001b[0;31mTypeError\u001b[0m: object of type 'NoneType' has no len()"
     ]
    }
   ],
   "source": [
    "parameters, var_cov_mat, information = refine(\n",
    "    cell=cell, \n",
    "    symm_mats_vecs=symm_mats_vecs,\n",
    "    hkl=hkl,\n",
    "    construction_instructions=construction_instructions,\n",
    "    parameters=parameters,\n",
    "    wavelength=wavelength,\n",
    "    refinement_dict=refinement_dict,\n",
    "    computation_dict=computation_dict\n",
    ")"
   ]
  },
  {
   "cell_type": "markdown",
   "id": "495feda6-0f05-4500-bf76-c8bc2ccaee28",
   "metadata": {},
   "source": [
    "### Writing Data to Disk"
   ]
  },
  {
   "cell_type": "code",
   "execution_count": null,
   "id": "b42a0294-2bfd-44da-8f9d-4126ef69cf8c",
   "metadata": {},
   "outputs": [],
   "source": [
    "write_cif(\n",
    "    output_cif_path=os.path.join(output_folder, 'xharpy.cif'),\n",
    "    cif_dataset='xharpy',\n",
    "    shelx_cif_path='iam.cif',\n",
    "    shelx_dataset=0,\n",
    "    cell=cell,\n",
    "    cell_esd=cell_esd,\n",
    "    symm_mats_vecs=symm_mats_vecs,\n",
    "    hkl=hkl,\n",
    "    construction_instructions=construction_instructions,\n",
    "    parameters=parameters,\n",
    "    var_cov_mat=var_cov_mat,\n",
    "    refinement_dict=refinement_dict,\n",
    "    computation_dict=computation_dict,\n",
    "    information=information\n",
    ")"
   ]
  },
  {
   "cell_type": "code",
   "execution_count": null,
   "id": "b668a44c-f085-44a6-a91d-5d427f60668c",
   "metadata": {
    "tags": []
   },
   "outputs": [],
   "source": [
    "write_fcf(\n",
    "    fcf_path=os.path.join(output_folder, 'xharpy.fcf'),\n",
    "    fcf_dataset='xharpy',\n",
    "    fcf_mode=4,\n",
    "    cell=cell,\n",
    "    hkl=hkl,\n",
    "    construction_instructions=construction_instructions,\n",
    "    parameters=parameters,\n",
    "    wavelength=wavelength,\n",
    "    refinement_dict=refinement_dict,\n",
    "    symm_strings=symm_strings,\n",
    "    information=information,\n",
    ");"
   ]
  },
  {
   "cell_type": "code",
   "execution_count": null,
   "id": "1c8700a4-c426-400b-b2c6-1f8ad6eff737",
   "metadata": {},
   "outputs": [],
   "source": [
    "write_fcf(\n",
    "    fcf_path=os.path.join(output_folder, 'xharpy_6.fcf'),\n",
    "    fcf_dataset='xharpy_6',\n",
    "    fcf_mode=6,\n",
    "    cell=cell,\n",
    "    hkl=hkl,\n",
    "    construction_instructions=construction_instructions,\n",
    "    parameters=parameters,\n",
    "    wavelength=wavelength,\n",
    "    refinement_dict=refinement_dict,\n",
    "    symm_strings=symm_strings,\n",
    "    information=information,\n",
    ");"
   ]
  },
  {
   "cell_type": "code",
   "execution_count": null,
   "id": "6bb8ef34-965d-4929-8c1d-471767ae77d6",
   "metadata": {},
   "outputs": [],
   "source": [
    "write_res(\n",
    "    out_res_path=os.path.join(output_folder, 'xharpy_6.res'),\n",
    "    in_res_path='iam.lst',\n",
    "    cell=cell,\n",
    "    cell_esd=cell_esd,\n",
    "    construction_instructions=construction_instructions,\n",
    "    parameters=parameters,\n",
    "    wavelength=wavelength\n",
    ")"
   ]
  },
  {
   "cell_type": "code",
   "execution_count": null,
   "id": "5b54ff88-fd14-4f43-b0ef-5bfc9d71c379",
   "metadata": {},
   "outputs": [],
   "source": [
    "add_density_entries_from_fcf(\n",
    "    os.path.join(output_folder, 'xharpy.cif'),\n",
    "    os.path.join(output_folder, 'xharpy_6.fcf')\n",
    ")"
   ]
  },
  {
   "cell_type": "code",
   "execution_count": null,
   "id": "6ab5a866-cc7e-4910-83db-3ef15a6842d4",
   "metadata": {},
   "outputs": [],
   "source": []
  }
 ],
 "metadata": {
  "kernelspec": {
   "display_name": "Python 3 (ipykernel)",
   "language": "python",
   "name": "python3"
  },
  "language_info": {
   "codemirror_mode": {
    "name": "ipython",
    "version": 3
   },
   "file_extension": ".py",
   "mimetype": "text/x-python",
   "name": "python",
   "nbconvert_exporter": "python",
   "pygments_lexer": "ipython3",
   "version": "3.8.12"
  }
 },
 "nbformat": 4,
 "nbformat_minor": 5
}
