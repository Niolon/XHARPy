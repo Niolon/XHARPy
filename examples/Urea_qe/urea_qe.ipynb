{
 "cells": [
  {
   "cell_type": "markdown",
   "id": "3ee7200d-e9db-48e2-8f61-5751f8834d8d",
   "metadata": {},
   "source": [
    "# XHARPy Example: Urea with Quantum Espresso\n",
    " - Program: Quantum Espresso\n",
    " - B3LYP calculation from PBE files\n",
    " - Core scaling"
   ]
  },
  {
   "cell_type": "code",
   "execution_count": 1,
   "id": "6a803794-5d39-45c5-965d-59625028bcdc",
   "metadata": {},
   "outputs": [
    {
     "name": "stderr",
     "output_type": "stream",
     "text": [
      "WARNING:absl:No GPU/TPU found, falling back to CPU. (Set TF_CPP_MIN_LOG_LEVEL=0 and rerun for more info.)\n"
     ]
    }
   ],
   "source": [
    "from xharpy import (shelxl_hkl2pd, cif2data, lst2constraint_dict, create_construction_instructions,\n",
    "                    refine, write_cif, write_res, write_fcf, add_density_entries_from_fcf)\n",
    "import os"
   ]
  },
  {
   "cell_type": "code",
   "execution_count": 2,
   "id": "9286276e-43fe-4f9e-a1d1-746daac65512",
   "metadata": {},
   "outputs": [],
   "source": [
    "output_folder = 'xharpy_output'\n",
    "if not os.path.exists(output_folder):\n",
    "    os.mkdir(output_folder)"
   ]
  },
  {
   "cell_type": "markdown",
   "id": "ddb67ac1-613d-471e-a392-53b19df1d89c",
   "metadata": {},
   "source": [
    "### Loading Data"
   ]
  },
  {
   "cell_type": "code",
   "execution_count": 3,
   "id": "2ab6a465-1f93-47ea-b4fb-357c57f25df4",
   "metadata": {},
   "outputs": [],
   "source": [
    "atom_table, cell, cell_esd, symm_mats_vecs, symm_strings, wavelength  = cif2data('iam.cif', 0)"
   ]
  },
  {
   "cell_type": "code",
   "execution_count": 5,
   "id": "0880db56-e880-4939-9770-4192a25ab273",
   "metadata": {},
   "outputs": [],
   "source": [
    "hkl = shelxl_hkl2pd('iam.hkl')"
   ]
  },
  {
   "cell_type": "code",
   "execution_count": 6,
   "id": "125e12b4-4326-4dd5-8bf7-3c161b1ea4b9",
   "metadata": {},
   "outputs": [],
   "source": [
    "constraint_dict = lst2constraint_dict('iam.lst')"
   ]
  },
  {
   "cell_type": "markdown",
   "id": "bef95e25-e4a7-4c37-ac0c-aa24c9d07c01",
   "metadata": {},
   "source": [
    "### Setting Options"
   ]
  },
  {
   "cell_type": "code",
   "execution_count": 7,
   "id": "b3cb250d-fd3c-4cb2-b0b5-9b6ae82d60cf",
   "metadata": {},
   "outputs": [],
   "source": [
    "refinement_dict = {\n",
    "    'f0j_source': 'qe',\n",
    "    'reload_step': 1,\n",
    "    'core': 'scale',\n",
    "}"
   ]
  },
  {
   "cell_type": "code",
   "execution_count": 8,
   "id": "d2b111f8-1087-469f-80b6-a987141f5ba2",
   "metadata": {},
   "outputs": [],
   "source": [
    "computation_dict = {\n",
    "    'symm_equiv': 'once',\n",
    "    'mpicores': 2,\n",
    "    'control': {\n",
    "        'prefix': 'A23',\n",
    "        'pseudo_dir': './pseudo/',\n",
    "    },\n",
    "    'system': {\n",
    "        'ibrav': 6,\n",
    "        'a': float(cell[0]),\n",
    "        'c': float(cell[2]),\n",
    "        'ecutwfc': 50,\n",
    "        'ecutrho': 200,\n",
    "        'input_dft': 'b3lyp'\n",
    "    },\n",
    "    'paw_files': {\n",
    "        'H': 'H.pbe-kjpaw_psl.1.0.0.UPF',\n",
    "        'C': 'C.pbe-n-kjpaw_psl.1.0.0.UPF',\n",
    "        'O': 'O.pbe-n-kjpaw_psl.1.0.0.UPF',\n",
    "        'N': 'N.pbe-n-kjpaw_psl.1.0.0.UPF'\n",
    "    },\n",
    "    'k_points':{\n",
    "        'mode': 'automatic',\n",
    "        'input': '1 1 1 0 0 0'\n",
    "    }\n",
    "}"
   ]
  },
  {
   "cell_type": "markdown",
   "id": "ed88e592-1f11-4c07-a266-55f98f06028c",
   "metadata": {},
   "source": [
    "### Refinement"
   ]
  },
  {
   "cell_type": "code",
   "execution_count": 9,
   "id": "b3eaa59c-9f80-4b51-9c63-77f7a2b3ef4c",
   "metadata": {},
   "outputs": [],
   "source": [
    "construction_instructions, parameters = create_construction_instructions(\n",
    "    atom_table=atom_table,\n",
    "    constraint_dict=constraint_dict,\n",
    "    refinement_dict=refinement_dict\n",
    ")\n"
   ]
  },
  {
   "cell_type": "code",
   "execution_count": 10,
   "id": "0ffa7600-5e07-45c1-ae6f-12bcaf17974f",
   "metadata": {},
   "outputs": [
    {
     "name": "stdout",
     "output_type": "stream",
     "text": [
      "Started refinement at  2022-01-09 20:10:01.292875\n",
      "Preparing\n",
      "  calculating core density for H from H.pbe-kjpaw_psl.1.0.0.UPF\n",
      "  calculating core density for C from C.pbe-n-kjpaw_psl.1.0.0.UPF\n",
      "  calculating core density for O from O.pbe-n-kjpaw_psl.1.0.0.UPF\n",
      "  calculating core density for N from N.pbe-n-kjpaw_psl.1.0.0.UPF\n",
      "  calculating first atomic form factors\n",
      "  calculated density, continuing with partitioning\n",
      "  building least squares function\n",
      "  setting up gradients\n",
      "step 0: Optimizing scaling\n",
      "  wR2: 0.053475, number of iterations: 1\n",
      "  minimizing least squares sum\n",
      "  wR2: 0.021016, number of iterations: 45\n",
      "step 1: calculating new structure factors\n",
      "  calculated density, continuing with partitioning\n",
      "  minimizing least squares sum\n",
      "  wR2: 0.017450, number of iterations: 39\n",
      "step 2: calculating new structure factors\n",
      "  calculated density, continuing with partitioning\n",
      "  minimizing least squares sum\n",
      "  wR2: 0.017626, number of iterations: 34\n",
      "step 3: calculating new structure factors\n",
      "  calculated density, continuing with partitioning\n",
      "  minimizing least squares sum\n",
      "  wR2: 0.017602, number of iterations: 32\n",
      "step 4: calculating new structure factors\n",
      "  calculated density, continuing with partitioning\n",
      "  minimizing least squares sum\n",
      "  wR2: 0.017604, number of iterations: 31\n",
      "step 5: calculating new structure factors\n",
      "  calculated density, continuing with partitioning\n",
      "  minimizing least squares sum\n",
      "  wR2: 0.017604, number of iterations: 31\n",
      "step 6: calculating new structure factors\n",
      "  calculated density, continuing with partitioning\n",
      "  minimizing least squares sum\n",
      "  wR2: 0.017604, number of iterations: 31\n",
      "step 7: calculating new structure factors\n",
      "  calculated density, continuing with partitioning\n",
      "  minimizing least squares sum\n",
      "  wR2: 0.017604, number of iterations: 31\n",
      "step 8: calculating new structure factors\n",
      "  calculated density, continuing with partitioning\n",
      "  minimizing least squares sum\n",
      "  wR2: 0.017604, number of iterations: 30\n",
      "step 9: calculating new structure factors\n",
      "  calculated density, continuing with partitioning\n",
      "  minimizing least squares sum\n",
      "  wR2: 0.017604, number of iterations: 31\n",
      "step 10: calculating new structure factors\n",
      "  calculated density, continuing with partitioning\n",
      "  minimizing least squares sum\n",
      "  wR2: 0.017603, number of iterations: 31\n",
      "step 11: calculating new structure factors\n",
      "  calculated density, continuing with partitioning\n",
      "  minimizing least squares sum\n",
      "  wR2: 0.017603, number of iterations: 31\n",
      "Calculation finished. calculating variance-covariance matrix.\n",
      "Ended refinement at  2022-01-09 21:17:06.942616\n"
     ]
    }
   ],
   "source": [
    "parameters, var_cov_mat, information = refine(\n",
    "    cell=cell, \n",
    "    symm_mats_vecs=symm_mats_vecs,\n",
    "    hkl=hkl,\n",
    "    construction_instructions=construction_instructions,\n",
    "    parameters=parameters,\n",
    "    wavelength=wavelength,\n",
    "    refinement_dict=refinement_dict,\n",
    "    computation_dict=computation_dict\n",
    ")"
   ]
  },
  {
   "cell_type": "markdown",
   "id": "495feda6-0f05-4500-bf76-c8bc2ccaee28",
   "metadata": {},
   "source": [
    "### Writing Data to Disk"
   ]
  },
  {
   "cell_type": "code",
   "execution_count": 11,
   "id": "b42a0294-2bfd-44da-8f9d-4126ef69cf8c",
   "metadata": {},
   "outputs": [],
   "source": [
    "write_cif(\n",
    "    output_cif_path=os.path.join(output_folder, 'xharpy.cif'),\n",
    "    cif_dataset='xharpy',\n",
    "    shelx_cif_path='iam.cif',\n",
    "    shelx_dataset=0,\n",
    "    cell=cell,\n",
    "    cell_esd=cell_esd,\n",
    "    symm_mats_vecs=symm_mats_vecs,\n",
    "    hkl=hkl,\n",
    "    construction_instructions=construction_instructions,\n",
    "    parameters=parameters,\n",
    "    var_cov_mat=var_cov_mat,\n",
    "    refinement_dict=refinement_dict,\n",
    "    computation_dict=computation_dict,\n",
    "    information=information\n",
    ")"
   ]
  },
  {
   "cell_type": "code",
   "execution_count": 12,
   "id": "b668a44c-f085-44a6-a91d-5d427f60668c",
   "metadata": {
    "tags": []
   },
   "outputs": [],
   "source": [
    "write_fcf(\n",
    "    fcf_path=os.path.join(output_folder, 'xharpy.fcf'),\n",
    "    fcf_dataset='xharpy',\n",
    "    fcf_mode=4,\n",
    "    cell=cell,\n",
    "    hkl=hkl,\n",
    "    construction_instructions=construction_instructions,\n",
    "    parameters=parameters,\n",
    "    wavelength=wavelength,\n",
    "    refinement_dict=refinement_dict,\n",
    "    symm_strings=symm_strings,\n",
    "    information=information,\n",
    ");"
   ]
  },
  {
   "cell_type": "code",
   "execution_count": 13,
   "id": "1c8700a4-c426-400b-b2c6-1f8ad6eff737",
   "metadata": {},
   "outputs": [],
   "source": [
    "write_fcf(\n",
    "    fcf_path=os.path.join(output_folder, 'xharpy_6.fcf'),\n",
    "    fcf_dataset='xharpy_6',\n",
    "    fcf_mode=6,\n",
    "    cell=cell,\n",
    "    hkl=hkl,\n",
    "    construction_instructions=construction_instructions,\n",
    "    parameters=parameters,\n",
    "    wavelength=wavelength,\n",
    "    refinement_dict=refinement_dict,\n",
    "    symm_strings=symm_strings,\n",
    "    information=information,\n",
    ");"
   ]
  },
  {
   "cell_type": "code",
   "execution_count": 14,
   "id": "6bb8ef34-965d-4929-8c1d-471767ae77d6",
   "metadata": {},
   "outputs": [],
   "source": [
    "write_res(\n",
    "    out_res_path=os.path.join(output_folder, 'xharpy_6.res'),\n",
    "    in_res_path='iam.lst',\n",
    "    cell=cell,\n",
    "    cell_esd=cell_esd,\n",
    "    construction_instructions=construction_instructions,\n",
    "    parameters=parameters,\n",
    "    wavelength=wavelength\n",
    ")"
   ]
  },
  {
   "cell_type": "code",
   "execution_count": 15,
   "id": "5b54ff88-fd14-4f43-b0ef-5bfc9d71c379",
   "metadata": {},
   "outputs": [],
   "source": [
    "add_density_entries_from_fcf(\n",
    "    os.path.join(output_folder, 'xharpy.cif'),\n",
    "    os.path.join(output_folder, 'xharpy_6.fcf')\n",
    ")"
   ]
  },
  {
   "cell_type": "code",
   "execution_count": null,
   "id": "6ab5a866-cc7e-4910-83db-3ef15a6842d4",
   "metadata": {},
   "outputs": [],
   "source": []
  }
 ],
 "metadata": {
  "kernelspec": {
   "display_name": "Python 3 (ipykernel)",
   "language": "python",
   "name": "python3"
  },
  "language_info": {
   "codemirror_mode": {
    "name": "ipython",
    "version": 3
   },
   "file_extension": ".py",
   "mimetype": "text/x-python",
   "name": "python",
   "nbconvert_exporter": "python",
   "pygments_lexer": "ipython3",
   "version": "3.8.12"
  }
 },
 "nbformat": 4,
 "nbformat_minor": 5
}
