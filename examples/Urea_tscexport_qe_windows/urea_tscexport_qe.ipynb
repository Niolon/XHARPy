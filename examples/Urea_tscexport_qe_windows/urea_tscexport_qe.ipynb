{
 "cells": [
  {
   "cell_type": "markdown",
   "id": "be2de800-cbce-4033-a10f-be75787e783c",
   "metadata": {},
   "source": [
    "# XHARPy Example: tsc export for Urea with Quantum Espresso under Windows\n",
    "- .tsc export\n",
    "- Running under Windows\n",
    "- Program: Quantum Espresso\n",
    "- PBE calculation\n",
    "- Using MPI\n",
    "- Constant Core calculation"
   ]
  },
  {
   "cell_type": "code",
   "execution_count": null,
   "id": "a2229241-5342-4aad-905e-8a6d9963c6f0",
   "metadata": {},
   "outputs": [],
   "source": [
    "from xharpy import cif2tsc\n",
    "import os"
   ]
  },
  {
   "cell_type": "code",
   "execution_count": 2,
   "id": "b138c518-99cc-47c9-b4a1-ab9336a9e9ea",
   "metadata": {},
   "outputs": [],
   "source": [
    "output_folder = 'xharpy_output'\n",
    "if not os.path.exists(output_folder):\n",
    "    os.mkdir(output_folder)"
   ]
  },
  {
   "cell_type": "markdown",
   "id": "cb934ba8-0c23-4247-8900-f66b5c5f2241",
   "metadata": {},
   "source": [
    "### Loading Data"
   ]
  },
  {
   "cell_type": "markdown",
   "id": "61d350cb-7a1a-4b6e-8495-79ac1d1026cf",
   "metadata": {},
   "source": [
    "### Setting Options"
   ]
  },
  {
   "cell_type": "code",
   "execution_count": 3,
   "id": "16b285b7-8440-4282-b5be-beaeed203419",
   "metadata": {},
   "outputs": [],
   "source": [
    "export_dict = {\n",
    "    'f0j_source': 'qe',\n",
    "    'core': 'constant',\n",
    "    'resolution_limit': 0.30\n",
    "}\n",
    "cell = [5.5780, 5.5780, 4.6860, 90.0, 90.0, 90.0]"
   ]
  },
  {
   "cell_type": "code",
   "execution_count": 4,
   "id": "f26ae2e0-4053-4d91-b0e4-4749a7c95d5f",
   "metadata": {},
   "outputs": [],
   "source": [
    "computation_dict = {\n",
    "    'symm_equiv': 'once',\n",
    "    'pw_executable': r'D:\\qe\\pw.exe',\n",
    "    'pp_executable': r'D:\\qe\\pp.exe',\n",
    "    'windows': True,\n",
    "    'density_format': 'cube',\n",
    "    'control': {\n",
    "        'prefix': 'urea',\n",
    "        'pseudo_dir': './pseudo/',\n",
    "    },\n",
    "    'system': {\n",
    "        'ibrav': 6,\n",
    "        'a': float(cell[0]),\n",
    "        'c': float(cell[2]),\n",
    "        'ecutwfc': 50,\n",
    "        'ecutrho': 200,\n",
    "    },\n",
    "    'paw_files': {\n",
    "        'H': 'H.pbe-kjpaw_psl.1.0.0.UPF',\n",
    "        'C': 'C.pbe-n-kjpaw_psl.1.0.0.UPF',\n",
    "        'O': 'O.pbe-n-kjpaw_psl.1.0.0.UPF',\n",
    "        'N': 'N.pbe-n-kjpaw_psl.1.0.0.UPF'\n",
    "    },\n",
    "    'k_points':{\n",
    "        'mode': 'automatic',\n",
    "        'input': '1 1 1 0 0 0'\n",
    "    }\n",
    "}"
   ]
  },
  {
   "cell_type": "markdown",
   "id": "15413c56-2818-4f6d-be40-9cb7462c7663",
   "metadata": {},
   "source": [
    "### .tsc export "
   ]
  },
  {
   "cell_type": "code",
   "execution_count": null,
   "id": "225da56f-f671-4411-8382-57f868f1cbd0",
   "metadata": {},
   "outputs": [],
   "source": [
    "cif2tsc(\n",
    "    tsc_path=os.path.join(output_folder, 'xharpy.tsc'),\n",
    "    cif_path='iam.cif',\n",
    "    cif_dataset=0,\n",
    "    export_dict=export_dict,\n",
    "    computation_dict=computation_dict\n",
    ")"
   ]
  },
  {
   "cell_type": "code",
   "execution_count": null,
   "id": "c6f1dafd-4ef9-471c-9dbf-f23f351f3caf",
   "metadata": {},
   "outputs": [],
   "source": []
  }
 ],
 "metadata": {
  "kernelspec": {
   "display_name": "Python 3.7.0 ('base')",
   "language": "python",
   "name": "python3"
  },
  "language_info": {
   "codemirror_mode": {
    "name": "ipython",
    "version": 3
   },
   "file_extension": ".py",
   "mimetype": "text/x-python",
   "name": "python",
   "nbconvert_exporter": "python",
   "pygments_lexer": "ipython3",
   "version": "3.7.0"
  },
  "vscode": {
   "interpreter": {
    "hash": "b28947f0280334415a635f5ee81165e885494992f2f38465202d6218f1ac4969"
   }
  }
 },
 "nbformat": 4,
 "nbformat_minor": 5
}
