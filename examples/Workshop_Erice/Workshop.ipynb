{
 "cells": [
  {
   "cell_type": "markdown",
   "id": "f782f2e7-d253-4390-aff9-851a424803e1",
   "metadata": {},
   "source": [
    "# Preparations at home"
   ]
  },
  {
   "cell_type": "markdown",
   "id": "7413cd4b-31d5-45ef-89bd-c2d4e782dbc5",
   "metadata": {},
   "source": [
    "## Installation of the package\n",
    "\n",
    " 1. (Only needed on Windows) Install the Windows Subsystem for Linux following [these instructions](https://learn.microsoft.com/en-us/windows/wsl/setup/environment). Then execute the following steps (including for starting the notebook) within a wsl environent. You can start one by typing `wsl` in a Powershell.\n",
    " 2. Take a look at the script at the script at the location that is downloaded *via* `wget` and confirm it is safe. Then download and execute the installation script by executing:    \n",
    "    ```bash\n",
    "    \n",
    "        wget https://github.com/Niolon/XHARPy/raw/refs/heads/main/install.sh && bash install.sh\n",
    "        \n",
    "    ```\n",
    "    Do **not** execute via `sudo`, doing that potentially makes your conda environments unusable."
   ]
  },
  {
   "cell_type": "markdown",
   "id": "a8fbff4b-a349-4e0c-bc21-ccc314a91db7",
   "metadata": {},
   "source": [
    "## Starting the notebook \n",
    "\n",
    "\n",
    "## Test the installation\n",
    "Execute the following cells by clicking on the cell and pressing `Shift + Enter`. The way that they are set up is not how you should do things, but they are optimised to get a reproducible result relatively quickly. If all of the cell output a passed underneath: Congratulations you are ready for the workshop and have a running version of XHARPy on your computer.\n",
    "\n",
    "\n"
   ]
  },
  {
   "cell_type": "code",
   "execution_count": null,
   "id": "123bcc45-d5ae-4435-9c10-abb7a4e2b616",
   "metadata": {},
   "outputs": [],
   "source": []
  },
  {
   "cell_type": "markdown",
   "id": "3d37f163-ed41-4899-a57e-1101e5d9f712",
   "metadata": {},
   "source": [
    "# Introduction: What does XHARPy do?\n",
    "\n",
    " - Hirshfeld Atom Refinement (with partitioned valence densities)\n",
    " - atomic form factor calculation\n",
    " - Doing these things with periodic densities evaluated on rectangular grids with separately evaluated frozen core densities"
   ]
  },
  {
   "cell_type": "markdown",
   "id": "eb8f80a7-196c-437d-b171-9824c5664102",
   "metadata": {},
   "source": [
    "# Prerequisites"
   ]
  },
  {
   "cell_type": "markdown",
   "id": "a0bb2e4c-a6e5-49b6-9e88-ecbe2f7774ca",
   "metadata": {},
   "source": [
    "## The two minute introduction to python programming\n",
    "\n",
    "As you might imagine this is not a python course, just a short glossary of the syntax that will be used."
   ]
  },
  {
   "cell_type": "markdown",
   "id": "01a4c05c-dc28-48b3-9eb0-63c151b6c876",
   "metadata": {},
   "source": [
    "Values from the right are assigned to a variable on the left with the `=` operator"
   ]
  },
  {
   "cell_type": "code",
   "execution_count": 24,
   "id": "ee62ae97-0e4f-4c5d-81c1-27aef5a59f79",
   "metadata": {},
   "outputs": [],
   "source": [
    "a = 1"
   ]
  },
  {
   "cell_type": "markdown",
   "id": "31dee768-e450-4d0c-8dcb-38946580aaa4",
   "metadata": {},
   "source": [
    "To save text we need to start and end with the same type of quotation mark"
   ]
  },
  {
   "cell_type": "code",
   "execution_count": 25,
   "id": "65e94d7a-e8d1-4991-9ca7-ba920292bdb8",
   "metadata": {},
   "outputs": [],
   "source": [
    "a_string = \"String content\""
   ]
  },
  {
   "cell_type": "markdown",
   "id": "60bfd76c-f02c-459e-a841-a5c4bcffd79f",
   "metadata": {},
   "source": [
    "A dictionary is started and ended with curly braces and pairs of key: values separated by a colon. They are used for settings in this tutorial if you know how to write JSON you can basically transfer what you know."
   ]
  },
  {
   "cell_type": "code",
   "execution_count": 26,
   "id": "05e25f26-f7a1-47d0-a320-3346c0382efa",
   "metadata": {},
   "outputs": [],
   "source": [
    "my_dict = {\"setting_name\": 1, \"another_setting_name\": \"another value\"}"
   ]
  },
  {
   "cell_type": "markdown",
   "id": "c5776dd2-06ce-4393-ba3b-877f0b8104de",
   "metadata": {},
   "source": [
    "we access / assign / modify a value in a dict using square brackets"
   ]
  },
  {
   "cell_type": "code",
   "execution_count": 27,
   "id": "a1bb060d-5d98-4045-a8f2-e96c8f4fe851",
   "metadata": {},
   "outputs": [],
   "source": [
    "b = my_dict[\"setting_name\"]\n",
    "my_dict[\"a_third_setting\"] = True"
   ]
  },
  {
   "cell_type": "markdown",
   "id": "ac32de08-232a-4e41-a341-7272450caa31",
   "metadata": {},
   "source": [
    "A function has a name and round brackets, in which you input arguments by position and/or by name. It can produce one or more *return values* that can be assigned to variables"
   ]
  },
  {
   "cell_type": "code",
   "execution_count": 28,
   "id": "25f70d29-f23b-4f48-8f15-b4d73200da28",
   "metadata": {},
   "outputs": [
    {
     "name": "stdout",
     "output_type": "stream",
     "text": [
      "Output\n"
     ]
    }
   ],
   "source": [
    "print(\"Output\")  # no return value"
   ]
  },
  {
   "cell_type": "code",
   "execution_count": 29,
   "id": "d14e870e-20ff-449c-b764-5e277638476d",
   "metadata": {},
   "outputs": [
    {
     "name": "stdout",
     "output_type": "stream",
     "text": [
      "{'name': 'Alice', 'age': 30, 'city': 'New York'}\n"
     ]
    }
   ],
   "source": [
    "result = dict(name=\"Alice\", age=30, city=\"New York\")\n",
    "print(result)  # we can use variables as arguments"
   ]
  },
  {
   "cell_type": "markdown",
   "id": "01aec6d4-f346-4a12-8eaa-e87ea73da428",
   "metadata": {},
   "source": [
    "We get more functionality / functions by importing them from installed packages"
   ]
  },
  {
   "cell_type": "code",
   "execution_count": 30,
   "id": "c7269f61-54f7-47c7-af73-8d0b82a612c0",
   "metadata": {},
   "outputs": [],
   "source": [
    "import numpy as np\n",
    "import shutil\n",
    "from pathlib import Path"
   ]
  },
  {
   "cell_type": "markdown",
   "id": "496e3e43-8b92-4f18-bd71-47b60801265c",
   "metadata": {},
   "source": [
    "# Using XHARPy\n",
    "First we will import the functions needed to road the data, execute the refinement and write the results back to disk. At the first time you import something you should get a warning about JAX using the CPU. This is expected (otherwise you need a 64 bit capable GPU, and refinement on the GPU is untested)."
   ]
  },
  {
   "cell_type": "code",
   "execution_count": 31,
   "id": "9e3a3066-de95-40c3-b325-7e5a4e6ea84b",
   "metadata": {},
   "outputs": [],
   "source": [
    "# import functions for reading the intensities\n",
    "from xharpy import shelxl_hkl2pd  # For a SHELX HKL 4 (that needs to be merged !!!!!!)\n",
    "from xharpy import xd_hkl2pd  # For a XD hkl containing intensities\n",
    "from xharpy import fcf2hkl_pd # For reading the observed intensities from an fcf4 (do not correct the extinction against the IAM).\n",
    "\n",
    "# import function to read other data\n",
    "from xharpy import cif2data, lst2constraint_dict\n",
    "\n",
    "# import functions needed for refinement\n",
    "from xharpy import create_construction_instructions, refine\n",
    "\n",
    "# import function to write out the results\n",
    "from xharpy import write_cif, write_res, write_fcf, add_density_entries_from_fcf\n",
    "\n",
    "# import functions to create a tsc file\n",
    "from xharpy import cif2tsc\n",
    "\n",
    "# Path is a really convenient way to work with pathes in python. (should already be present from example above)\n",
    "from pathlib import Path"
   ]
  },
  {
   "cell_type": "markdown",
   "id": "ea82923f-b8dd-44a0-bd5a-e7c6686e1ab7",
   "metadata": {},
   "source": [
    "All functions within XHARPy should have a working in-function documentation (so a docstring), which you can access via python's help function."
   ]
  },
  {
   "cell_type": "code",
   "execution_count": 32,
   "id": "f1a6ec94-af4b-4033-a56b-5ffcf274de21",
   "metadata": {
    "scrolled": true
   },
   "outputs": [
    {
     "name": "stdout",
     "output_type": "stream",
     "text": [
      "Help on function refine in module xharpy.refine:\n",
      "\n",
      "refine(cell: jax.Array, symm_mats_vecs: Tuple[jax.Array, jax.Array], hkl: pandas.core.frame.DataFrame, construction_instructions: List[xharpy.structure.common.AtomInstructions], parameters: jax.Array, wavelength: Optional[float] = None, refinement_dict: dict = {}, computation_dict: dict = {}) -> Tuple[jax.Array, jax.Array, Dict[str, Any]]\n",
      "    Refinement routine. The routine will refine for the given intensities\n",
      "    against wR2(F^2).\n",
      "\n",
      "    Parameters\n",
      "    ----------\n",
      "    cell : jnp.ndarray\n",
      "        array with the lattice constants (Angstroem, Degree)\n",
      "    symm_mats_vecs : Tuple[jnp.ndarray, jnp.ndarray]\n",
      "        size (K, 3, 3) array of symmetry matrices and (K, 3) array of translation\n",
      "        vectors for all symmetry elements in the unit cell\n",
      "    hkl : pd.DataFrame\n",
      "        pandas DataFrame containing the reflection data. Needs to have at least\n",
      "        five columns: h, k, l, intensity, weight. Alternatively weight can be\n",
      "        substituted by esd_int. If no weight column is available the weights\n",
      "        will be calculated as 1/esd_int**2. Additional columns will be ignored\n",
      "    construction_instructions : List[AtomInstructions]\n",
      "        List of instructions for reconstructing the atomic parameters from the\n",
      "        list of refined parameters\n",
      "    parameters : jnp.ndarray\n",
      "        Starting values for the list of parameters\n",
      "    wavelength : Optional[float], optional\n",
      "        Measurement wavelength in Angstroem. Currently only used for Shelxl\n",
      "        style extinction correction. Can be omitted otherwise, by default None\n",
      "    refinement_dict : dict, optional\n",
      "        Dictionary with refinement options, by default {}\n",
      "\n",
      "        Available options are:\n",
      "          - f0j_source:\n",
      "            Source of the atomic form factors. The computation_dict\n",
      "            will be passed on to this method. See the individual files in\n",
      "            f0j_sources for more information, by default 'gpaw'\n",
      "            Tested options: 'gpaw', 'iam', 'gpaw_mpi'\n",
      "            Some limitations: 'gpaw_spherical'\n",
      "            Still untested: 'qe'\n",
      "          - reload_step:\n",
      "            Starting with this step the computation will try to reuse the\n",
      "            density, if this is implemented in the source, by default 1\n",
      "          - core:\n",
      "            If this is implemented in a f0j_source, it will integrate the\n",
      "            frozen core density on a spherical grid and only use the valence\n",
      "            density for the updated atomic form factos options are\n",
      "            'combine', which will not treat the core density separately,\n",
      "            'constant' which will integrate and add the core density without\n",
      "            scaling parameter and 'scale' which will refine a scaling\n",
      "            parameter for the core density which might for systematic\n",
      "            deviations due to a coarse valence density grid (untested!)\n",
      "            By default 'constant'\n",
      "          - extinction:\n",
      "            Use an extinction correction. Options: 'none' -> no extinction\n",
      "            correction, 'shelxl' use the (empirical) formula used by SHELXL\n",
      "            to correct to correct for extinction, 'secondary' see Giacovazzo\n",
      "            et al. 'Fundmentals of Crystallography' (1992) p.97, by default\n",
      "            'none'\n",
      "          - flack:\n",
      "            Refinement of the flack parameter. Because xHARPy does not merge at\n",
      "            the moment this should not be considered really implemented,\n",
      "            by default False\n",
      "          - max_dist_recalc:\n",
      "            If the max difference in atomic positions is under this value in\n",
      "            Angstroems, no new structure factors will be calculated, by\n",
      "            default 1e-6\n",
      "          - max_iter:\n",
      "            Maximum of refinement cycles if convergence not reached, by\n",
      "            default: 100\n",
      "          - min_iter:\n",
      "            Minimum refinement cycles. The refinement will stop if the\n",
      "            wR2 increases if the current cycle is higher than min_iter,\n",
      "            by default 10\n",
      "          - core_io:\n",
      "            Expects a tuple where the first entry can be 'save', 'load', 'none'\n",
      "            which is the action that is taken with the core density. The\n",
      "            second argument in the tuple is the filename, to which the core\n",
      "            density is saved to or loaded from\n",
      "          - cutoff:\n",
      "            Expects a tuple of three values where the first two are strings and\n",
      "            the last one is a float value. First string is a cutoff mode.\n",
      "            Currently available are 'none' where all reflections are used,\n",
      "            'sin(theta)/lambda' where the cutoff is set according to a user\n",
      "            given resolution, 'fraction(f0jval)' where the resolution cutoff is\n",
      "            set to include a certain fraction of the mean absolute *valence*\n",
      "            atomic form factors. 'I/esd(I)' can be used for excluding values\n",
      "            based on the value over estimated standard deviation\n",
      "            The second string can be either be 'above' or 'below' and\n",
      "            denominates in which direction values will be excluded.\n",
      "            The final value is the actual cutoff value.\n",
      "          - restraints:\n",
      "            Not fully implemented. Do not use at the moment, by default []\n",
      "\n",
      "    computation_dict : dict, optional\n",
      "        Dict with options that are passed on to the f0j_source. See the\n",
      "        individual calc_f0j functions for a more detailed description, by\n",
      "        default {}\n",
      "\n",
      "    Returns\n",
      "    -------\n",
      "    parameters: jnp.ndarray\n",
      "        final refined parameters.\n",
      "    var_cov_mat: jnp.ndarray,\n",
      "        variance covariance matrix of the final refinement step\n",
      "    information: Dict[str, Any]\n",
      "        Dictionary with additional information, some of this is needed for\n",
      "        cif output\n",
      "\n",
      "    Raises\n",
      "    ------\n",
      "    NotImplementedError\n",
      "        f0j_source not implemented\n",
      "    NotImplementedError\n",
      "        Unknown core description\n",
      "    NotImplementedError\n",
      "        Second point where the core description could be missing\n",
      "\n"
     ]
    }
   ],
   "source": [
    "help(refine)"
   ]
  },
  {
   "cell_type": "markdown",
   "id": "08c807e2-fbe7-4e79-bf4a-308d666e9d5a",
   "metadata": {},
   "source": [
    "## Refining with Quantum Espresso: CaF<sub>2</sub>\n",
    "Note that there is no logic between the assignment of calculation program for the density used in this tutorial: The aim is two show the two backend-engines and two different structures.\n",
    "\n",
    "Let us start to work on the first dataset by creating references to the folders needed"
   ]
  },
  {
   "cell_type": "code",
   "execution_count": 33,
   "id": "0d9c280f-e23d-4e44-ba1a-fea0a596d238",
   "metadata": {},
   "outputs": [],
   "source": [
    "folder_caf2 = Path(\"CaF2\")\n",
    "output_folder_caf2 = folder_caf2 / \"xharpy_output\"\n",
    "output_folder_caf2.mkdir(exist_ok=True)"
   ]
  },
  {
   "cell_type": "markdown",
   "id": "b8d660e1-a8b5-477b-aaa2-5636913c216b",
   "metadata": {},
   "source": [
    "### Loading the data and merging the hkl\n",
    "There is a lot of different objects that will be created from the cif file using the `cif2data` function."
   ]
  },
  {
   "cell_type": "code",
   "execution_count": 34,
   "id": "e9ffb469-198b-4697-a10c-75214d437ad2",
   "metadata": {},
   "outputs": [],
   "source": [
    "atom_table_caf2, cell_caf2, cell_esd_caf2, symm_mats_vecs_caf2, symm_strings_caf2, wavelength_caf2 = cif2data(\n",
    "    folder_caf2 / \"CaF2.cif\", 0\n",
    ")"
   ]
  },
  {
   "cell_type": "markdown",
   "id": "0524be8a-2d53-40ca-b3a3-1b659eae5a71",
   "metadata": {},
   "source": [
    "First it is instructive to take a quick look at the imported `atom_table_caf2`. This an object which has a nice representation in the Jupyter notebook (for reference: it is a pandas DataFrame)."
   ]
  },
  {
   "cell_type": "code",
   "execution_count": 35,
   "id": "b624d56a-8f3d-47c7-8efa-893ca800898a",
   "metadata": {},
   "outputs": [
    {
     "data": {
      "text/html": [
       "<div>\n",
       "<style scoped>\n",
       "    .dataframe tbody tr th:only-of-type {\n",
       "        vertical-align: middle;\n",
       "    }\n",
       "\n",
       "    .dataframe tbody tr th {\n",
       "        vertical-align: top;\n",
       "    }\n",
       "\n",
       "    .dataframe thead th {\n",
       "        text-align: right;\n",
       "    }\n",
       "</style>\n",
       "<table border=\"1\" class=\"dataframe\">\n",
       "  <thead>\n",
       "    <tr style=\"text-align: right;\">\n",
       "      <th></th>\n",
       "      <th>label</th>\n",
       "      <th>type_symbol</th>\n",
       "      <th>fract_x</th>\n",
       "      <th>fract_y</th>\n",
       "      <th>fract_z</th>\n",
       "      <th>U_iso_or_equiv</th>\n",
       "      <th>adp_type</th>\n",
       "      <th>occupancy</th>\n",
       "      <th>site_symmetry_order</th>\n",
       "      <th>calc_flag</th>\n",
       "      <th>...</th>\n",
       "      <th>U_23</th>\n",
       "      <th>U_13</th>\n",
       "      <th>U_12</th>\n",
       "      <th>U_11_esd</th>\n",
       "      <th>U_22_esd</th>\n",
       "      <th>U_33_esd</th>\n",
       "      <th>type_description</th>\n",
       "      <th>type_scat_dispersion_real</th>\n",
       "      <th>type_scat_dispersion_imag</th>\n",
       "      <th>type_scat_source</th>\n",
       "    </tr>\n",
       "  </thead>\n",
       "  <tbody>\n",
       "    <tr>\n",
       "      <th>0</th>\n",
       "      <td>Ca01</td>\n",
       "      <td>Ca</td>\n",
       "      <td>0.50</td>\n",
       "      <td>0.50</td>\n",
       "      <td>0.50</td>\n",
       "      <td>0.00331</td>\n",
       "      <td>Uani</td>\n",
       "      <td>0.020833</td>\n",
       "      <td>48</td>\n",
       "      <td>d</td>\n",
       "      <td>...</td>\n",
       "      <td>0.0</td>\n",
       "      <td>0.0</td>\n",
       "      <td>0.0</td>\n",
       "      <td>0.00005</td>\n",
       "      <td>0.00005</td>\n",
       "      <td>0.00005</td>\n",
       "      <td>Ca</td>\n",
       "      <td>0.1378</td>\n",
       "      <td>0.1937</td>\n",
       "      <td>International Tables Vol C Tables 4.2.6.8 and ...</td>\n",
       "    </tr>\n",
       "    <tr>\n",
       "      <th>1</th>\n",
       "      <td>F002</td>\n",
       "      <td>F</td>\n",
       "      <td>0.25</td>\n",
       "      <td>0.75</td>\n",
       "      <td>0.75</td>\n",
       "      <td>0.00491</td>\n",
       "      <td>Uani</td>\n",
       "      <td>0.041667</td>\n",
       "      <td>24</td>\n",
       "      <td>d</td>\n",
       "      <td>...</td>\n",
       "      <td>0.0</td>\n",
       "      <td>0.0</td>\n",
       "      <td>0.0</td>\n",
       "      <td>0.00008</td>\n",
       "      <td>0.00008</td>\n",
       "      <td>0.00008</td>\n",
       "      <td>F</td>\n",
       "      <td>0.0060</td>\n",
       "      <td>0.0061</td>\n",
       "      <td>International Tables Vol C Tables 4.2.6.8 and ...</td>\n",
       "    </tr>\n",
       "  </tbody>\n",
       "</table>\n",
       "<p>2 rows × 29 columns</p>\n",
       "</div>"
      ],
      "text/plain": [
       "  label type_symbol  fract_x  fract_y  fract_z  U_iso_or_equiv adp_type  \\\n",
       "0  Ca01          Ca     0.50     0.50     0.50         0.00331     Uani   \n",
       "1  F002           F     0.25     0.75     0.75         0.00491     Uani   \n",
       "\n",
       "   occupancy  site_symmetry_order calc_flag  ... U_23 U_13 U_12 U_11_esd  \\\n",
       "0   0.020833                   48         d  ...  0.0  0.0  0.0  0.00005   \n",
       "1   0.041667                   24         d  ...  0.0  0.0  0.0  0.00008   \n",
       "\n",
       "  U_22_esd  U_33_esd  type_description  type_scat_dispersion_real  \\\n",
       "0  0.00005   0.00005                Ca                     0.1378   \n",
       "1  0.00008   0.00008                 F                     0.0060   \n",
       "\n",
       "   type_scat_dispersion_imag  \\\n",
       "0                     0.1937   \n",
       "1                     0.0061   \n",
       "\n",
       "                                    type_scat_source  \n",
       "0  International Tables Vol C Tables 4.2.6.8 and ...  \n",
       "1  International Tables Vol C Tables 4.2.6.8 and ...  \n",
       "\n",
       "[2 rows x 29 columns]"
      ]
     },
     "execution_count": 35,
     "metadata": {},
     "output_type": "execute_result"
    }
   ],
   "source": [
    "atom_table_caf2"
   ]
  },
  {
   "cell_type": "markdown",
   "id": "eed5e5a8-338c-4e27-bcdb-5c355ce5d26e",
   "metadata": {},
   "source": [
    "We can load and merge the hkl, check that the space group is correct. XHARPy will execute with unmerged reflections. However the refinement will get slow and the result will not be correct."
   ]
  },
  {
   "cell_type": "code",
   "execution_count": 47,
   "id": "b90c58ea-ebd4-4b46-8537-59efee9f0c85",
   "metadata": {},
   "outputs": [],
   "source": [
    "hkl_caf2 = fcf2hkl_pd(folder_caf2/  'CaF2.fcf')"
   ]
  },
  {
   "cell_type": "markdown",
   "id": "38567b1f-7243-4073-bf07-657ae6c8d3db",
   "metadata": {},
   "source": [
    "The final file, we need is an SHELXL lst file for the special position constraints. These can also be generated manually (as described [here](https://xharpy.readthedocs.io/en/latest/library/library_symm_con.html)). However creating them from an lst is more convenient. For reference, this is what this function is looking for. It might be possible to recreate this without ShelXl (make sure to create the spaces around the `*` signs): \n",
    "```\n",
    " Special position constraints for Ca01\n",
    " x =  0.5000   y =  0.5000   z =  0.5000   U22 = 1.0 * U11   U33 = 1.0 * U11   \n",
    " U23 = 0   U13 = 0   U12 = 0   sof = 0.02083   \n",
    " Input constraints retained (at least in part) for  sof\n",
    "\n",
    " Special position constraints for F002\n",
    " x =  0.2500   y =  0.7500   z =  0.7500   U22 = 1.0 * U11   U33 = 1.0 * U11   \n",
    " U23 = 0   U13 = 0   U12 = 0   sof = 0.04167   \n",
    " Input constraints retained (at least in part) for  sof\n",
    "```"
   ]
  },
  {
   "cell_type": "code",
   "execution_count": 37,
   "id": "d3a1c7ea-ec94-48de-a809-29f52529cc62",
   "metadata": {},
   "outputs": [],
   "source": [
    "constraints_caf2 = lst2constraint_dict(folder_caf2 / 'CaF2.lst')"
   ]
  },
  {
   "cell_type": "markdown",
   "id": "e3907e66-c451-424c-b58f-da4da8d08617",
   "metadata": {},
   "source": [
    "### Setting up the refinement"
   ]
  },
  {
   "cell_type": "code",
   "execution_count": 38,
   "id": "7f0184ad-1e50-4bc6-a87f-b35bff625494",
   "metadata": {},
   "outputs": [],
   "source": [
    "refinement_dict_caf2 = {\n",
    "    'f0j_source': 'qe',\n",
    "    'reload_step': 1,\n",
    "    'core': 'constant', # should be constant, for very low grid sizes the scaling between core and valence density can be refines using scale.\n",
    "}"
   ]
  },
  {
   "cell_type": "code",
   "execution_count": 39,
   "id": "5be58e9c-faac-4e33-9103-4464ebb75a8b",
   "metadata": {},
   "outputs": [],
   "source": [
    "construction_instructions_caf2, parameters_caf2 = create_construction_instructions(\n",
    "    atom_table=atom_table_caf2,\n",
    "    constraint_dict=constraints_caf2,\n",
    "    refinement_dict=refinement_dict_caf2\n",
    ")"
   ]
  },
  {
   "cell_type": "code",
   "execution_count": 40,
   "id": "6df2037b-8028-4134-8050-07bc4a0d6e3f",
   "metadata": {},
   "outputs": [],
   "source": [
    "computation_dict_caf2 = {\n",
    "    'symm_equiv': 'once', # XHARPy specific\n",
    "    'mpicores': 2, # Sets the number of mpi cores. Make sure that n(MPI) * n(OMP) < N(Threads)\n",
    "    'control': {\n",
    "        'prefix': 'CaF2',\n",
    "        'pseudo_dir': './CaF2/pseudo/',\n",
    "    },\n",
    "    'system': {\n",
    "        'ibrav': 1,\n",
    "        'a': float(cell_caf2[0]),\n",
    "        'ecutwfc': 100,\n",
    "        'ecutrho': 400,\n",
    "    },\n",
    "    'paw_files': {\n",
    "        'Ca': 'Ca.paw.upf',\n",
    "        'F': 'F.paw.upf',\n",
    "    },\n",
    "    'k_points':{\n",
    "        'mode': 'automatic',\n",
    "        'input': '1 1 1 0 0 0'\n",
    "    }\n",
    "}"
   ]
  },
  {
   "cell_type": "code",
   "execution_count": 41,
   "id": "d674e7d7-35db-42f4-8a6a-9978cb3228ce",
   "metadata": {},
   "outputs": [
    {
     "name": "stdout",
     "output_type": "stream",
     "text": [
      "Started refinement at  2025-03-31 18:01:01.366118\n",
      "Preparing\n",
      "  calculating core density for Ca from Ca.paw.upf\n",
      "  calculating core density for F from F.paw.upf\n",
      "  calculating first atomic form factors\n",
      "  theoretical calculation started at  2025-03-31 18:01:01.433969\n",
      "  convergence has been achieved with energy of -1011.09002157 Ry\n",
      "  theoretical calculation ended at  2025-03-31 18:02:49.362487\n",
      "  partitioning started at  2025-03-31 18:02:49.362596\n"
     ]
    },
    {
     "name": "stderr",
     "output_type": "stream",
     "text": [
      "/home/niklas/miniforge3/envs/xharpy/lib/python3.12/multiprocessing/popen_fork.py:66: RuntimeWarning: os.fork() was called. os.fork() is incompatible with multithreaded code, and JAX is multithreaded, so this will likely lead to a deadlock.\n",
      "  self.pid = os.fork()\n",
      "/home/niklas/miniforge3/envs/xharpy/lib/python3.12/multiprocessing/popen_fork.py:66: DeprecationWarning: This process (pid=430650) is multi-threaded, use of fork() may lead to deadlocks in the child.\n",
      "  self.pid = os.fork()\n",
      "/home/niklas/miniforge3/envs/xharpy/lib/python3.12/multiprocessing/popen_fork.py:66: RuntimeWarning: os.fork() was called. os.fork() is incompatible with multithreaded code, and JAX is multithreaded, so this will likely lead to a deadlock.\n",
      "  self.pid = os.fork()\n",
      "/home/niklas/miniforge3/envs/xharpy/lib/python3.12/multiprocessing/popen_fork.py:66: DeprecationWarning: This process (pid=430650) is multi-threaded, use of fork() may lead to deadlocks in the child.\n",
      "  self.pid = os.fork()\n"
     ]
    },
    {
     "name": "stdout",
     "output_type": "stream",
     "text": [
      "  partitioning ended at  2025-03-31 18:03:16.231424\n",
      "  building least squares function\n",
      "  setting up gradients\n",
      "step 0: Optimizing scaling\n",
      "  wR2: 0.041019, number of iterations: 3\n",
      "  minimizing least squares sum\n",
      "  wR2: 0.028286, number of iterations: 9\n",
      "step 1: atom_positions are converged. No new structure factor calculation.\n",
      "  minimizing least squares sum\n",
      "  wR2: 0.028286, number of iterations: 0\n",
      "step 2: atom_positions are converged. No new structure factor calculation.\n",
      "  minimizing least squares sum\n",
      "  wR2: 0.028286, number of iterations: 0\n",
      "step 3: atom_positions are converged. No new structure factor calculation.\n",
      "  minimizing least squares sum\n",
      "  wR2: 0.028286, number of iterations: 0\n",
      "step 4: atom_positions are converged. No new structure factor calculation.\n",
      "  minimizing least squares sum\n",
      "  wR2: 0.028286, number of iterations: 0\n",
      "step 5: atom_positions are converged. No new structure factor calculation.\n",
      "  minimizing least squares sum\n",
      "  wR2: 0.028286, number of iterations: 0\n",
      "step 6: atom_positions are converged. No new structure factor calculation.\n",
      "  minimizing least squares sum\n",
      "  wR2: 0.028286, number of iterations: 0\n",
      "step 7: atom_positions are converged. No new structure factor calculation.\n",
      "  minimizing least squares sum\n",
      "  wR2: 0.028286, number of iterations: 0\n",
      "step 8: atom_positions are converged. No new structure factor calculation.\n",
      "  minimizing least squares sum\n",
      "  wR2: 0.028286, number of iterations: 0\n",
      "step 9: atom_positions are converged. No new structure factor calculation.\n",
      "  minimizing least squares sum\n",
      "  wR2: 0.028286, number of iterations: 0\n",
      "step 10: atom_positions are converged. No new structure factor calculation.\n",
      "  minimizing least squares sum\n",
      "  wR2: 0.028286, number of iterations: 0\n",
      "Calculation finished. calculating variance-covariance matrix.\n",
      "Ended refinement at  2025-03-31 18:04:31.642954\n"
     ]
    }
   ],
   "source": [
    "parameters_caf2, var_cov_mat_caf2, information_caf2 = refine(\n",
    "    cell=cell_caf2, \n",
    "    symm_mats_vecs=symm_mats_vecs_caf2,\n",
    "    hkl=hkl_caf2,\n",
    "    construction_instructions=construction_instructions_caf2,\n",
    "    parameters=parameters_caf2,\n",
    "    wavelength=wavelength_caf2,\n",
    "    refinement_dict=refinement_dict_caf2,\n",
    "    computation_dict=computation_dict_caf2\n",
    ")"
   ]
  },
  {
   "cell_type": "code",
   "execution_count": 42,
   "id": "48ec4d23-05a3-4549-be6c-48c55f041928",
   "metadata": {},
   "outputs": [
    {
     "name": "stderr",
     "output_type": "stream",
     "text": [
      "/home/niklas/XHARPy/xharpy/io.py:1551: UserWarning: There are no bonds to hydrogen atoms in your template cif file. XHARPy only outputs bond lengths for bonds in the template cif. Check that this is expected behaviour.\n",
      "  warnings.warn('There are no bonds to hydrogen atoms in your template cif file. XHARPy only outputs bond lengths for bonds in the template cif. Check that this is expected behaviour.')\n"
     ]
    }
   ],
   "source": [
    "write_cif(\n",
    "    output_cif_path=output_folder_caf2 / 'xharpy.cif',\n",
    "    cif_dataset='xharpy',\n",
    "    shelx_cif_path=folder_caf2 / 'CaF2.cif',\n",
    "    shelx_dataset=0,\n",
    "    cell=cell_caf2,\n",
    "    cell_esd=cell_esd_caf2,\n",
    "    symm_mats_vecs=symm_mats_vecs_caf2,\n",
    "    hkl=hkl_caf2,\n",
    "    construction_instructions=construction_instructions_caf2,\n",
    "    parameters=parameters_caf2,\n",
    "    var_cov_mat=var_cov_mat_caf2,\n",
    "    refinement_dict=refinement_dict_caf2,\n",
    "    computation_dict=computation_dict_caf2,\n",
    "    information=information_caf2\n",
    ")"
   ]
  },
  {
   "cell_type": "code",
   "execution_count": 43,
   "id": "dd6d64c9-57e2-431e-abfc-e169f141b77b",
   "metadata": {},
   "outputs": [],
   "source": [
    "write_fcf(\n",
    "    fcf_path=output_folder_caf2 / 'xharpy.fcf',\n",
    "    fcf_dataset='xharpy',\n",
    "    fcf_mode=4,\n",
    "    cell=cell_caf2,\n",
    "    hkl=hkl_caf2,\n",
    "    construction_instructions=construction_instructions_caf2,\n",
    "    parameters=parameters_caf2,\n",
    "    wavelength=wavelength_caf2,\n",
    "    refinement_dict=refinement_dict_caf2,\n",
    "    symm_strings=symm_strings_caf2,\n",
    "    information=information_caf2,\n",
    ");"
   ]
  },
  {
   "cell_type": "code",
   "execution_count": 44,
   "id": "0283701f-3dc1-41bb-9d2a-ace0b40fc121",
   "metadata": {},
   "outputs": [],
   "source": [
    "write_fcf(\n",
    "    fcf_path=output_folder_caf2 / 'xharpy_6.fcf',\n",
    "    fcf_dataset='xharpy_6',\n",
    "    fcf_mode=6,\n",
    "    cell=cell_caf2,\n",
    "    hkl=hkl_caf2,\n",
    "    construction_instructions=construction_instructions_caf2,\n",
    "    parameters=parameters_caf2,\n",
    "    wavelength=wavelength_caf2,\n",
    "    refinement_dict=refinement_dict_caf2,\n",
    "    symm_strings=symm_strings_caf2,\n",
    "    information=information_caf2,\n",
    ");"
   ]
  },
  {
   "cell_type": "code",
   "execution_count": 45,
   "id": "be29c444-f47f-4be2-983f-003fe43ecd38",
   "metadata": {},
   "outputs": [],
   "source": [
    "write_res(\n",
    "    out_res_path=output_folder_caf2 / 'xharpy_6.res',\n",
    "    in_res_path=folder_caf2 / 'CaF2.lst',\n",
    "    cell=cell_caf2,\n",
    "    cell_esd=cell_esd_caf2,\n",
    "    construction_instructions=construction_instructions_caf2,\n",
    "    parameters=parameters_caf2,\n",
    "    wavelength=wavelength_caf2\n",
    ")"
   ]
  },
  {
   "cell_type": "code",
   "execution_count": 46,
   "id": "0d38599c-1608-4756-af16-00502cc9a1c7",
   "metadata": {},
   "outputs": [],
   "source": [
    "add_density_entries_from_fcf(\n",
    "    output_folder_caf2 /  'xharpy.cif',\n",
    "    str(output_folder_caf2 /  'xharpy_6.fcf')\n",
    ")"
   ]
  },
  {
   "cell_type": "markdown",
   "id": "39c28687-d83b-46b8-9ed5-fdd6d3ccc281",
   "metadata": {},
   "source": [
    "## Refining with GPAW: Ice VI"
   ]
  },
  {
   "cell_type": "markdown",
   "id": "f23248a5-8e38-434c-a982-dd8af71aa86d",
   "metadata": {},
   "source": [
    "## Working outside of Jupyter"
   ]
  },
  {
   "cell_type": "code",
   "execution_count": null,
   "id": "1b212143-9f14-49ee-aef8-6f9e2078d08d",
   "metadata": {},
   "outputs": [],
   "source": []
  },
  {
   "cell_type": "code",
   "execution_count": null,
   "id": "06fda71b-4f5d-47c6-a86e-78320106376d",
   "metadata": {},
   "outputs": [],
   "source": []
  }
 ],
 "metadata": {
  "kernelspec": {
   "display_name": "Python 3 (ipykernel)",
   "language": "python",
   "name": "python3"
  },
  "language_info": {
   "codemirror_mode": {
    "name": "ipython",
    "version": 3
   },
   "file_extension": ".py",
   "mimetype": "text/x-python",
   "name": "python",
   "nbconvert_exporter": "python",
   "pygments_lexer": "ipython3",
   "version": "3.12.9"
  }
 },
 "nbformat": 4,
 "nbformat_minor": 5
}
